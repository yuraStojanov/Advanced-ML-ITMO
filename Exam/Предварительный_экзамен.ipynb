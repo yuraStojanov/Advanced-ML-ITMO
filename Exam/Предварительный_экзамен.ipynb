{
  "nbformat": 4,
  "nbformat_minor": 0,
  "metadata": {
    "colab": {
      "provenance": [],
      "collapsed_sections": [
        "TQid3fs9AY_r",
        "jnKrYWA6EHv1"
      ]
    },
    "kernelspec": {
      "name": "python3",
      "display_name": "Python 3"
    },
    "language_info": {
      "name": "python"
    }
  },
  "cells": [
    {
      "cell_type": "markdown",
      "source": [
        "## Задание 1"
      ],
      "metadata": {
        "id": "TQid3fs9AY_r"
      }
    },
    {
      "cell_type": "code",
      "source": [
        "# Дано:\n",
        "# уравнение линейной регрессии 2 + 3X1 - 4X2 = 0\n",
        "# Задаем значение X1 для тестового объекта\n",
        "\n",
        "# Найти:\n",
        "# отклик X2\n",
        "\n",
        "# Установи своё значение:\n",
        "X1_test = 4\n",
        "\n",
        "# Решаем уравнение относительно X2\n",
        "X2_test = (2 + 3*X1_test) / 4\n",
        "\n",
        "# Выводим предсказанный отклик X2\n",
        "print(\"Предсказанный отклик X2 для тестового объекта с X1 = 4:\", X2_test)"
      ],
      "metadata": {
        "colab": {
          "base_uri": "https://localhost:8080/"
        },
        "id": "0cKK8XhTAXlt",
        "outputId": "e22bc187-fc84-4945-e296-0bbe2320dba8"
      },
      "execution_count": null,
      "outputs": [
        {
          "output_type": "stream",
          "name": "stdout",
          "text": [
            "Предсказанный отклик X2 для тестового объекта с X1 = 4: 3.5\n"
          ]
        }
      ]
    },
    {
      "cell_type": "code",
      "execution_count": null,
      "metadata": {
        "id": "JoTgL6pJ-xR3"
      },
      "outputs": [],
      "source": [
        "import numpy as np"
      ]
    },
    {
      "cell_type": "code",
      "source": [
        "# Может ли данное уравнение задавать регрессию, построенную по тренировочным данным: (1, 2) и (-1, 0)? Если нет,\n",
        "# постройте правильное уравнение и введите его в поле ввода, если да - введите 1.\n",
        "\n",
        "# Для начала, давайте запишем уравнение линейной регрессии в общем виде: X2 = a*X1 + b, где a - коэффициент наклона, b - свободный член.\n",
        "\n",
        "УРАВНЕНИЕ ПРЯМОЙ: y = k*x + b\n",
        "\n",
        "# Затем, мы можем использовать данные (1, 2) и (-1, 0) для построения системы уравнений:\n",
        "\n",
        "# 2 = a*1 + b\n",
        "# 0 = a*(-1) + b"
      ],
      "metadata": {
        "id": "9fAM96_QAq_e",
        "colab": {
          "base_uri": "https://localhost:8080/",
          "height": 140
        },
        "outputId": "652aed54-2a67-4eaf-f1ab-2220aaa3595c"
      },
      "execution_count": null,
      "outputs": [
        {
          "output_type": "error",
          "ename": "SyntaxError",
          "evalue": "ignored",
          "traceback": [
            "\u001b[0;36m  File \u001b[0;32m\"<ipython-input-5-7add740d17ef>\"\u001b[0;36m, line \u001b[0;32m6\u001b[0m\n\u001b[0;31m    УРАВНЕНИЕ ПРЯМОЙ: y = k*x + b\u001b[0m\n\u001b[0m              ^\u001b[0m\n\u001b[0;31mSyntaxError\u001b[0m\u001b[0;31m:\u001b[0m invalid syntax\n"
          ]
        }
      ]
    },
    {
      "cell_type": "code",
      "source": [
        "from sympy import symbols, Eq, solve\n",
        "\n",
        "coeff_1 = [1, 2]\n",
        "coeff_2 = [-1, 0]\n",
        "\n",
        "# Создаем символьные переменные\n",
        "k, b = symbols('k b')\n",
        "\n",
        "# Задаем уравнения\n",
        "# coeff_1[1] = k*coeff_1[0] + b\n",
        "# coeff_2[1] = k*coeff_2[0] + b\n",
        "\n",
        "eq1 = Eq(coeff_1[1], k*coeff_1[0] + b)\n",
        "eq2 = Eq(coeff_2[1], k*coeff_2[0] + b)\n",
        "\n",
        "# Решаем систему уравнений\n",
        "solution = solve((eq1, eq2), (k, b))\n",
        "\n",
        "# Выводим решение\n",
        "print(\"Решение системы уравнений:\")\n",
        "print(\"k =\", solution[k])\n",
        "print(\"b =\", solution[b])\n",
        "\n",
        "# Выводим уравнение линейной регрессии:\n",
        "print(f\"X_2={solution[k]}*X_1+{solution[b]}\\n\")\n",
        "print(\"!!!!!\\nНЕ ЗАБУДЬ привести к виду: +/- X_1 +/- X_2 +/- b = 0\\n!!!!!\")"
      ],
      "metadata": {
        "colab": {
          "base_uri": "https://localhost:8080/"
        },
        "id": "Z9a1Q-Bv-1Qk",
        "outputId": "d8f76bcc-f3f4-4f67-c40b-95cadbb0ab03"
      },
      "execution_count": null,
      "outputs": [
        {
          "output_type": "stream",
          "name": "stdout",
          "text": [
            "Решение системы уравнений:\n",
            "k = 1\n",
            "b = 1\n",
            "X_2=1*X_1+1\n",
            "\n",
            "!!!!!\n",
            "НЕ ЗАБУДЬ привести к виду: +/- X_1 +/- X_2 +/- b = 0\n",
            "!!!!!\n"
          ]
        }
      ]
    },
    {
      "cell_type": "markdown",
      "source": [
        "## Задание 2"
      ],
      "metadata": {
        "id": "jnKrYWA6EHv1"
      }
    },
    {
      "cell_type": "code",
      "source": [
        "# Модель логистической регрессии обучена на определение класса +. Ψ = -2.992 + 0.240 * X1 + 1.102 * X2. На рисунке\n",
        "# отображены точки, на которых обучена модель, но вам неизвестно какие из них относятся к классу + и -."
      ],
      "metadata": {
        "id": "RNxY0tKqHb-Q"
      },
      "execution_count": null,
      "outputs": []
    },
    {
      "cell_type": "markdown",
      "source": [
        "![image.png](data:image/png;base64,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)"
      ],
      "metadata": {
        "id": "xCr_F8X-HkU0"
      }
    },
    {
      "cell_type": "code",
      "source": [
        "# Определите, в каком направлении расположен нормальный вектор гиперплоскости.\n",
        "# Дано:\n",
        "X1, X2 = symbols('X1 X2')\n",
        "\n",
        "# Введи свои коэфф-ы:\n",
        "θ_0 = -2.992\n",
        "θ_1 = 0.240\n",
        "θ_2 = 1.102\n",
        "\n",
        "Ψ = θ_0 + θ_1 * X1 + θ_2 * X2\n",
        "\n",
        "print(\"Ψ = \", Ψ)\n",
        "print(\"\\nКоордината вектора нормали X1:\", Ψ.coeff(X1).round(3))\n",
        "print(\"Координата вектора нормали X2:\", Ψ.coeff(X2).round(3))"
      ],
      "metadata": {
        "colab": {
          "base_uri": "https://localhost:8080/"
        },
        "id": "0rE7BtfoCdy8",
        "outputId": "c8d98aa7-578b-4824-f2f5-719c77730862"
      },
      "execution_count": null,
      "outputs": [
        {
          "output_type": "stream",
          "name": "stdout",
          "text": [
            "Ψ =  0.24*X1 + 1.102*X2 - 2.992\n",
            "\n",
            "Координата вектора нормали X1: 0.240\n",
            "Координата вектора нормали X2: 1.102\n"
          ]
        }
      ]
    },
    {
      "cell_type": "code",
      "source": [
        "# Учитывая, что тестовая точка А с координатами (0, 0) относится к классу +, верно ли она классифицирована моделью?\n",
        "# Введите 1 если точка классифицирована верно, 0 - если нет:\n",
        "\n",
        "# Тут ВПИШИ координаты точки, которые проверяешь:\n",
        "check = [0, 0]\n",
        "\n",
        "# Подставляем значения координат точки в уравнение модели\n",
        "result = Ψ.subs([(X1, check[0]), (X2, check[1])])\n",
        "\n",
        "# Проверяем, корректно ли модель классифицировала точку А\n",
        "if result > 0:\n",
        "    print(\"Модель корректно классифицировала тестовое наблюдение\")\n",
        "    answer = 1\n",
        "else:\n",
        "    print(\"Модель некорректно классифицировала тестовое наблюдение\")\n",
        "    answer = 0\n",
        "\n",
        "print(\"Ответ:\", answer)"
      ],
      "metadata": {
        "colab": {
          "base_uri": "https://localhost:8080/"
        },
        "id": "tiWDt0jjI2kv",
        "outputId": "2b5dbef7-afaf-4327-cd2a-e7aa7faa36e0"
      },
      "execution_count": null,
      "outputs": [
        {
          "output_type": "stream",
          "name": "stdout",
          "text": [
            "Модель некорректно классифицировала тестовое наблюдение\n",
            "Ответ: 0\n"
          ]
        }
      ]
    },
    {
      "cell_type": "code",
      "source": [
        "from math import exp\n",
        "\n",
        "# Вычислите вероятность отнесения точки А к классу +:\n",
        "\n",
        "p = 1 / (1 + exp(-(result)))\n",
        "print(\"Вероятность отнесения точки А к классу +: \", round(p, 3))\n",
        "\n",
        "# К классу \"-\", находим вычитанием из 1"
      ],
      "metadata": {
        "colab": {
          "base_uri": "https://localhost:8080/"
        },
        "id": "DjDIcAL1KIgZ",
        "outputId": "acb389f0-6e91-46a7-a62c-c3586f1f83b8"
      },
      "execution_count": null,
      "outputs": [
        {
          "output_type": "stream",
          "name": "stdout",
          "text": [
            "Вероятность отнесения точки А к классу +:  0.048\n"
          ]
        }
      ]
    },
    {
      "cell_type": "markdown",
      "source": [
        "## Задание 3"
      ],
      "metadata": {
        "id": "Ltt_k5C2PGfZ"
      }
    },
    {
      "cell_type": "code",
      "source": [
        "import pandas as pd\n",
        "\n",
        "# Вводим имя своего файла\n",
        "df = pd.read_csv(\"report.csv\", encoding_errors='ignore')\n",
        "\n",
        "# Указываем нужный столбец в одинарных скобках и нужные условия (здесь отрезок [10, 100])\n",
        "filtered_df = df[(df['MIP'] >= 10) & (df['MIP'] <= 100)]\n",
        "\n",
        "# Подсчет числа строк в полученной выборке\n",
        "num_rows = len(filtered_df)\n",
        "\n",
        "# Вывод числа строк в выборке\n",
        "print(\"Число строк в полученной выборке:\", num_rows)"
      ],
      "metadata": {
        "colab": {
          "base_uri": "https://localhost:8080/"
        },
        "id": "6BwPwlfOPJVn",
        "outputId": "c59f6148-7f1a-4623-a70f-8e3dec23a194"
      },
      "execution_count": null,
      "outputs": [
        {
          "output_type": "stream",
          "name": "stdout",
          "text": [
            "Число строк в полученной выборке: 4218\n"
          ]
        }
      ]
    },
    {
      "cell_type": "code",
      "source": [
        "df.head(5)"
      ],
      "metadata": {
        "colab": {
          "base_uri": "https://localhost:8080/",
          "height": 206
        },
        "id": "fAkN0Tpju6Vh",
        "outputId": "bc431483-b709-48d1-9772-b06e4cd38a58"
      },
      "execution_count": null,
      "outputs": [
        {
          "output_type": "execute_result",
          "data": {
            "text/plain": [
              "          MIP      STDIP      EKIP       SIP         MC       STDC        EKC  \\\n",
              "0  137.218750  45.390655  0.034985  0.134409   3.204013  17.177857   7.494588   \n",
              "1   93.773438  41.883062  0.371402  1.291232   1.482441  12.959050  12.242911   \n",
              "2   73.632812  35.461218  1.153607  4.161082   2.099498  13.057474  10.013591   \n",
              "3   93.429688  39.883166  0.602060  1.518548   2.475753  14.146578   8.770640   \n",
              "4  131.625000  44.111896  0.108905  0.239879  33.888796  70.398342   1.689460   \n",
              "\n",
              "           SC  TARGET  \n",
              "0   74.003104       0  \n",
              "1  180.158844       0  \n",
              "2  140.894151       0  \n",
              "3  107.970173       0  \n",
              "4    1.031847       0  "
            ],
            "text/html": [
              "\n",
              "  <div id=\"df-e4b2a165-93de-4d5b-bc89-e8c6e2ce24c0\" class=\"colab-df-container\">\n",
              "    <div>\n",
              "<style scoped>\n",
              "    .dataframe tbody tr th:only-of-type {\n",
              "        vertical-align: middle;\n",
              "    }\n",
              "\n",
              "    .dataframe tbody tr th {\n",
              "        vertical-align: top;\n",
              "    }\n",
              "\n",
              "    .dataframe thead th {\n",
              "        text-align: right;\n",
              "    }\n",
              "</style>\n",
              "<table border=\"1\" class=\"dataframe\">\n",
              "  <thead>\n",
              "    <tr style=\"text-align: right;\">\n",
              "      <th></th>\n",
              "      <th>MIP</th>\n",
              "      <th>STDIP</th>\n",
              "      <th>EKIP</th>\n",
              "      <th>SIP</th>\n",
              "      <th>MC</th>\n",
              "      <th>STDC</th>\n",
              "      <th>EKC</th>\n",
              "      <th>SC</th>\n",
              "      <th>TARGET</th>\n",
              "    </tr>\n",
              "  </thead>\n",
              "  <tbody>\n",
              "    <tr>\n",
              "      <th>0</th>\n",
              "      <td>137.218750</td>\n",
              "      <td>45.390655</td>\n",
              "      <td>0.034985</td>\n",
              "      <td>0.134409</td>\n",
              "      <td>3.204013</td>\n",
              "      <td>17.177857</td>\n",
              "      <td>7.494588</td>\n",
              "      <td>74.003104</td>\n",
              "      <td>0</td>\n",
              "    </tr>\n",
              "    <tr>\n",
              "      <th>1</th>\n",
              "      <td>93.773438</td>\n",
              "      <td>41.883062</td>\n",
              "      <td>0.371402</td>\n",
              "      <td>1.291232</td>\n",
              "      <td>1.482441</td>\n",
              "      <td>12.959050</td>\n",
              "      <td>12.242911</td>\n",
              "      <td>180.158844</td>\n",
              "      <td>0</td>\n",
              "    </tr>\n",
              "    <tr>\n",
              "      <th>2</th>\n",
              "      <td>73.632812</td>\n",
              "      <td>35.461218</td>\n",
              "      <td>1.153607</td>\n",
              "      <td>4.161082</td>\n",
              "      <td>2.099498</td>\n",
              "      <td>13.057474</td>\n",
              "      <td>10.013591</td>\n",
              "      <td>140.894151</td>\n",
              "      <td>0</td>\n",
              "    </tr>\n",
              "    <tr>\n",
              "      <th>3</th>\n",
              "      <td>93.429688</td>\n",
              "      <td>39.883166</td>\n",
              "      <td>0.602060</td>\n",
              "      <td>1.518548</td>\n",
              "      <td>2.475753</td>\n",
              "      <td>14.146578</td>\n",
              "      <td>8.770640</td>\n",
              "      <td>107.970173</td>\n",
              "      <td>0</td>\n",
              "    </tr>\n",
              "    <tr>\n",
              "      <th>4</th>\n",
              "      <td>131.625000</td>\n",
              "      <td>44.111896</td>\n",
              "      <td>0.108905</td>\n",
              "      <td>0.239879</td>\n",
              "      <td>33.888796</td>\n",
              "      <td>70.398342</td>\n",
              "      <td>1.689460</td>\n",
              "      <td>1.031847</td>\n",
              "      <td>0</td>\n",
              "    </tr>\n",
              "  </tbody>\n",
              "</table>\n",
              "</div>\n",
              "    <div class=\"colab-df-buttons\">\n",
              "\n",
              "  <div class=\"colab-df-container\">\n",
              "    <button class=\"colab-df-convert\" onclick=\"convertToInteractive('df-e4b2a165-93de-4d5b-bc89-e8c6e2ce24c0')\"\n",
              "            title=\"Convert this dataframe to an interactive table.\"\n",
              "            style=\"display:none;\">\n",
              "\n",
              "  <svg xmlns=\"http://www.w3.org/2000/svg\" height=\"24px\" viewBox=\"0 -960 960 960\">\n",
              "    <path d=\"M120-120v-720h720v720H120Zm60-500h600v-160H180v160Zm220 220h160v-160H400v160Zm0 220h160v-160H400v160ZM180-400h160v-160H180v160Zm440 0h160v-160H620v160ZM180-180h160v-160H180v160Zm440 0h160v-160H620v160Z\"/>\n",
              "  </svg>\n",
              "    </button>\n",
              "\n",
              "  <style>\n",
              "    .colab-df-container {\n",
              "      display:flex;\n",
              "      gap: 12px;\n",
              "    }\n",
              "\n",
              "    .colab-df-convert {\n",
              "      background-color: #E8F0FE;\n",
              "      border: none;\n",
              "      border-radius: 50%;\n",
              "      cursor: pointer;\n",
              "      display: none;\n",
              "      fill: #1967D2;\n",
              "      height: 32px;\n",
              "      padding: 0 0 0 0;\n",
              "      width: 32px;\n",
              "    }\n",
              "\n",
              "    .colab-df-convert:hover {\n",
              "      background-color: #E2EBFA;\n",
              "      box-shadow: 0px 1px 2px rgba(60, 64, 67, 0.3), 0px 1px 3px 1px rgba(60, 64, 67, 0.15);\n",
              "      fill: #174EA6;\n",
              "    }\n",
              "\n",
              "    .colab-df-buttons div {\n",
              "      margin-bottom: 4px;\n",
              "    }\n",
              "\n",
              "    [theme=dark] .colab-df-convert {\n",
              "      background-color: #3B4455;\n",
              "      fill: #D2E3FC;\n",
              "    }\n",
              "\n",
              "    [theme=dark] .colab-df-convert:hover {\n",
              "      background-color: #434B5C;\n",
              "      box-shadow: 0px 1px 3px 1px rgba(0, 0, 0, 0.15);\n",
              "      filter: drop-shadow(0px 1px 2px rgba(0, 0, 0, 0.3));\n",
              "      fill: #FFFFFF;\n",
              "    }\n",
              "  </style>\n",
              "\n",
              "    <script>\n",
              "      const buttonEl =\n",
              "        document.querySelector('#df-e4b2a165-93de-4d5b-bc89-e8c6e2ce24c0 button.colab-df-convert');\n",
              "      buttonEl.style.display =\n",
              "        google.colab.kernel.accessAllowed ? 'block' : 'none';\n",
              "\n",
              "      async function convertToInteractive(key) {\n",
              "        const element = document.querySelector('#df-e4b2a165-93de-4d5b-bc89-e8c6e2ce24c0');\n",
              "        const dataTable =\n",
              "          await google.colab.kernel.invokeFunction('convertToInteractive',\n",
              "                                                    [key], {});\n",
              "        if (!dataTable) return;\n",
              "\n",
              "        const docLinkHtml = 'Like what you see? Visit the ' +\n",
              "          '<a target=\"_blank\" href=https://colab.research.google.com/notebooks/data_table.ipynb>data table notebook</a>'\n",
              "          + ' to learn more about interactive tables.';\n",
              "        element.innerHTML = '';\n",
              "        dataTable['output_type'] = 'display_data';\n",
              "        await google.colab.output.renderOutput(dataTable, element);\n",
              "        const docLink = document.createElement('div');\n",
              "        docLink.innerHTML = docLinkHtml;\n",
              "        element.appendChild(docLink);\n",
              "      }\n",
              "    </script>\n",
              "  </div>\n",
              "\n",
              "\n",
              "<div id=\"df-0ada939b-d7a9-4aa0-b0a5-b262407a8997\">\n",
              "  <button class=\"colab-df-quickchart\" onclick=\"quickchart('df-0ada939b-d7a9-4aa0-b0a5-b262407a8997')\"\n",
              "            title=\"Suggest charts\"\n",
              "            style=\"display:none;\">\n",
              "\n",
              "<svg xmlns=\"http://www.w3.org/2000/svg\" height=\"24px\"viewBox=\"0 0 24 24\"\n",
              "     width=\"24px\">\n",
              "    <g>\n",
              "        <path d=\"M19 3H5c-1.1 0-2 .9-2 2v14c0 1.1.9 2 2 2h14c1.1 0 2-.9 2-2V5c0-1.1-.9-2-2-2zM9 17H7v-7h2v7zm4 0h-2V7h2v10zm4 0h-2v-4h2v4z\"/>\n",
              "    </g>\n",
              "</svg>\n",
              "  </button>\n",
              "\n",
              "<style>\n",
              "  .colab-df-quickchart {\n",
              "      --bg-color: #E8F0FE;\n",
              "      --fill-color: #1967D2;\n",
              "      --hover-bg-color: #E2EBFA;\n",
              "      --hover-fill-color: #174EA6;\n",
              "      --disabled-fill-color: #AAA;\n",
              "      --disabled-bg-color: #DDD;\n",
              "  }\n",
              "\n",
              "  [theme=dark] .colab-df-quickchart {\n",
              "      --bg-color: #3B4455;\n",
              "      --fill-color: #D2E3FC;\n",
              "      --hover-bg-color: #434B5C;\n",
              "      --hover-fill-color: #FFFFFF;\n",
              "      --disabled-bg-color: #3B4455;\n",
              "      --disabled-fill-color: #666;\n",
              "  }\n",
              "\n",
              "  .colab-df-quickchart {\n",
              "    background-color: var(--bg-color);\n",
              "    border: none;\n",
              "    border-radius: 50%;\n",
              "    cursor: pointer;\n",
              "    display: none;\n",
              "    fill: var(--fill-color);\n",
              "    height: 32px;\n",
              "    padding: 0;\n",
              "    width: 32px;\n",
              "  }\n",
              "\n",
              "  .colab-df-quickchart:hover {\n",
              "    background-color: var(--hover-bg-color);\n",
              "    box-shadow: 0 1px 2px rgba(60, 64, 67, 0.3), 0 1px 3px 1px rgba(60, 64, 67, 0.15);\n",
              "    fill: var(--button-hover-fill-color);\n",
              "  }\n",
              "\n",
              "  .colab-df-quickchart-complete:disabled,\n",
              "  .colab-df-quickchart-complete:disabled:hover {\n",
              "    background-color: var(--disabled-bg-color);\n",
              "    fill: var(--disabled-fill-color);\n",
              "    box-shadow: none;\n",
              "  }\n",
              "\n",
              "  .colab-df-spinner {\n",
              "    border: 2px solid var(--fill-color);\n",
              "    border-color: transparent;\n",
              "    border-bottom-color: var(--fill-color);\n",
              "    animation:\n",
              "      spin 1s steps(1) infinite;\n",
              "  }\n",
              "\n",
              "  @keyframes spin {\n",
              "    0% {\n",
              "      border-color: transparent;\n",
              "      border-bottom-color: var(--fill-color);\n",
              "      border-left-color: var(--fill-color);\n",
              "    }\n",
              "    20% {\n",
              "      border-color: transparent;\n",
              "      border-left-color: var(--fill-color);\n",
              "      border-top-color: var(--fill-color);\n",
              "    }\n",
              "    30% {\n",
              "      border-color: transparent;\n",
              "      border-left-color: var(--fill-color);\n",
              "      border-top-color: var(--fill-color);\n",
              "      border-right-color: var(--fill-color);\n",
              "    }\n",
              "    40% {\n",
              "      border-color: transparent;\n",
              "      border-right-color: var(--fill-color);\n",
              "      border-top-color: var(--fill-color);\n",
              "    }\n",
              "    60% {\n",
              "      border-color: transparent;\n",
              "      border-right-color: var(--fill-color);\n",
              "    }\n",
              "    80% {\n",
              "      border-color: transparent;\n",
              "      border-right-color: var(--fill-color);\n",
              "      border-bottom-color: var(--fill-color);\n",
              "    }\n",
              "    90% {\n",
              "      border-color: transparent;\n",
              "      border-bottom-color: var(--fill-color);\n",
              "    }\n",
              "  }\n",
              "</style>\n",
              "\n",
              "  <script>\n",
              "    async function quickchart(key) {\n",
              "      const quickchartButtonEl =\n",
              "        document.querySelector('#' + key + ' button');\n",
              "      quickchartButtonEl.disabled = true;  // To prevent multiple clicks.\n",
              "      quickchartButtonEl.classList.add('colab-df-spinner');\n",
              "      try {\n",
              "        const charts = await google.colab.kernel.invokeFunction(\n",
              "            'suggestCharts', [key], {});\n",
              "      } catch (error) {\n",
              "        console.error('Error during call to suggestCharts:', error);\n",
              "      }\n",
              "      quickchartButtonEl.classList.remove('colab-df-spinner');\n",
              "      quickchartButtonEl.classList.add('colab-df-quickchart-complete');\n",
              "    }\n",
              "    (() => {\n",
              "      let quickchartButtonEl =\n",
              "        document.querySelector('#df-0ada939b-d7a9-4aa0-b0a5-b262407a8997 button');\n",
              "      quickchartButtonEl.style.display =\n",
              "        google.colab.kernel.accessAllowed ? 'block' : 'none';\n",
              "    })();\n",
              "  </script>\n",
              "</div>\n",
              "    </div>\n",
              "  </div>\n"
            ]
          },
          "metadata": {},
          "execution_count": 5
        }
      ]
    },
    {
      "cell_type": "code",
      "source": [
        "print(\"Выборочное среднее для столбца:\", round(filtered_df['MIP'].mean(), 3))\n",
        "print(\"Минимальное значение из столбца:\", round(min(filtered_df['MIP']), 3))"
      ],
      "metadata": {
        "colab": {
          "base_uri": "https://localhost:8080/"
        },
        "id": "kJYfJFVLPJY2",
        "outputId": "481bb985-9979-4401-c492-34489f12a4fd"
      },
      "execution_count": null,
      "outputs": [
        {
          "output_type": "stream",
          "name": "stdout",
          "text": [
            "Выборочное среднее для столбца: 77.053\n",
            "Минимальное значение из столбца: 10.008\n"
          ]
        }
      ]
    },
    {
      "cell_type": "code",
      "source": [
        "from sklearn.model_selection import train_test_split\n",
        "from sklearn.model_selection import StratifiedKFold\n",
        "\n",
        "# Установи свои параметры:\n",
        "test_size = 0.2\n",
        "random_state=33\n",
        "\n",
        "filtered_df = filtered_df.sort_values('SIP')\n",
        "\n",
        "def get_splits():\n",
        "    value = filtered_df['SIP']\n",
        "    x = filtered_df.drop(['STDC', 'SIP'], axis=1)\n",
        "    y = filtered_df['STDC'] if 'STDC' in filtered_df.columns else None\n",
        "    return train_test_split(x, y, test_size=test_size, random_state=random_state)\n",
        "\n",
        "x_train, x_test, y_train, y_test = get_splits()\n",
        "\n",
        "if y_train is not None:\n",
        "    print('Максимальное значение колонки:', round(y_train.max(), 3))\n",
        "else:\n",
        "    print('Столбец отсутствует в фрейме данных.')\n",
        "\n",
        "\n",
        "# костыльно, но пока иначе никак\n",
        "# работает - и на том спасибо\n",
        "# Сделаем стратификацию по столбцу \"таргет\"\n",
        "from sklearn.preprocessing import MinMaxScaler\n",
        "\n",
        "def get_splits():\n",
        "    x = filtered_df.drop(['TARGET'], axis=1)\n",
        "    y = filtered_df['TARGET'] if 'TARGET' in filtered_df.columns else None\n",
        "    return train_test_split(x, y, test_size=test_size, random_state=random_state, stratify=y)\n",
        "\n",
        "x_train, x_test, y_train, y_test = get_splits()\n",
        "\n",
        "scaler = MinMaxScaler()\n",
        "x_train = pd.DataFrame(scaler.fit_transform(x_train), columns=x_train.columns)\n",
        "x_test = pd.DataFrame(scaler.transform(x_test), columns=x_test.columns)\n",
        "\n",
        "print('Среднее из тренировочной выборки:', x_train['STDIP'].mean())"
      ],
      "metadata": {
        "colab": {
          "base_uri": "https://localhost:8080/"
        },
        "id": "TncB9HRnPJal",
        "outputId": "7f96f07f-b2b6-4820-cc0b-b8cd3dc1e2cd"
      },
      "execution_count": null,
      "outputs": [
        {
          "output_type": "stream",
          "name": "stdout",
          "text": [
            "Максимальное значение колонки: 109.655\n",
            "Среднее из тренировочной выборки: 0.25572456092231716\n"
          ]
        }
      ]
    },
    {
      "cell_type": "code",
      "source": [
        "x_train"
      ],
      "metadata": {
        "colab": {
          "base_uri": "https://localhost:8080/",
          "height": 423
        },
        "id": "lr9OnjM59-4U",
        "outputId": "a7e3feba-df69-4091-8644-a72dc865f320"
      },
      "execution_count": null,
      "outputs": [
        {
          "output_type": "execute_result",
          "data": {
            "text/plain": [
              "           MIP     STDIP      EKIP       SIP        MC      STDC       EKC  \\\n",
              "0     0.539630  0.262537  0.321231  0.150966  0.090880  0.424381  0.149904   \n",
              "1     0.996441  0.327414  0.031842  0.017488  0.007554  0.053820  0.391557   \n",
              "2     0.662210  0.230554  0.119420  0.056781  0.009783  0.072543  0.348471   \n",
              "3     0.990711  0.206057  0.001224  0.043113  0.010634  0.120162  0.309159   \n",
              "4     0.839396  0.202019  0.081787  0.050389  0.004276  0.032344  0.489895   \n",
              "...        ...       ...       ...       ...       ...       ...       ...   \n",
              "3369  0.936279  0.445888  0.048891  0.017584  0.003392  0.019261  0.599739   \n",
              "3370  0.790086  0.239246  0.094627  0.048639  0.014670  0.120519  0.263361   \n",
              "3371  0.941662  0.387585  0.035577  0.019488  0.027485  0.248402  0.224998   \n",
              "3372  0.857279  0.417550  0.245829  0.076215  0.267319  0.413204  0.102276   \n",
              "3373  0.977863  0.351275  0.042945  0.024335  0.020976  0.127912  0.231778   \n",
              "\n",
              "            SC  \n",
              "0     0.008344  \n",
              "1     0.150499  \n",
              "2     0.112724  \n",
              "3     0.070770  \n",
              "4     0.258204  \n",
              "...        ...  \n",
              "3369  0.406047  \n",
              "3370  0.050255  \n",
              "3371  0.028599  \n",
              "3372  0.003234  \n",
              "3373  0.037776  \n",
              "\n",
              "[3374 rows x 8 columns]"
            ],
            "text/html": [
              "\n",
              "  <div id=\"df-c79d96fe-c9c6-4f5f-8059-3e22e170daa6\" class=\"colab-df-container\">\n",
              "    <div>\n",
              "<style scoped>\n",
              "    .dataframe tbody tr th:only-of-type {\n",
              "        vertical-align: middle;\n",
              "    }\n",
              "\n",
              "    .dataframe tbody tr th {\n",
              "        vertical-align: top;\n",
              "    }\n",
              "\n",
              "    .dataframe thead th {\n",
              "        text-align: right;\n",
              "    }\n",
              "</style>\n",
              "<table border=\"1\" class=\"dataframe\">\n",
              "  <thead>\n",
              "    <tr style=\"text-align: right;\">\n",
              "      <th></th>\n",
              "      <th>MIP</th>\n",
              "      <th>STDIP</th>\n",
              "      <th>EKIP</th>\n",
              "      <th>SIP</th>\n",
              "      <th>MC</th>\n",
              "      <th>STDC</th>\n",
              "      <th>EKC</th>\n",
              "      <th>SC</th>\n",
              "    </tr>\n",
              "  </thead>\n",
              "  <tbody>\n",
              "    <tr>\n",
              "      <th>0</th>\n",
              "      <td>0.539630</td>\n",
              "      <td>0.262537</td>\n",
              "      <td>0.321231</td>\n",
              "      <td>0.150966</td>\n",
              "      <td>0.090880</td>\n",
              "      <td>0.424381</td>\n",
              "      <td>0.149904</td>\n",
              "      <td>0.008344</td>\n",
              "    </tr>\n",
              "    <tr>\n",
              "      <th>1</th>\n",
              "      <td>0.996441</td>\n",
              "      <td>0.327414</td>\n",
              "      <td>0.031842</td>\n",
              "      <td>0.017488</td>\n",
              "      <td>0.007554</td>\n",
              "      <td>0.053820</td>\n",
              "      <td>0.391557</td>\n",
              "      <td>0.150499</td>\n",
              "    </tr>\n",
              "    <tr>\n",
              "      <th>2</th>\n",
              "      <td>0.662210</td>\n",
              "      <td>0.230554</td>\n",
              "      <td>0.119420</td>\n",
              "      <td>0.056781</td>\n",
              "      <td>0.009783</td>\n",
              "      <td>0.072543</td>\n",
              "      <td>0.348471</td>\n",
              "      <td>0.112724</td>\n",
              "    </tr>\n",
              "    <tr>\n",
              "      <th>3</th>\n",
              "      <td>0.990711</td>\n",
              "      <td>0.206057</td>\n",
              "      <td>0.001224</td>\n",
              "      <td>0.043113</td>\n",
              "      <td>0.010634</td>\n",
              "      <td>0.120162</td>\n",
              "      <td>0.309159</td>\n",
              "      <td>0.070770</td>\n",
              "    </tr>\n",
              "    <tr>\n",
              "      <th>4</th>\n",
              "      <td>0.839396</td>\n",
              "      <td>0.202019</td>\n",
              "      <td>0.081787</td>\n",
              "      <td>0.050389</td>\n",
              "      <td>0.004276</td>\n",
              "      <td>0.032344</td>\n",
              "      <td>0.489895</td>\n",
              "      <td>0.258204</td>\n",
              "    </tr>\n",
              "    <tr>\n",
              "      <th>...</th>\n",
              "      <td>...</td>\n",
              "      <td>...</td>\n",
              "      <td>...</td>\n",
              "      <td>...</td>\n",
              "      <td>...</td>\n",
              "      <td>...</td>\n",
              "      <td>...</td>\n",
              "      <td>...</td>\n",
              "    </tr>\n",
              "    <tr>\n",
              "      <th>3369</th>\n",
              "      <td>0.936279</td>\n",
              "      <td>0.445888</td>\n",
              "      <td>0.048891</td>\n",
              "      <td>0.017584</td>\n",
              "      <td>0.003392</td>\n",
              "      <td>0.019261</td>\n",
              "      <td>0.599739</td>\n",
              "      <td>0.406047</td>\n",
              "    </tr>\n",
              "    <tr>\n",
              "      <th>3370</th>\n",
              "      <td>0.790086</td>\n",
              "      <td>0.239246</td>\n",
              "      <td>0.094627</td>\n",
              "      <td>0.048639</td>\n",
              "      <td>0.014670</td>\n",
              "      <td>0.120519</td>\n",
              "      <td>0.263361</td>\n",
              "      <td>0.050255</td>\n",
              "    </tr>\n",
              "    <tr>\n",
              "      <th>3371</th>\n",
              "      <td>0.941662</td>\n",
              "      <td>0.387585</td>\n",
              "      <td>0.035577</td>\n",
              "      <td>0.019488</td>\n",
              "      <td>0.027485</td>\n",
              "      <td>0.248402</td>\n",
              "      <td>0.224998</td>\n",
              "      <td>0.028599</td>\n",
              "    </tr>\n",
              "    <tr>\n",
              "      <th>3372</th>\n",
              "      <td>0.857279</td>\n",
              "      <td>0.417550</td>\n",
              "      <td>0.245829</td>\n",
              "      <td>0.076215</td>\n",
              "      <td>0.267319</td>\n",
              "      <td>0.413204</td>\n",
              "      <td>0.102276</td>\n",
              "      <td>0.003234</td>\n",
              "    </tr>\n",
              "    <tr>\n",
              "      <th>3373</th>\n",
              "      <td>0.977863</td>\n",
              "      <td>0.351275</td>\n",
              "      <td>0.042945</td>\n",
              "      <td>0.024335</td>\n",
              "      <td>0.020976</td>\n",
              "      <td>0.127912</td>\n",
              "      <td>0.231778</td>\n",
              "      <td>0.037776</td>\n",
              "    </tr>\n",
              "  </tbody>\n",
              "</table>\n",
              "<p>3374 rows × 8 columns</p>\n",
              "</div>\n",
              "    <div class=\"colab-df-buttons\">\n",
              "\n",
              "  <div class=\"colab-df-container\">\n",
              "    <button class=\"colab-df-convert\" onclick=\"convertToInteractive('df-c79d96fe-c9c6-4f5f-8059-3e22e170daa6')\"\n",
              "            title=\"Convert this dataframe to an interactive table.\"\n",
              "            style=\"display:none;\">\n",
              "\n",
              "  <svg xmlns=\"http://www.w3.org/2000/svg\" height=\"24px\" viewBox=\"0 -960 960 960\">\n",
              "    <path d=\"M120-120v-720h720v720H120Zm60-500h600v-160H180v160Zm220 220h160v-160H400v160Zm0 220h160v-160H400v160ZM180-400h160v-160H180v160Zm440 0h160v-160H620v160ZM180-180h160v-160H180v160Zm440 0h160v-160H620v160Z\"/>\n",
              "  </svg>\n",
              "    </button>\n",
              "\n",
              "  <style>\n",
              "    .colab-df-container {\n",
              "      display:flex;\n",
              "      gap: 12px;\n",
              "    }\n",
              "\n",
              "    .colab-df-convert {\n",
              "      background-color: #E8F0FE;\n",
              "      border: none;\n",
              "      border-radius: 50%;\n",
              "      cursor: pointer;\n",
              "      display: none;\n",
              "      fill: #1967D2;\n",
              "      height: 32px;\n",
              "      padding: 0 0 0 0;\n",
              "      width: 32px;\n",
              "    }\n",
              "\n",
              "    .colab-df-convert:hover {\n",
              "      background-color: #E2EBFA;\n",
              "      box-shadow: 0px 1px 2px rgba(60, 64, 67, 0.3), 0px 1px 3px 1px rgba(60, 64, 67, 0.15);\n",
              "      fill: #174EA6;\n",
              "    }\n",
              "\n",
              "    .colab-df-buttons div {\n",
              "      margin-bottom: 4px;\n",
              "    }\n",
              "\n",
              "    [theme=dark] .colab-df-convert {\n",
              "      background-color: #3B4455;\n",
              "      fill: #D2E3FC;\n",
              "    }\n",
              "\n",
              "    [theme=dark] .colab-df-convert:hover {\n",
              "      background-color: #434B5C;\n",
              "      box-shadow: 0px 1px 3px 1px rgba(0, 0, 0, 0.15);\n",
              "      filter: drop-shadow(0px 1px 2px rgba(0, 0, 0, 0.3));\n",
              "      fill: #FFFFFF;\n",
              "    }\n",
              "  </style>\n",
              "\n",
              "    <script>\n",
              "      const buttonEl =\n",
              "        document.querySelector('#df-c79d96fe-c9c6-4f5f-8059-3e22e170daa6 button.colab-df-convert');\n",
              "      buttonEl.style.display =\n",
              "        google.colab.kernel.accessAllowed ? 'block' : 'none';\n",
              "\n",
              "      async function convertToInteractive(key) {\n",
              "        const element = document.querySelector('#df-c79d96fe-c9c6-4f5f-8059-3e22e170daa6');\n",
              "        const dataTable =\n",
              "          await google.colab.kernel.invokeFunction('convertToInteractive',\n",
              "                                                    [key], {});\n",
              "        if (!dataTable) return;\n",
              "\n",
              "        const docLinkHtml = 'Like what you see? Visit the ' +\n",
              "          '<a target=\"_blank\" href=https://colab.research.google.com/notebooks/data_table.ipynb>data table notebook</a>'\n",
              "          + ' to learn more about interactive tables.';\n",
              "        element.innerHTML = '';\n",
              "        dataTable['output_type'] = 'display_data';\n",
              "        await google.colab.output.renderOutput(dataTable, element);\n",
              "        const docLink = document.createElement('div');\n",
              "        docLink.innerHTML = docLinkHtml;\n",
              "        element.appendChild(docLink);\n",
              "      }\n",
              "    </script>\n",
              "  </div>\n",
              "\n",
              "\n",
              "<div id=\"df-ebc563eb-fe44-4d5e-8baa-18c77f730755\">\n",
              "  <button class=\"colab-df-quickchart\" onclick=\"quickchart('df-ebc563eb-fe44-4d5e-8baa-18c77f730755')\"\n",
              "            title=\"Suggest charts\"\n",
              "            style=\"display:none;\">\n",
              "\n",
              "<svg xmlns=\"http://www.w3.org/2000/svg\" height=\"24px\"viewBox=\"0 0 24 24\"\n",
              "     width=\"24px\">\n",
              "    <g>\n",
              "        <path d=\"M19 3H5c-1.1 0-2 .9-2 2v14c0 1.1.9 2 2 2h14c1.1 0 2-.9 2-2V5c0-1.1-.9-2-2-2zM9 17H7v-7h2v7zm4 0h-2V7h2v10zm4 0h-2v-4h2v4z\"/>\n",
              "    </g>\n",
              "</svg>\n",
              "  </button>\n",
              "\n",
              "<style>\n",
              "  .colab-df-quickchart {\n",
              "      --bg-color: #E8F0FE;\n",
              "      --fill-color: #1967D2;\n",
              "      --hover-bg-color: #E2EBFA;\n",
              "      --hover-fill-color: #174EA6;\n",
              "      --disabled-fill-color: #AAA;\n",
              "      --disabled-bg-color: #DDD;\n",
              "  }\n",
              "\n",
              "  [theme=dark] .colab-df-quickchart {\n",
              "      --bg-color: #3B4455;\n",
              "      --fill-color: #D2E3FC;\n",
              "      --hover-bg-color: #434B5C;\n",
              "      --hover-fill-color: #FFFFFF;\n",
              "      --disabled-bg-color: #3B4455;\n",
              "      --disabled-fill-color: #666;\n",
              "  }\n",
              "\n",
              "  .colab-df-quickchart {\n",
              "    background-color: var(--bg-color);\n",
              "    border: none;\n",
              "    border-radius: 50%;\n",
              "    cursor: pointer;\n",
              "    display: none;\n",
              "    fill: var(--fill-color);\n",
              "    height: 32px;\n",
              "    padding: 0;\n",
              "    width: 32px;\n",
              "  }\n",
              "\n",
              "  .colab-df-quickchart:hover {\n",
              "    background-color: var(--hover-bg-color);\n",
              "    box-shadow: 0 1px 2px rgba(60, 64, 67, 0.3), 0 1px 3px 1px rgba(60, 64, 67, 0.15);\n",
              "    fill: var(--button-hover-fill-color);\n",
              "  }\n",
              "\n",
              "  .colab-df-quickchart-complete:disabled,\n",
              "  .colab-df-quickchart-complete:disabled:hover {\n",
              "    background-color: var(--disabled-bg-color);\n",
              "    fill: var(--disabled-fill-color);\n",
              "    box-shadow: none;\n",
              "  }\n",
              "\n",
              "  .colab-df-spinner {\n",
              "    border: 2px solid var(--fill-color);\n",
              "    border-color: transparent;\n",
              "    border-bottom-color: var(--fill-color);\n",
              "    animation:\n",
              "      spin 1s steps(1) infinite;\n",
              "  }\n",
              "\n",
              "  @keyframes spin {\n",
              "    0% {\n",
              "      border-color: transparent;\n",
              "      border-bottom-color: var(--fill-color);\n",
              "      border-left-color: var(--fill-color);\n",
              "    }\n",
              "    20% {\n",
              "      border-color: transparent;\n",
              "      border-left-color: var(--fill-color);\n",
              "      border-top-color: var(--fill-color);\n",
              "    }\n",
              "    30% {\n",
              "      border-color: transparent;\n",
              "      border-left-color: var(--fill-color);\n",
              "      border-top-color: var(--fill-color);\n",
              "      border-right-color: var(--fill-color);\n",
              "    }\n",
              "    40% {\n",
              "      border-color: transparent;\n",
              "      border-right-color: var(--fill-color);\n",
              "      border-top-color: var(--fill-color);\n",
              "    }\n",
              "    60% {\n",
              "      border-color: transparent;\n",
              "      border-right-color: var(--fill-color);\n",
              "    }\n",
              "    80% {\n",
              "      border-color: transparent;\n",
              "      border-right-color: var(--fill-color);\n",
              "      border-bottom-color: var(--fill-color);\n",
              "    }\n",
              "    90% {\n",
              "      border-color: transparent;\n",
              "      border-bottom-color: var(--fill-color);\n",
              "    }\n",
              "  }\n",
              "</style>\n",
              "\n",
              "  <script>\n",
              "    async function quickchart(key) {\n",
              "      const quickchartButtonEl =\n",
              "        document.querySelector('#' + key + ' button');\n",
              "      quickchartButtonEl.disabled = true;  // To prevent multiple clicks.\n",
              "      quickchartButtonEl.classList.add('colab-df-spinner');\n",
              "      try {\n",
              "        const charts = await google.colab.kernel.invokeFunction(\n",
              "            'suggestCharts', [key], {});\n",
              "      } catch (error) {\n",
              "        console.error('Error during call to suggestCharts:', error);\n",
              "      }\n",
              "      quickchartButtonEl.classList.remove('colab-df-spinner');\n",
              "      quickchartButtonEl.classList.add('colab-df-quickchart-complete');\n",
              "    }\n",
              "    (() => {\n",
              "      let quickchartButtonEl =\n",
              "        document.querySelector('#df-ebc563eb-fe44-4d5e-8baa-18c77f730755 button');\n",
              "      quickchartButtonEl.style.display =\n",
              "        google.colab.kernel.accessAllowed ? 'block' : 'none';\n",
              "    })();\n",
              "  </script>\n",
              "</div>\n",
              "    </div>\n",
              "  </div>\n"
            ]
          },
          "metadata": {},
          "execution_count": 57
        }
      ]
    },
    {
      "cell_type": "markdown",
      "source": [
        "![image.png](data:image/png;base64,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)"
      ],
      "metadata": {
        "id": "2rR2gHkz_t5N"
      }
    },
    {
      "cell_type": "markdown",
      "source": [
        "![image.png](data:image/png;base64,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)"
      ],
      "metadata": {
        "id": "5agVDzxi_0bK"
      }
    },
    {
      "cell_type": "code",
      "source": [
        "from sklearn.linear_model import LogisticRegression\n",
        "from sklearn.metrics import confusion_matrix\n",
        "from sklearn.metrics import f1_score\n",
        "\n",
        "model = LogisticRegression().fit(x_train, y_train)\n",
        "y_pred = model.predict(x_test)\n",
        "cm = confusion_matrix(y_test, y_pred)\n",
        "TP = cm[1, 1]\n",
        "print(\"Значение True Positive (TP):\", TP)\n",
        "\n",
        "f1 = f1_score(y_test, y_pred)\n",
        "print(f1)"
      ],
      "metadata": {
        "colab": {
          "base_uri": "https://localhost:8080/"
        },
        "id": "VREOWJ6bRYId",
        "outputId": "6c8bf2ce-c5d5-42ec-c179-10f3a80b9bbf"
      },
      "execution_count": null,
      "outputs": [
        {
          "output_type": "stream",
          "name": "stdout",
          "text": [
            "Значение True Positive (TP): 246\n",
            "0.8929219600725952\n"
          ]
        }
      ]
    },
    {
      "cell_type": "code",
      "source": [
        "from sklearn.neighbors import KNeighborsClassifier\n",
        "\n",
        "knn_model = KNeighborsClassifier(n_neighbors=3)\n",
        "knn_model.fit(x_train, y_train)\n",
        "y_pred = knn_model.predict(x_test)\n",
        "tn, fp, fn, tp  = confusion_matrix(y_test, y_pred).ravel()\n",
        "print(\"Значение True Positive (TP):\", tp)\n",
        "\n",
        "f1 = f1_score(y_test, y_pred)\n",
        "print(f1)"
      ],
      "metadata": {
        "colab": {
          "base_uri": "https://localhost:8080/"
        },
        "id": "meueTJ30Mhmc",
        "outputId": "2be33766-103d-4a40-b7e2-dc060e5aa8a7"
      },
      "execution_count": null,
      "outputs": [
        {
          "output_type": "stream",
          "name": "stdout",
          "text": [
            "Значение True Positive (TP): 258\n",
            "0.918149466192171\n"
          ]
        }
      ]
    },
    {
      "cell_type": "markdown",
      "source": [
        "## Задание 4"
      ],
      "metadata": {
        "id": "R0jM4ZnUB4Dr"
      }
    },
    {
      "cell_type": "code",
      "source": [
        "import pandas as pd\n",
        "import numpy as np\n",
        "from sklearn.decomposition import PCA\n",
        "\n",
        "train_data = pd.read_csv('MNIST_train.csv')\n",
        "test_data = pd.read_csv('MNIST_test.csv')\n",
        "\n",
        "train_data_01 = train_data[train_data['label'].isin([0, 1])]\n",
        "test_data_01 = test_data[test_data['label'].isin([0, 1])]\n",
        "\n",
        "X_train = train_data_01.drop('label', axis=1).values\n",
        "y_train = train_data_01['label'].values\n",
        "X_test = test_data_01.drop('label', axis=1).values\n",
        "y_test = test_data_01['label'].values\n",
        "\n",
        "dim = 784\n",
        "X_train_ = X_train.reshape(len(X_train), dim)\n",
        "\n",
        "pca = PCA(svd_solver='full')\n",
        "pca = pca.fit(X_train_)\n",
        "\n",
        "stop = 0.9\n",
        "M = 0\n",
        "for arg, val in enumerate(np.cumsum(pca.explained_variance_ratio_)):\n",
        "    if val > stop:\n",
        "        M = arg + 1\n",
        "        break\n",
        "M"
      ],
      "metadata": {
        "colab": {
          "base_uri": "https://localhost:8080/"
        },
        "id": "WOS9HObfHaxX",
        "outputId": "92f14176-a767-4a0a-b096-3795bc7ba8d2"
      },
      "execution_count": null,
      "outputs": [
        {
          "output_type": "execute_result",
          "data": {
            "text/plain": [
              "49"
            ]
          },
          "metadata": {},
          "execution_count": 3
        }
      ]
    },
    {
      "cell_type": "code",
      "source": [
        "X_transformed = pca.transform(X_train_)\n",
        "print(\"Координата первого объекта - \", round(X_transformed[0][0], 3))\n",
        "# относительно 1 главной компоненты для 1 изображения в тренировочном наборе данных"
      ],
      "metadata": {
        "colab": {
          "base_uri": "https://localhost:8080/"
        },
        "id": "jGIPwcX0ImEI",
        "outputId": "6dce98af-17dc-4549-b1f4-3d6329b4a8ae"
      },
      "execution_count": null,
      "outputs": [
        {
          "output_type": "stream",
          "name": "stdout",
          "text": [
            "Координата первого объекта -  1127.513\n"
          ]
        }
      ]
    },
    {
      "cell_type": "code",
      "source": [
        "# УСТАНОВИ СВОИ ЗНАЧЕНИЯ\n",
        "n_estimators = 500\n",
        "learning_rate = 0.8\n",
        "random_state = 23\n",
        "max_depth = 2\n",
        "\n",
        "from sklearn.ensemble import GradientBoostingClassifier\n",
        "from sklearn.metrics import classification_report, confusion_matrix\n",
        "\n",
        "# Создание и обучение модели\n",
        "model = GradientBoostingClassifier(n_estimators=500, learning_rate=learning_rate,\n",
        "                                   random_state=random_state, max_depth=max_depth)\n",
        "model.fit(train_scores[:, :M], y_train)\n",
        "\n",
        "# Предсказание на тестовых данных\n",
        "y_pred = model.predict(test_scores[:, :M])\n",
        "\n",
        "# Построение classification_report\n",
        "report = classification_report(y_test, y_pred)\n",
        "\n",
        "matrix = confusion_matrix(y_test, y_pred)\n",
        "\n",
        "# Нахождение значения точности модели\n",
        "accuracy = matrix.diagonal().sum() / matrix.sum()\n",
        "\n",
        "print(\"Classification Report:\")\n",
        "print(report)\n",
        "print(\"\\n\\nConfusion Matrix, TP:\", matrix[1,1])\n",
        "print(\"Accuracy:\", round(accuracy, 4))"
      ],
      "metadata": {
        "colab": {
          "base_uri": "https://localhost:8080/"
        },
        "id": "WGPDtU1LB8O3",
        "outputId": "7c1cf09e-e138-475b-e09d-7a1665f88640"
      },
      "execution_count": null,
      "outputs": [
        {
          "output_type": "stream",
          "name": "stdout",
          "text": [
            "Classification Report:\n",
            "              precision    recall  f1-score   support\n",
            "\n",
            "           0       1.00      1.00      1.00       980\n",
            "           1       1.00      1.00      1.00      1135\n",
            "\n",
            "    accuracy                           1.00      2115\n",
            "   macro avg       1.00      1.00      1.00      2115\n",
            "weighted avg       1.00      1.00      1.00      2115\n",
            "\n",
            "\n",
            "\n",
            "Confusion Matrix, TP: 1134\n",
            "Accuracy: 0.9991\n"
          ]
        }
      ]
    },
    {
      "cell_type": "code",
      "source": [
        "accuracy"
      ],
      "metadata": {
        "colab": {
          "base_uri": "https://localhost:8080/"
        },
        "id": "erWxGeo6Kpr8",
        "outputId": "4b0198fb-87bb-4ddb-835e-61c78569f32f"
      },
      "execution_count": null,
      "outputs": [
        {
          "output_type": "execute_result",
          "data": {
            "text/plain": [
              "0.9990543735224586"
            ]
          },
          "metadata": {},
          "execution_count": 94
        }
      ]
    },
    {
      "cell_type": "markdown",
      "source": [
        "Или можно решить так последнее задание:"
      ],
      "metadata": {
        "id": "TxYu82kiNPGq"
      }
    },
    {
      "cell_type": "code",
      "source": [
        "gbs = GradientBoostingClassifier(n_estimators=n_estimators, learning_rate=learning_rate,\n",
        "                                 random_state=random_state, max_depth=max_depth)\n",
        "gbs.fit(X_train_, y_train)\n",
        "y_pred = gbs.predict(X_test)\n",
        "report =classification_report(y_test, y_pred, digits=3, output_dict=True)\n",
        "print(f'Accuracy: {report[\"accuracy\"]}')"
      ],
      "metadata": {
        "colab": {
          "base_uri": "https://localhost:8080/"
        },
        "id": "hpCp4a1HMPf6",
        "outputId": "4099006d-666a-4515-fbf2-733829e005a4"
      },
      "execution_count": null,
      "outputs": [
        {
          "output_type": "stream",
          "name": "stdout",
          "text": [
            "Accuracy: 0.9990543735224586\n"
          ]
        }
      ]
    }
  ]
}
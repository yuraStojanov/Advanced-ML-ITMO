{
  "nbformat": 4,
  "nbformat_minor": 0,
  "metadata": {
    "colab": {
      "provenance": [],
      "authorship_tag": "ABX9TyMKJrVJJ1WtLfB3vmeBNNiu",
      "include_colab_link": true
    },
    "kernelspec": {
      "name": "python3",
      "display_name": "Python 3"
    },
    "language_info": {
      "name": "python"
    }
  },
  "cells": [
    {
      "cell_type": "markdown",
      "metadata": {
        "id": "view-in-github",
        "colab_type": "text"
      },
      "source": [
        "<a href=\"https://colab.research.google.com/github/tutsilianna/Introduction_to_ML_and_Advanced_ML_Python/blob/main/kNN%20and%20Naive%20Bayes/Classifiers_k_NN_and_Naive_Bayes_%7C_Exercise_4.ipynb\" target=\"_parent\"><img src=\"https://colab.research.google.com/assets/colab-badge.svg\" alt=\"Open In Colab\"/></a>"
      ]
    },
    {
      "cell_type": "markdown",
      "source": [
        "# Task\n",
        "\n",
        "In problems, use the implementation of the k-nn method from the sklearn library:\n",
        "\n",
        "`from sklearn.neighbors import KNeighborsClassifier`\n",
        "\n",
        "The parameters that may be needed are: `n_neighbors` - the number of neighbors; `p `is a parameter in the Minkowski distance (`p = 1` corresponds to the Manhattan distance, `p = 2` corresponds to the Euclidean one)."
      ],
      "metadata": {
        "id": "VJkgSG_gUKEX"
      }
    },
    {
      "cell_type": "markdown",
      "source": [
        "## **Task1**\n",
        "\n"
      ],
      "metadata": {
        "id": "dqk77WePUsYK"
      }
    },
    {
      "cell_type": "markdown",
      "source": [
        "A table of some synthetic data is given. You must classify the new object using the $k$-nearest neighbor method.\n",
        "\n",
        "![image.png](data:image/png;base64,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)\n",
        "\n",
        "> Enter the distance from the new object with coordinates $(67,95)$  to the nearest neighbor using the Euclidean metric.\n",
        "\n",
        "> Enter the id of the three nearest points to $(67,95)$ for the Euclidean metric.\n",
        "\n",
        "> Enter a class for the new object with coordinates $(67,95)$ given $k=3$ for the Euclidean metric.\n",
        "\n",
        "> Enter the distance from the new object with coordinates $(67,95)$ to the nearest neighbor using the Manhattan distance.\n",
        "\n",
        "> Enter the id of the three nearest points to $(67,95)$ for the Manhattan distance.\n",
        "\n",
        "> Enter a class for the new object with coordinates $(67,95)$ given $k=3$ for the Manhattan distance."
      ],
      "metadata": {
        "id": "6CsBhIZ6jc29"
      }
    },
    {
      "cell_type": "code",
      "source": [
        "X = [42,47,46,33,10,40,76,81,32,82]\n",
        "Y = [53,50,69,67,37,22,37,96,90,70]\n",
        "points = [[42, 53],\n",
        "          [47,50],\n",
        "          [46, 69],\n",
        "          [33, 67],\n",
        "          [10, 37],\n",
        "          [40, 22],\n",
        "          [76,37],\n",
        "          [81,96],\n",
        "          [32,90],\n",
        "          [82,70]]\n",
        "\n",
        "Class = [0,0,1,0,0,0,0,1,0,0]"
      ],
      "metadata": {
        "id": "2AUV-Q9PVkNB"
      },
      "execution_count": null,
      "outputs": []
    },
    {
      "cell_type": "code",
      "source": [
        "import numpy as np\n",
        "\n",
        "def distanceEv(x, y):\n",
        "    return np.sqrt((x[0]-y[0])**2 + (x[1]-y[1])**2)\n",
        "\n",
        "def distanceMan(x, y):\n",
        "    return np.abs(x[0]-y[0]) + np.abs(x[1]-y[1])"
      ],
      "metadata": {
        "id": "cz68JyOuVeWc"
      },
      "execution_count": null,
      "outputs": []
    },
    {
      "cell_type": "code",
      "source": [
        "new = [67, 95]\n",
        "r = 10000\n",
        "ind = 0\n",
        "dist = {}\n",
        "for i in range(len(points)):\n",
        "    r1 = distanceEv(new, points[i])\n",
        "    dist[i+1] = round(r1, 3)\n",
        "    if r > r1:\n",
        "        r = r1\n",
        "        ind = i\n",
        "print(f'Nearest neighbor for a new object with coordinates (67, 95): ({points[i][0]}, {points[i][1]})  r={round(r,3)}')"
      ],
      "metadata": {
        "colab": {
          "base_uri": "https://localhost:8080/"
        },
        "id": "fjuMRDf5lt_3",
        "outputId": "8a25719a-4925-4f6e-e2c2-bf5f80fad61b"
      },
      "execution_count": null,
      "outputs": [
        {
          "output_type": "stream",
          "name": "stdout",
          "text": [
            "Nearest neighbor for a new object with coordinates (67, 95): (82, 70)  r=14.036\n"
          ]
        }
      ]
    },
    {
      "cell_type": "code",
      "source": [
        "sorted_dist = sorted(dist.items(), key=lambda item: item[1])\n",
        "print(sorted_dist)\n",
        "i = sorted_dist[0][0]\n",
        "j = sorted_dist[1][0]\n",
        "k = sorted_dist[2][0]\n",
        "print(Class[i-1], Class[j-1], Class[k-1])\n",
        "print('Class new object (67, 95) = 1')"
      ],
      "metadata": {
        "colab": {
          "base_uri": "https://localhost:8080/"
        },
        "id": "cWXHnYhyoir4",
        "outputId": "d9613a70-8f93-4780-f0f2-a20bd10de48b"
      },
      "execution_count": null,
      "outputs": [
        {
          "output_type": "stream",
          "name": "stdout",
          "text": [
            "[(8, 14.036), (10, 29.155), (3, 33.422), (9, 35.355), (4, 44.045), (1, 48.877), (2, 49.244), (7, 58.694), (6, 77.833), (5, 81.32)]\n",
            "1 0 1\n",
            "Class new object (67, 95) = 1\n"
          ]
        }
      ]
    },
    {
      "cell_type": "code",
      "source": [
        "new = [67, 95]\n",
        "r = 10000\n",
        "ind = 0\n",
        "dist = {}\n",
        "for i in range(len(points)):\n",
        "    r1 = distanceMan(new, points[i])\n",
        "    dist[i+1] = round(r1, 3)\n",
        "    if r > r1:\n",
        "        r = r1\n",
        "        ind = i\n",
        "print(f'Nearest neighbor for a new object with coordinates (67, 95): ({points[i][0]}, {points[i][1]})  r={round(r,3)}')"
      ],
      "metadata": {
        "colab": {
          "base_uri": "https://localhost:8080/"
        },
        "id": "lnbXattLrPPX",
        "outputId": "366dfb5f-4fa8-4465-c145-fb64f4ff434b"
      },
      "execution_count": null,
      "outputs": [
        {
          "output_type": "stream",
          "name": "stdout",
          "text": [
            "Nearest neighbor for a new object with coordinates (67, 95): (82, 70)  r=15\n"
          ]
        }
      ]
    },
    {
      "cell_type": "code",
      "source": [
        "sorted_dist = sorted(dist.items(), key=lambda item: item[1])\n",
        "print(sorted_dist)\n",
        "i = sorted_dist[0][0]\n",
        "j = sorted_dist[1][0]\n",
        "k = sorted_dist[2][0]\n",
        "print(Class[i-1], Class[j-1], Class[k-1])\n",
        "print('Class new object (67, 95) = 0')"
      ],
      "metadata": {
        "colab": {
          "base_uri": "https://localhost:8080/"
        },
        "id": "86zKNR-WrfNG",
        "outputId": "84361fac-3a33-4bdf-e941-0a038bbd8f30"
      },
      "execution_count": null,
      "outputs": [
        {
          "output_type": "stream",
          "name": "stdout",
          "text": [
            "[(8, 15), (9, 40), (10, 40), (3, 47), (4, 62), (2, 65), (1, 67), (7, 67), (6, 100), (5, 115)]\n",
            "1 0 0\n",
            "Class new object (67, 95) = 0\n"
          ]
        }
      ]
    },
    {
      "cell_type": "markdown",
      "source": [
        "## **Task 2**"
      ],
      "metadata": {
        "id": "spzn6ErVVy_E"
      }
    },
    {
      "cell_type": "markdown",
      "source": [
        "### A bit about model quality metrics"
      ],
      "metadata": {
        "id": "cvgXhP7SjNiY"
      }
    },
    {
      "cell_type": "markdown",
      "source": [
        "First, let's look at the so-called confusion matrix -- a way to divide objects into $4$ groups depending on the combination of the true class and the classifier prediction:\n",
        "\n",
        "-   TP (True Positives) -- correctly classified objects originally belonging to the class \"$+1$\";\n",
        "\n",
        "-   TN (True Negatives) -- correctly classified objects originally belonging to the class \"$-1$\";\n",
        "\n",
        "-   FN (False Negatives) -- misclassified objects that originally belonged to the class \"$+1$\" (type I error);\n",
        "\n",
        "-   FP (False Positives) -- misclassified objects that originally belonged to the class \"$-1$\" (type II error).\n",
        "\n",
        "Usually, of course, it is not absolute rates that are used, but relative ones (rates), ranging from $0$ to $1$:\n",
        "\n",
        "-   proportion of correct classifier predictions (so-called accuracy): $$\\mathsf{Accuracy} = \\frac{TP + TN}{TP + FP + FN + TN}.$$ This value shows the ratio of the number of correctly classified objects to the total number of classified objects and, roughly speaking, estimates the probability of a random object to be correctly classified.\n",
        "\n",
        "-   proportion of true positive predictions -- True Positives Rate (TPR), or Sensitivity, or Recall: $$\\mathsf{T P R}=\\frac{T P}{T P+F N}.$$ This value shows the ratio of the number of correctly classified objects belonging to class \"$+1$\" to the total number of objects belonging to class \"$+1$\". In other words, it is an estimate of the probability that an object belonging to class \"$+1$\" will be correctly classified.\n",
        "\n",
        "-   proportion of false positive predictions -- False Positives Rate (FPR): $$\\mathsf{F P R}=\\frac{F P}{FP + TN}.$$ The value indicates the ratio of the number of misclassified objects belonging to class \"$-1$\" to the total number of objects of class \"$-1$\", or estimates the probability that an object belonging to class \"$-1$\" will be misclassified.\n",
        "\n",
        "-   Specificity or True Negatives Rate (TNR): $$\\mathsf{TNR} = 1 - \\mathsf{F P R} =\\frac{T N}{T N+F P}.$$ The value indicates the ratio of the number of correctly classified objects belonging to class \"$-1$\" to the total number of objects of class \"$-1$\", or estimates the probability that an object belonging to class \"$-1$\" will be classified correctly.\n",
        "\n",
        "-   Precision: $$\\mathsf{Precision} =\\frac{TP}{TP + FP}.$$ The value indicates what proportion of objects assigned to the \"$+1$\" class by the classifier actually belong to this class.\n",
        "\n",
        "The question that naturally arises is whether there is some generalizable criterion,\n",
        "that can characterize the quality of the model. One of them is\n",
        "the so-called $F$-measure ($F_1$-measure, $F$ score, $F_1$ score).\n",
        "is defined by the following relationship:\n",
        "$$F = F_1 = 2 \\cdot \\frac{\\mathsf{Precision} \\cdot \\mathsf{Recall}}{\\mathsf{Precision} + \\mathsf{Recall}}.$$\n",
        "\n",
        "**Remark**. *The $F$-measure is the harmonic mean of the values\n",
        "$\\mathsf{Precision}$ and $\\mathsf{Recall}$ and is in the range of\n",
        "$[0, 1]$. The harmonic mean has an important property: it is close to\n",
        "zero if at least one of the arguments is close to zero. Therefore, it is\n",
        "much more preferable than, say, the arithmetic mean: if the\n",
        "algorithm assigns all objects to a positive class, then\n",
        "$\\mathsf{Recall}= 1$, and $\\mathsf{Precision}$ is likely to be\n",
        "small. But then the arithmetic mean will be greater than $0.5$, which, of course, is just too bad.*"
      ],
      "metadata": {
        "id": "Sw7F9qFny4a3"
      }
    },
    {
      "cell_type": "markdown",
      "source": [
        "[The provided dataset](https://drive.google.com/file/d/1CEHmYbLl-rTw2noXfKTdzPu2_Jte6U19/view?usp=sharing) comes from the 1994 census and contains information about a certain number of people living in the United States. The problem is to predict whether or not a person earns more than $50k per year. List of features:\n",
        "\n",
        "*   <b>age</b>: age of a person.\n",
        "*   <b>workclass</b>: the employment status of an individual.\n",
        "*   <b>fnlwgt</b>: final weight, representing the number of individuals that this row represents (a representative sample).\n",
        "*   <b>education</b>: highest level of education achieved by an individual.\n",
        "*   <b>education-num</b>: highest level of education achieved by an individual in numerical form.\n",
        "*   <b>marital-status</b>: marital status of an individual. Note that Married-civ-spouse refers to a civilian spouse, and Married-AF-spouse refers to a spouse in the Armed Forces.\n",
        "*   <b>occupation</b>: general type of occupation of an individual.\n",
        "*   <b>relationship</b>: relationship of this individual with others, for example, spouse (Husband). Each data point has only one relationship (echoing the <b>marital-status</b> feature).\n",
        "*   <b>race</b>: race.\n",
        "*   <b>sex</b>: biological sex of an individual.\n",
        "*   <b>capital-gain</b>: capital gains of an individual.\n",
        "*   <b>capital-loss</b>: capital losses of an individual.\n",
        "*   <b>hours-per-week</b>: number of hours the individual reported working per week.\n",
        "*   <b>native-country</b>: country of origin.\n",
        "*   <b>label</b>: income (target), more than $50,000 (>50K) or not (<=50K).\n",
        "\n"
      ],
      "metadata": {
        "id": "DRkpp67ryR2i"
      }
    },
    {
      "cell_type": "markdown",
      "source": [
        "### Importing libraries and reading the dataset"
      ],
      "metadata": {
        "id": "m7M58JXJkSXH"
      }
    },
    {
      "cell_type": "code",
      "source": [
        "import pandas as pd\n",
        "import numpy as np\n",
        "from sklearn.model_selection import train_test_split\n",
        "from sklearn.neighbors import KNeighborsClassifier\n",
        "from sklearn.preprocessing import MinMaxScaler\n",
        "from sklearn.preprocessing import StandardScaler\n",
        "from sklearn.metrics import f1_score\n",
        "from sklearn.metrics import classification_report\n",
        "from sklearn.impute import SimpleImputer\n",
        "import seaborn as sns\n",
        "from matplotlib import pyplot as plt"
      ],
      "metadata": {
        "id": "9t9hEC_UsajW"
      },
      "execution_count": 1,
      "outputs": []
    },
    {
      "cell_type": "code",
      "source": [
        "from google.colab import drive\n",
        "drive.mount('/content/drive')"
      ],
      "metadata": {
        "id": "-nGWREG0aIsY",
        "colab": {
          "base_uri": "https://localhost:8080/"
        },
        "outputId": "fb087f5a-8ddb-461f-93a1-e889dd475869"
      },
      "execution_count": 2,
      "outputs": [
        {
          "output_type": "stream",
          "name": "stdout",
          "text": [
            "Mounted at /content/drive\n"
          ]
        }
      ]
    },
    {
      "cell_type": "markdown",
      "source": [
        "Read the dataset into a dataframe. Based on the description of the features, you can get rid of the features education и marital-status right away. Remove the corresponding columns from the dataset."
      ],
      "metadata": {
        "id": "ou0BOahjkdC3"
      }
    },
    {
      "cell_type": "code",
      "source": [
        "data = pd.read_csv('/content/drive/MyDrive/itmo|AI_cources/adult_data_train.csv', encoding = 'utf-8', delimiter=',')"
      ],
      "metadata": {
        "id": "vHY-yrl4ZfVC"
      },
      "execution_count": 6,
      "outputs": []
    },
    {
      "cell_type": "markdown",
      "source": [
        "Remove the corresponding columns from the dataset. Determine the number of numeric and non-numeric features."
      ],
      "metadata": {
        "id": "3F_qyBb4KjCZ"
      }
    },
    {
      "cell_type": "code",
      "source": [
        "data.drop(axis=1, columns=['marital-status', 'education'], inplace=True)"
      ],
      "metadata": {
        "id": "mqk0b8Npykvy"
      },
      "execution_count": 7,
      "outputs": []
    },
    {
      "cell_type": "markdown",
      "source": [
        "Determine the number of numeric and non-numeric features."
      ],
      "metadata": {
        "id": "CZa79ro9kom4"
      }
    },
    {
      "cell_type": "code",
      "source": [
        "categorical = [i for i in data.columns if data[i].dtype.name == 'object']\n",
        "numeric = [i for i in data.columns if data[i].dtype.name != 'object']\n",
        "print(f'count non-numeric feauters {len(categorical)}, \\ncount numeric feauters {len(numeric)}')"
      ],
      "metadata": {
        "id": "Mw-T0ptjkrCm",
        "colab": {
          "base_uri": "https://localhost:8080/"
        },
        "outputId": "bc0c7c6f-7775-4816-cb96-bc63272a8dd2"
      },
      "execution_count": 8,
      "outputs": [
        {
          "output_type": "stream",
          "name": "stdout",
          "text": [
            "count non-numeric feauters 6, \n",
            "count numeric feauters 7\n"
          ]
        }
      ]
    },
    {
      "cell_type": "markdown",
      "source": [
        "Construct a histogram of the objects distribution by classes. Calculate the proportion of objects in the class  0 ."
      ],
      "metadata": {
        "id": "fO71_7bakraO"
      }
    },
    {
      "cell_type": "code",
      "source": [
        "data_0 = len(data[data['label'] == 0])\n",
        "round(data_0/len(data), 3)"
      ],
      "metadata": {
        "colab": {
          "base_uri": "https://localhost:8080/"
        },
        "id": "w2SrWlPjwvmI",
        "outputId": "d542201b-22c2-49be-9ccc-bb0a0ffa2239"
      },
      "execution_count": 9,
      "outputs": [
        {
          "output_type": "execute_result",
          "data": {
            "text/plain": [
              "0.759"
            ]
          },
          "metadata": {},
          "execution_count": 9
        }
      ]
    },
    {
      "cell_type": "markdown",
      "source": [
        "## 1. Building a base model\n",
        "\n",
        "As a first approximation, it makes sense to build a classification model relying solely on numerical features.\n",
        "\n",
        "Select only numerical features from the dataset. Use <code>train_test_split()</code> to split the dataset into training and test samples <b>with the parameters specified in your assignment</b>. Use stratification by column <code>label</code>.\n",
        "\n",
        "Find sample mean for the column <code>fnlwgt</code> of the obtained training dataset.\n",
        "\n",
        "Train <code>KNeighborsClassifier()</code> model with default parameters on the training dataset.\n",
        "\n",
        "As can be seen from the previous step, there is a clear imbalance of class representatives in the dataset. This should be taken into account when evaluating the model. Compute <code>f1_score()</code> for the test dataset (we recommend to use a <a href=\"https://scikit-learn.org/stable/modules/generated/sklearn.metrics.f1_score.html\">corresponding function</a> with default parameters).\n",
        "\n",
        "Alternatively, you can use the so-called <a href = \"https://scikit-learn.org/stable/modules/generated/sklearn.metrics.classification_report.html\"><code>classification_report()</code></a>, where several metrics are given at once (do not forget about the parameter <code>digits</code>)."
      ],
      "metadata": {
        "id": "BgPEf7arIQJR"
      }
    },
    {
      "cell_type": "code",
      "source": [
        "data_numeric = data.copy(deep=True)\n",
        "data_numeric.drop(axis=1, columns=categorical, inplace=True)"
      ],
      "metadata": {
        "id": "EiKm5417Jtll"
      },
      "execution_count": 10,
      "outputs": []
    },
    {
      "cell_type": "code",
      "source": [
        "train, test = train_test_split(data_numeric, test_size=0.2, random_state=21, stratify=data['label'])"
      ],
      "metadata": {
        "id": "X5ZqtcYfIttn"
      },
      "execution_count": 11,
      "outputs": []
    },
    {
      "cell_type": "code",
      "source": [
        "y_train = train['label']\n",
        "y_test  = test['label']"
      ],
      "metadata": {
        "id": "02nIZ7uOJObQ"
      },
      "execution_count": 12,
      "outputs": []
    },
    {
      "cell_type": "code",
      "source": [
        "train.drop(axis=1, columns=['label'], inplace=True)\n",
        "test.drop(axis=1, columns=['label'], inplace=True)"
      ],
      "metadata": {
        "id": "hqUuqHRJJPkp"
      },
      "execution_count": 13,
      "outputs": []
    },
    {
      "cell_type": "code",
      "source": [
        "print(f'Sample mean for the column \"fnlwgt\" = {round(train[\"fnlwgt\"].mean(), 3)}')"
      ],
      "metadata": {
        "colab": {
          "base_uri": "https://localhost:8080/"
        },
        "id": "v6ou8SO4KwTB",
        "outputId": "59fd37b0-2362-4fa1-b8ba-b1fcf5cfa644"
      },
      "execution_count": 14,
      "outputs": [
        {
          "output_type": "stream",
          "name": "stdout",
          "text": [
            "Sample mean for the column \"fnlwgt\" = 189611.447\n"
          ]
        }
      ]
    },
    {
      "cell_type": "code",
      "source": [
        "neigh = KNeighborsClassifier()\n",
        "neigh.fit(train, y_train)"
      ],
      "metadata": {
        "colab": {
          "base_uri": "https://localhost:8080/",
          "height": 74
        },
        "id": "g29mPcxeMC8q",
        "outputId": "a0c8c157-906c-431a-91fb-3f9c2e858cad"
      },
      "execution_count": 15,
      "outputs": [
        {
          "output_type": "execute_result",
          "data": {
            "text/plain": [
              "KNeighborsClassifier()"
            ],
            "text/html": [
              "<style>#sk-container-id-1 {color: black;background-color: white;}#sk-container-id-1 pre{padding: 0;}#sk-container-id-1 div.sk-toggleable {background-color: white;}#sk-container-id-1 label.sk-toggleable__label {cursor: pointer;display: block;width: 100%;margin-bottom: 0;padding: 0.3em;box-sizing: border-box;text-align: center;}#sk-container-id-1 label.sk-toggleable__label-arrow:before {content: \"▸\";float: left;margin-right: 0.25em;color: #696969;}#sk-container-id-1 label.sk-toggleable__label-arrow:hover:before {color: black;}#sk-container-id-1 div.sk-estimator:hover label.sk-toggleable__label-arrow:before {color: black;}#sk-container-id-1 div.sk-toggleable__content {max-height: 0;max-width: 0;overflow: hidden;text-align: left;background-color: #f0f8ff;}#sk-container-id-1 div.sk-toggleable__content pre {margin: 0.2em;color: black;border-radius: 0.25em;background-color: #f0f8ff;}#sk-container-id-1 input.sk-toggleable__control:checked~div.sk-toggleable__content {max-height: 200px;max-width: 100%;overflow: auto;}#sk-container-id-1 input.sk-toggleable__control:checked~label.sk-toggleable__label-arrow:before {content: \"▾\";}#sk-container-id-1 div.sk-estimator input.sk-toggleable__control:checked~label.sk-toggleable__label {background-color: #d4ebff;}#sk-container-id-1 div.sk-label input.sk-toggleable__control:checked~label.sk-toggleable__label {background-color: #d4ebff;}#sk-container-id-1 input.sk-hidden--visually {border: 0;clip: rect(1px 1px 1px 1px);clip: rect(1px, 1px, 1px, 1px);height: 1px;margin: -1px;overflow: hidden;padding: 0;position: absolute;width: 1px;}#sk-container-id-1 div.sk-estimator {font-family: monospace;background-color: #f0f8ff;border: 1px dotted black;border-radius: 0.25em;box-sizing: border-box;margin-bottom: 0.5em;}#sk-container-id-1 div.sk-estimator:hover {background-color: #d4ebff;}#sk-container-id-1 div.sk-parallel-item::after {content: \"\";width: 100%;border-bottom: 1px solid gray;flex-grow: 1;}#sk-container-id-1 div.sk-label:hover label.sk-toggleable__label {background-color: #d4ebff;}#sk-container-id-1 div.sk-serial::before {content: \"\";position: absolute;border-left: 1px solid gray;box-sizing: border-box;top: 0;bottom: 0;left: 50%;z-index: 0;}#sk-container-id-1 div.sk-serial {display: flex;flex-direction: column;align-items: center;background-color: white;padding-right: 0.2em;padding-left: 0.2em;position: relative;}#sk-container-id-1 div.sk-item {position: relative;z-index: 1;}#sk-container-id-1 div.sk-parallel {display: flex;align-items: stretch;justify-content: center;background-color: white;position: relative;}#sk-container-id-1 div.sk-item::before, #sk-container-id-1 div.sk-parallel-item::before {content: \"\";position: absolute;border-left: 1px solid gray;box-sizing: border-box;top: 0;bottom: 0;left: 50%;z-index: -1;}#sk-container-id-1 div.sk-parallel-item {display: flex;flex-direction: column;z-index: 1;position: relative;background-color: white;}#sk-container-id-1 div.sk-parallel-item:first-child::after {align-self: flex-end;width: 50%;}#sk-container-id-1 div.sk-parallel-item:last-child::after {align-self: flex-start;width: 50%;}#sk-container-id-1 div.sk-parallel-item:only-child::after {width: 0;}#sk-container-id-1 div.sk-dashed-wrapped {border: 1px dashed gray;margin: 0 0.4em 0.5em 0.4em;box-sizing: border-box;padding-bottom: 0.4em;background-color: white;}#sk-container-id-1 div.sk-label label {font-family: monospace;font-weight: bold;display: inline-block;line-height: 1.2em;}#sk-container-id-1 div.sk-label-container {text-align: center;}#sk-container-id-1 div.sk-container {/* jupyter's `normalize.less` sets `[hidden] { display: none; }` but bootstrap.min.css set `[hidden] { display: none !important; }` so we also need the `!important` here to be able to override the default hidden behavior on the sphinx rendered scikit-learn.org. See: https://github.com/scikit-learn/scikit-learn/issues/21755 */display: inline-block !important;position: relative;}#sk-container-id-1 div.sk-text-repr-fallback {display: none;}</style><div id=\"sk-container-id-1\" class=\"sk-top-container\"><div class=\"sk-text-repr-fallback\"><pre>KNeighborsClassifier()</pre><b>In a Jupyter environment, please rerun this cell to show the HTML representation or trust the notebook. <br />On GitHub, the HTML representation is unable to render, please try loading this page with nbviewer.org.</b></div><div class=\"sk-container\" hidden><div class=\"sk-item\"><div class=\"sk-estimator sk-toggleable\"><input class=\"sk-toggleable__control sk-hidden--visually\" id=\"sk-estimator-id-1\" type=\"checkbox\" checked><label for=\"sk-estimator-id-1\" class=\"sk-toggleable__label sk-toggleable__label-arrow\">KNeighborsClassifier</label><div class=\"sk-toggleable__content\"><pre>KNeighborsClassifier()</pre></div></div></div></div></div>"
            ]
          },
          "metadata": {},
          "execution_count": 15
        }
      ]
    },
    {
      "cell_type": "code",
      "source": [
        "y_pred = neigh.predict(test)\n",
        "round(f1_score(y_test, y_pred), 3)"
      ],
      "metadata": {
        "colab": {
          "base_uri": "https://localhost:8080/"
        },
        "id": "xU0XZ8_iNBXK",
        "outputId": "ff1e9043-87af-4024-8317-606ca6cfe569"
      },
      "execution_count": 16,
      "outputs": [
        {
          "output_type": "execute_result",
          "data": {
            "text/plain": [
              "0.38"
            ]
          },
          "metadata": {},
          "execution_count": 16
        }
      ]
    },
    {
      "cell_type": "markdown",
      "source": [
        "**Feature scaling**\n",
        "\n",
        "It is worth remembering that k-NN is a metric classifier, so feature values should be normalized before training the model.\n",
        "\n",
        "Train the <code>MinMaxScaler()</code> transformation on the training dataset and apply it to the training and test datasets.\n",
        "\n",
        "Find sample mean for the column <code>fnlwgt</code> of the obtained training dataset after normalization.\n",
        "\n",
        "Re-train and evaluate the model on the transformed data. Compute <code>f1_score()</code> for the test dataset."
      ],
      "metadata": {
        "id": "oPc_g7HRNgSu"
      }
    },
    {
      "cell_type": "code",
      "source": [
        "scaler = MinMaxScaler().fit(train)\n",
        "\n",
        "x_train = scaler.transform(train)\n",
        "x_test = scaler.transform(test)"
      ],
      "metadata": {
        "id": "NndEpSzK5LVW"
      },
      "execution_count": 19,
      "outputs": []
    },
    {
      "cell_type": "code",
      "source": [
        "'''scaler = MinMaxScaler().set_output(transform=\"pandas\")\n",
        "\n",
        "train_scaler = train.copy()\n",
        "train_scaler = scaler.fit_transform(train_scaler)\n",
        "train_scaler.head()'''"
      ],
      "metadata": {
        "colab": {
          "base_uri": "https://localhost:8080/",
          "height": 206
        },
        "id": "Xjgok8eENkbr",
        "outputId": "3057f8c4-4609-41f3-c0b8-7078dcc8b5f4"
      },
      "execution_count": null,
      "outputs": [
        {
          "output_type": "execute_result",
          "data": {
            "text/plain": [
              "            age    fnlwgt  education-num  capital-gain  capital-loss  \\\n",
              "11656  0.150685  0.128014       0.866667           0.0           0.0   \n",
              "17737  0.082192  0.181306       0.600000           0.0           0.0   \n",
              "4385   0.123288  0.057173       0.800000           0.0           0.0   \n",
              "23298  0.397260  0.246798       0.466667           0.0           0.0   \n",
              "3265   0.191781  0.089042       0.600000           0.0           0.0   \n",
              "\n",
              "       hours-per-week  \n",
              "11656        0.397959  \n",
              "17737        0.397959  \n",
              "4385         0.397959  \n",
              "23298        0.346939  \n",
              "3265         0.346939  "
            ],
            "text/html": [
              "\n",
              "  <div id=\"df-57b6ccd7-64ec-4de4-bce5-d341f7f5dcc8\" class=\"colab-df-container\">\n",
              "    <div>\n",
              "<style scoped>\n",
              "    .dataframe tbody tr th:only-of-type {\n",
              "        vertical-align: middle;\n",
              "    }\n",
              "\n",
              "    .dataframe tbody tr th {\n",
              "        vertical-align: top;\n",
              "    }\n",
              "\n",
              "    .dataframe thead th {\n",
              "        text-align: right;\n",
              "    }\n",
              "</style>\n",
              "<table border=\"1\" class=\"dataframe\">\n",
              "  <thead>\n",
              "    <tr style=\"text-align: right;\">\n",
              "      <th></th>\n",
              "      <th>age</th>\n",
              "      <th>fnlwgt</th>\n",
              "      <th>education-num</th>\n",
              "      <th>capital-gain</th>\n",
              "      <th>capital-loss</th>\n",
              "      <th>hours-per-week</th>\n",
              "    </tr>\n",
              "  </thead>\n",
              "  <tbody>\n",
              "    <tr>\n",
              "      <th>11656</th>\n",
              "      <td>0.150685</td>\n",
              "      <td>0.128014</td>\n",
              "      <td>0.866667</td>\n",
              "      <td>0.0</td>\n",
              "      <td>0.0</td>\n",
              "      <td>0.397959</td>\n",
              "    </tr>\n",
              "    <tr>\n",
              "      <th>17737</th>\n",
              "      <td>0.082192</td>\n",
              "      <td>0.181306</td>\n",
              "      <td>0.600000</td>\n",
              "      <td>0.0</td>\n",
              "      <td>0.0</td>\n",
              "      <td>0.397959</td>\n",
              "    </tr>\n",
              "    <tr>\n",
              "      <th>4385</th>\n",
              "      <td>0.123288</td>\n",
              "      <td>0.057173</td>\n",
              "      <td>0.800000</td>\n",
              "      <td>0.0</td>\n",
              "      <td>0.0</td>\n",
              "      <td>0.397959</td>\n",
              "    </tr>\n",
              "    <tr>\n",
              "      <th>23298</th>\n",
              "      <td>0.397260</td>\n",
              "      <td>0.246798</td>\n",
              "      <td>0.466667</td>\n",
              "      <td>0.0</td>\n",
              "      <td>0.0</td>\n",
              "      <td>0.346939</td>\n",
              "    </tr>\n",
              "    <tr>\n",
              "      <th>3265</th>\n",
              "      <td>0.191781</td>\n",
              "      <td>0.089042</td>\n",
              "      <td>0.600000</td>\n",
              "      <td>0.0</td>\n",
              "      <td>0.0</td>\n",
              "      <td>0.346939</td>\n",
              "    </tr>\n",
              "  </tbody>\n",
              "</table>\n",
              "</div>\n",
              "    <div class=\"colab-df-buttons\">\n",
              "\n",
              "  <div class=\"colab-df-container\">\n",
              "    <button class=\"colab-df-convert\" onclick=\"convertToInteractive('df-57b6ccd7-64ec-4de4-bce5-d341f7f5dcc8')\"\n",
              "            title=\"Convert this dataframe to an interactive table.\"\n",
              "            style=\"display:none;\">\n",
              "\n",
              "  <svg xmlns=\"http://www.w3.org/2000/svg\" height=\"24px\" viewBox=\"0 -960 960 960\">\n",
              "    <path d=\"M120-120v-720h720v720H120Zm60-500h600v-160H180v160Zm220 220h160v-160H400v160Zm0 220h160v-160H400v160ZM180-400h160v-160H180v160Zm440 0h160v-160H620v160ZM180-180h160v-160H180v160Zm440 0h160v-160H620v160Z\"/>\n",
              "  </svg>\n",
              "    </button>\n",
              "\n",
              "  <style>\n",
              "    .colab-df-container {\n",
              "      display:flex;\n",
              "      gap: 12px;\n",
              "    }\n",
              "\n",
              "    .colab-df-convert {\n",
              "      background-color: #E8F0FE;\n",
              "      border: none;\n",
              "      border-radius: 50%;\n",
              "      cursor: pointer;\n",
              "      display: none;\n",
              "      fill: #1967D2;\n",
              "      height: 32px;\n",
              "      padding: 0 0 0 0;\n",
              "      width: 32px;\n",
              "    }\n",
              "\n",
              "    .colab-df-convert:hover {\n",
              "      background-color: #E2EBFA;\n",
              "      box-shadow: 0px 1px 2px rgba(60, 64, 67, 0.3), 0px 1px 3px 1px rgba(60, 64, 67, 0.15);\n",
              "      fill: #174EA6;\n",
              "    }\n",
              "\n",
              "    .colab-df-buttons div {\n",
              "      margin-bottom: 4px;\n",
              "    }\n",
              "\n",
              "    [theme=dark] .colab-df-convert {\n",
              "      background-color: #3B4455;\n",
              "      fill: #D2E3FC;\n",
              "    }\n",
              "\n",
              "    [theme=dark] .colab-df-convert:hover {\n",
              "      background-color: #434B5C;\n",
              "      box-shadow: 0px 1px 3px 1px rgba(0, 0, 0, 0.15);\n",
              "      filter: drop-shadow(0px 1px 2px rgba(0, 0, 0, 0.3));\n",
              "      fill: #FFFFFF;\n",
              "    }\n",
              "  </style>\n",
              "\n",
              "    <script>\n",
              "      const buttonEl =\n",
              "        document.querySelector('#df-57b6ccd7-64ec-4de4-bce5-d341f7f5dcc8 button.colab-df-convert');\n",
              "      buttonEl.style.display =\n",
              "        google.colab.kernel.accessAllowed ? 'block' : 'none';\n",
              "\n",
              "      async function convertToInteractive(key) {\n",
              "        const element = document.querySelector('#df-57b6ccd7-64ec-4de4-bce5-d341f7f5dcc8');\n",
              "        const dataTable =\n",
              "          await google.colab.kernel.invokeFunction('convertToInteractive',\n",
              "                                                    [key], {});\n",
              "        if (!dataTable) return;\n",
              "\n",
              "        const docLinkHtml = 'Like what you see? Visit the ' +\n",
              "          '<a target=\"_blank\" href=https://colab.research.google.com/notebooks/data_table.ipynb>data table notebook</a>'\n",
              "          + ' to learn more about interactive tables.';\n",
              "        element.innerHTML = '';\n",
              "        dataTable['output_type'] = 'display_data';\n",
              "        await google.colab.output.renderOutput(dataTable, element);\n",
              "        const docLink = document.createElement('div');\n",
              "        docLink.innerHTML = docLinkHtml;\n",
              "        element.appendChild(docLink);\n",
              "      }\n",
              "    </script>\n",
              "  </div>\n",
              "\n",
              "\n",
              "<div id=\"df-ebc26d77-61a5-4882-a564-464ab273f4fd\">\n",
              "  <button class=\"colab-df-quickchart\" onclick=\"quickchart('df-ebc26d77-61a5-4882-a564-464ab273f4fd')\"\n",
              "            title=\"Suggest charts\"\n",
              "            style=\"display:none;\">\n",
              "\n",
              "<svg xmlns=\"http://www.w3.org/2000/svg\" height=\"24px\"viewBox=\"0 0 24 24\"\n",
              "     width=\"24px\">\n",
              "    <g>\n",
              "        <path d=\"M19 3H5c-1.1 0-2 .9-2 2v14c0 1.1.9 2 2 2h14c1.1 0 2-.9 2-2V5c0-1.1-.9-2-2-2zM9 17H7v-7h2v7zm4 0h-2V7h2v10zm4 0h-2v-4h2v4z\"/>\n",
              "    </g>\n",
              "</svg>\n",
              "  </button>\n",
              "\n",
              "<style>\n",
              "  .colab-df-quickchart {\n",
              "      --bg-color: #E8F0FE;\n",
              "      --fill-color: #1967D2;\n",
              "      --hover-bg-color: #E2EBFA;\n",
              "      --hover-fill-color: #174EA6;\n",
              "      --disabled-fill-color: #AAA;\n",
              "      --disabled-bg-color: #DDD;\n",
              "  }\n",
              "\n",
              "  [theme=dark] .colab-df-quickchart {\n",
              "      --bg-color: #3B4455;\n",
              "      --fill-color: #D2E3FC;\n",
              "      --hover-bg-color: #434B5C;\n",
              "      --hover-fill-color: #FFFFFF;\n",
              "      --disabled-bg-color: #3B4455;\n",
              "      --disabled-fill-color: #666;\n",
              "  }\n",
              "\n",
              "  .colab-df-quickchart {\n",
              "    background-color: var(--bg-color);\n",
              "    border: none;\n",
              "    border-radius: 50%;\n",
              "    cursor: pointer;\n",
              "    display: none;\n",
              "    fill: var(--fill-color);\n",
              "    height: 32px;\n",
              "    padding: 0;\n",
              "    width: 32px;\n",
              "  }\n",
              "\n",
              "  .colab-df-quickchart:hover {\n",
              "    background-color: var(--hover-bg-color);\n",
              "    box-shadow: 0 1px 2px rgba(60, 64, 67, 0.3), 0 1px 3px 1px rgba(60, 64, 67, 0.15);\n",
              "    fill: var(--button-hover-fill-color);\n",
              "  }\n",
              "\n",
              "  .colab-df-quickchart-complete:disabled,\n",
              "  .colab-df-quickchart-complete:disabled:hover {\n",
              "    background-color: var(--disabled-bg-color);\n",
              "    fill: var(--disabled-fill-color);\n",
              "    box-shadow: none;\n",
              "  }\n",
              "\n",
              "  .colab-df-spinner {\n",
              "    border: 2px solid var(--fill-color);\n",
              "    border-color: transparent;\n",
              "    border-bottom-color: var(--fill-color);\n",
              "    animation:\n",
              "      spin 1s steps(1) infinite;\n",
              "  }\n",
              "\n",
              "  @keyframes spin {\n",
              "    0% {\n",
              "      border-color: transparent;\n",
              "      border-bottom-color: var(--fill-color);\n",
              "      border-left-color: var(--fill-color);\n",
              "    }\n",
              "    20% {\n",
              "      border-color: transparent;\n",
              "      border-left-color: var(--fill-color);\n",
              "      border-top-color: var(--fill-color);\n",
              "    }\n",
              "    30% {\n",
              "      border-color: transparent;\n",
              "      border-left-color: var(--fill-color);\n",
              "      border-top-color: var(--fill-color);\n",
              "      border-right-color: var(--fill-color);\n",
              "    }\n",
              "    40% {\n",
              "      border-color: transparent;\n",
              "      border-right-color: var(--fill-color);\n",
              "      border-top-color: var(--fill-color);\n",
              "    }\n",
              "    60% {\n",
              "      border-color: transparent;\n",
              "      border-right-color: var(--fill-color);\n",
              "    }\n",
              "    80% {\n",
              "      border-color: transparent;\n",
              "      border-right-color: var(--fill-color);\n",
              "      border-bottom-color: var(--fill-color);\n",
              "    }\n",
              "    90% {\n",
              "      border-color: transparent;\n",
              "      border-bottom-color: var(--fill-color);\n",
              "    }\n",
              "  }\n",
              "</style>\n",
              "\n",
              "  <script>\n",
              "    async function quickchart(key) {\n",
              "      const quickchartButtonEl =\n",
              "        document.querySelector('#' + key + ' button');\n",
              "      quickchartButtonEl.disabled = true;  // To prevent multiple clicks.\n",
              "      quickchartButtonEl.classList.add('colab-df-spinner');\n",
              "      try {\n",
              "        const charts = await google.colab.kernel.invokeFunction(\n",
              "            'suggestCharts', [key], {});\n",
              "      } catch (error) {\n",
              "        console.error('Error during call to suggestCharts:', error);\n",
              "      }\n",
              "      quickchartButtonEl.classList.remove('colab-df-spinner');\n",
              "      quickchartButtonEl.classList.add('colab-df-quickchart-complete');\n",
              "    }\n",
              "    (() => {\n",
              "      let quickchartButtonEl =\n",
              "        document.querySelector('#df-ebc26d77-61a5-4882-a564-464ab273f4fd button');\n",
              "      quickchartButtonEl.style.display =\n",
              "        google.colab.kernel.accessAllowed ? 'block' : 'none';\n",
              "    })();\n",
              "  </script>\n",
              "</div>\n",
              "    </div>\n",
              "  </div>\n"
            ]
          },
          "metadata": {},
          "execution_count": 14
        }
      ]
    },
    {
      "cell_type": "code",
      "source": [
        "'''test_scaler = test.copy()\n",
        "test_scaler = scaler.fit_transform(test_scaler)'''"
      ],
      "metadata": {
        "id": "uIpz6GouRryl"
      },
      "execution_count": 18,
      "outputs": []
    },
    {
      "cell_type": "code",
      "source": [
        "x_train_for_plot = pd.DataFrame(x_train, columns = train.columns)\n",
        "x_test_for_plot = pd.DataFrame(x_test, columns = test.columns)\n",
        "\n",
        "print(f'Sample mean for the column \"fnlwgt\" = {round(x_train_for_plot[\"fnlwgt\"].mean(), 3)}')"
      ],
      "metadata": {
        "colab": {
          "base_uri": "https://localhost:8080/"
        },
        "id": "8HKOaeZYRVbl",
        "outputId": "43ff4448-dba1-4e15-a1bf-cde22d45a2d9"
      },
      "execution_count": 22,
      "outputs": [
        {
          "output_type": "stream",
          "name": "stdout",
          "text": [
            "Sample mean for the column \"fnlwgt\" = 0.12\n"
          ]
        }
      ]
    },
    {
      "cell_type": "markdown",
      "source": [
        "Train the `KNeighborsClassifier()` model with default parameters on the training dataset. Evaluate the model on test dataset.\n",
        "\n",
        "Compute `f1_score()` for the test dataset."
      ],
      "metadata": {
        "id": "JVT6YcfgRn79"
      }
    },
    {
      "cell_type": "code",
      "source": [
        "'''neigh_scaler = KNeighborsClassifier()\n",
        "neigh_scaler.fit(train_scaler, y_train)\n",
        "\n",
        "y_pred_scaler = neigh_scaler.predict(test_scaler)\n",
        "round(f1_score(y_test, y_pred_scaler), 3)'''\n",
        "\n",
        "\n",
        "neigh_scaler = KNeighborsClassifier()\n",
        "neigh_scaler.fit(x_train, y_train)\n",
        "\n",
        "y_pred_scaler = neigh_scaler.predict(x_test)\n",
        "round(f1_score(y_test, y_pred_scaler), 3)"
      ],
      "metadata": {
        "colab": {
          "base_uri": "https://localhost:8080/"
        },
        "id": "VfLDngQ1RnV9",
        "outputId": "d454cd3e-a0ff-4ccb-f0f4-1176c17046bd"
      },
      "execution_count": 23,
      "outputs": [
        {
          "output_type": "execute_result",
          "data": {
            "text/plain": [
              "0.506"
            ]
          },
          "metadata": {},
          "execution_count": 23
        }
      ]
    },
    {
      "cell_type": "markdown",
      "source": [
        "It can be seen that the quality has increased after linear normalization.\n",
        "\n",
        "<b>Important:</b> Further steps involve using linear normalization immediately before training without additional reminders."
      ],
      "metadata": {
        "id": "fZ5fXy5DlQY6"
      }
    },
    {
      "cell_type": "markdown",
      "source": [
        "## 2. Working with non-numeric features"
      ],
      "metadata": {
        "id": "TR7K8VTylWdE"
      }
    },
    {
      "cell_type": "markdown",
      "source": [
        "### Visualization\n",
        "\n",
        "To further improve the quality of the model, it makes sense to leverage the non-numeric attributes of the original dataset (without columns <code>education</code> and <code>marital-status</code>).\n",
        "\n",
        "Construct histograms illustrating the frequency of a particular value for each non-numeric feature, e.g., using <code>sns.barplot()</code>."
      ],
      "metadata": {
        "id": "DcGqKdO0lciA"
      }
    },
    {
      "cell_type": "code",
      "source": [
        "data_vis = data[['workclass', 'occupation', 'relationship', 'race', 'sex', 'native-country', 'label']].copy(deep=True)"
      ],
      "metadata": {
        "id": "ay60PVIeSY45"
      },
      "execution_count": 24,
      "outputs": []
    },
    {
      "cell_type": "code",
      "source": [
        "data_vis['race'].value_counts()"
      ],
      "metadata": {
        "colab": {
          "base_uri": "https://localhost:8080/"
        },
        "id": "xoCjSAbSXVVU",
        "outputId": "3ff74d91-029c-41d8-fd50-979251d8431d"
      },
      "execution_count": 25,
      "outputs": [
        {
          "output_type": "execute_result",
          "data": {
            "text/plain": [
              "White                 22283\n",
              "Black                  2462\n",
              "Asian-Pac-Islander      839\n",
              "Amer-Indian-Eskimo      238\n",
              "Other                   226\n",
              "Name: race, dtype: int64"
            ]
          },
          "metadata": {},
          "execution_count": 25
        }
      ]
    },
    {
      "cell_type": "markdown",
      "source": [
        "### Removing missing values\n",
        "\n",
        "Determine the number of rows in the original dataset (without columns <code>education</code> and <code>marital-status</code>) that contain at least one missing value."
      ],
      "metadata": {
        "id": "8qotsYebZUhq"
      }
    },
    {
      "cell_type": "code",
      "source": [
        "data = data.replace(['?'], None)"
      ],
      "metadata": {
        "id": "CTX0vqLc8zK0"
      },
      "execution_count": 26,
      "outputs": []
    },
    {
      "cell_type": "code",
      "source": [
        "data_notnull = data.copy(deep=True)\n",
        "data_notnull.dropna(axis=0, how='any', inplace=True)"
      ],
      "metadata": {
        "id": "bWOJpQ91-CjT"
      },
      "execution_count": 27,
      "outputs": []
    },
    {
      "cell_type": "code",
      "source": [
        "len(data) - len(data_notnull)"
      ],
      "metadata": {
        "colab": {
          "base_uri": "https://localhost:8080/"
        },
        "id": "-StGcjZT-cIg",
        "outputId": "4957fc77-6914-4160-c221-612856dc3653"
      },
      "execution_count": 28,
      "outputs": [
        {
          "output_type": "execute_result",
          "data": {
            "text/plain": [
              "1914"
            ]
          },
          "metadata": {},
          "execution_count": 28
        }
      ]
    },
    {
      "cell_type": "markdown",
      "source": [
        "You can see that the dataset contains less than 10% of rows that contain missing values. Throwing out such a large number of rows is not a good thing, but why not try to train model without them.\n",
        "\n",
        "Remove rows containing missing values. Perform <code>one-hot</code> encoding of non-numeric features, e.g., using <code>pd.get_dummies(drop_first=True)</code>.\n",
        "\n",
        "Enter the total number of features obtained."
      ],
      "metadata": {
        "id": "RWKvHVII-mmo"
      }
    },
    {
      "cell_type": "code",
      "source": [
        "data1 = pd.get_dummies(data_notnull, drop_first=True)\n",
        "data1.head()"
      ],
      "metadata": {
        "colab": {
          "base_uri": "https://localhost:8080/",
          "height": 290
        },
        "id": "XngbMgLE_jfk",
        "outputId": "e2c4581c-85a3-491e-8f0c-92f2776b0d50"
      },
      "execution_count": 29,
      "outputs": [
        {
          "output_type": "execute_result",
          "data": {
            "text/plain": [
              "   age  fnlwgt  education-num  capital-gain  capital-loss  hours-per-week  \\\n",
              "0   32   37210             13             0             0              45   \n",
              "1   43  101950             14             0             0              45   \n",
              "3   40   24763             10          6849             0              40   \n",
              "4   24  113936             13             0             0              40   \n",
              "5   51  237630              9          7298             0              50   \n",
              "\n",
              "   label  workclass_Local-gov  workclass_Private  workclass_Self-emp-inc  ...  \\\n",
              "0      1                    0                  1                       0  ...   \n",
              "1      0                    0                  1                       0  ...   \n",
              "3      0                    1                  0                       0  ...   \n",
              "4      0                    0                  1                       0  ...   \n",
              "5      1                    0                  1                       0  ...   \n",
              "\n",
              "   native-country_Portugal  native-country_Puerto-Rico  \\\n",
              "0                        0                           0   \n",
              "1                        0                           0   \n",
              "3                        0                           0   \n",
              "4                        0                           0   \n",
              "5                        0                           0   \n",
              "\n",
              "   native-country_Scotland  native-country_South  native-country_Taiwan  \\\n",
              "0                        0                     0                      0   \n",
              "1                        0                     0                      0   \n",
              "3                        0                     0                      0   \n",
              "4                        0                     0                      0   \n",
              "5                        0                     0                      0   \n",
              "\n",
              "   native-country_Thailand  native-country_Trinadad&Tobago  \\\n",
              "0                        0                               0   \n",
              "1                        0                               0   \n",
              "3                        0                               0   \n",
              "4                        0                               0   \n",
              "5                        0                               0   \n",
              "\n",
              "   native-country_United-States  native-country_Vietnam  \\\n",
              "0                             1                       0   \n",
              "1                             1                       0   \n",
              "3                             1                       0   \n",
              "4                             1                       0   \n",
              "5                             1                       0   \n",
              "\n",
              "   native-country_Yugoslavia  \n",
              "0                          0  \n",
              "1                          0  \n",
              "3                          0  \n",
              "4                          0  \n",
              "5                          0  \n",
              "\n",
              "[5 rows x 76 columns]"
            ],
            "text/html": [
              "\n",
              "  <div id=\"df-00ddcb85-4fdb-4caa-85aa-769702078c31\" class=\"colab-df-container\">\n",
              "    <div>\n",
              "<style scoped>\n",
              "    .dataframe tbody tr th:only-of-type {\n",
              "        vertical-align: middle;\n",
              "    }\n",
              "\n",
              "    .dataframe tbody tr th {\n",
              "        vertical-align: top;\n",
              "    }\n",
              "\n",
              "    .dataframe thead th {\n",
              "        text-align: right;\n",
              "    }\n",
              "</style>\n",
              "<table border=\"1\" class=\"dataframe\">\n",
              "  <thead>\n",
              "    <tr style=\"text-align: right;\">\n",
              "      <th></th>\n",
              "      <th>age</th>\n",
              "      <th>fnlwgt</th>\n",
              "      <th>education-num</th>\n",
              "      <th>capital-gain</th>\n",
              "      <th>capital-loss</th>\n",
              "      <th>hours-per-week</th>\n",
              "      <th>label</th>\n",
              "      <th>workclass_Local-gov</th>\n",
              "      <th>workclass_Private</th>\n",
              "      <th>workclass_Self-emp-inc</th>\n",
              "      <th>...</th>\n",
              "      <th>native-country_Portugal</th>\n",
              "      <th>native-country_Puerto-Rico</th>\n",
              "      <th>native-country_Scotland</th>\n",
              "      <th>native-country_South</th>\n",
              "      <th>native-country_Taiwan</th>\n",
              "      <th>native-country_Thailand</th>\n",
              "      <th>native-country_Trinadad&amp;Tobago</th>\n",
              "      <th>native-country_United-States</th>\n",
              "      <th>native-country_Vietnam</th>\n",
              "      <th>native-country_Yugoslavia</th>\n",
              "    </tr>\n",
              "  </thead>\n",
              "  <tbody>\n",
              "    <tr>\n",
              "      <th>0</th>\n",
              "      <td>32</td>\n",
              "      <td>37210</td>\n",
              "      <td>13</td>\n",
              "      <td>0</td>\n",
              "      <td>0</td>\n",
              "      <td>45</td>\n",
              "      <td>1</td>\n",
              "      <td>0</td>\n",
              "      <td>1</td>\n",
              "      <td>0</td>\n",
              "      <td>...</td>\n",
              "      <td>0</td>\n",
              "      <td>0</td>\n",
              "      <td>0</td>\n",
              "      <td>0</td>\n",
              "      <td>0</td>\n",
              "      <td>0</td>\n",
              "      <td>0</td>\n",
              "      <td>1</td>\n",
              "      <td>0</td>\n",
              "      <td>0</td>\n",
              "    </tr>\n",
              "    <tr>\n",
              "      <th>1</th>\n",
              "      <td>43</td>\n",
              "      <td>101950</td>\n",
              "      <td>14</td>\n",
              "      <td>0</td>\n",
              "      <td>0</td>\n",
              "      <td>45</td>\n",
              "      <td>0</td>\n",
              "      <td>0</td>\n",
              "      <td>1</td>\n",
              "      <td>0</td>\n",
              "      <td>...</td>\n",
              "      <td>0</td>\n",
              "      <td>0</td>\n",
              "      <td>0</td>\n",
              "      <td>0</td>\n",
              "      <td>0</td>\n",
              "      <td>0</td>\n",
              "      <td>0</td>\n",
              "      <td>1</td>\n",
              "      <td>0</td>\n",
              "      <td>0</td>\n",
              "    </tr>\n",
              "    <tr>\n",
              "      <th>3</th>\n",
              "      <td>40</td>\n",
              "      <td>24763</td>\n",
              "      <td>10</td>\n",
              "      <td>6849</td>\n",
              "      <td>0</td>\n",
              "      <td>40</td>\n",
              "      <td>0</td>\n",
              "      <td>1</td>\n",
              "      <td>0</td>\n",
              "      <td>0</td>\n",
              "      <td>...</td>\n",
              "      <td>0</td>\n",
              "      <td>0</td>\n",
              "      <td>0</td>\n",
              "      <td>0</td>\n",
              "      <td>0</td>\n",
              "      <td>0</td>\n",
              "      <td>0</td>\n",
              "      <td>1</td>\n",
              "      <td>0</td>\n",
              "      <td>0</td>\n",
              "    </tr>\n",
              "    <tr>\n",
              "      <th>4</th>\n",
              "      <td>24</td>\n",
              "      <td>113936</td>\n",
              "      <td>13</td>\n",
              "      <td>0</td>\n",
              "      <td>0</td>\n",
              "      <td>40</td>\n",
              "      <td>0</td>\n",
              "      <td>0</td>\n",
              "      <td>1</td>\n",
              "      <td>0</td>\n",
              "      <td>...</td>\n",
              "      <td>0</td>\n",
              "      <td>0</td>\n",
              "      <td>0</td>\n",
              "      <td>0</td>\n",
              "      <td>0</td>\n",
              "      <td>0</td>\n",
              "      <td>0</td>\n",
              "      <td>1</td>\n",
              "      <td>0</td>\n",
              "      <td>0</td>\n",
              "    </tr>\n",
              "    <tr>\n",
              "      <th>5</th>\n",
              "      <td>51</td>\n",
              "      <td>237630</td>\n",
              "      <td>9</td>\n",
              "      <td>7298</td>\n",
              "      <td>0</td>\n",
              "      <td>50</td>\n",
              "      <td>1</td>\n",
              "      <td>0</td>\n",
              "      <td>1</td>\n",
              "      <td>0</td>\n",
              "      <td>...</td>\n",
              "      <td>0</td>\n",
              "      <td>0</td>\n",
              "      <td>0</td>\n",
              "      <td>0</td>\n",
              "      <td>0</td>\n",
              "      <td>0</td>\n",
              "      <td>0</td>\n",
              "      <td>1</td>\n",
              "      <td>0</td>\n",
              "      <td>0</td>\n",
              "    </tr>\n",
              "  </tbody>\n",
              "</table>\n",
              "<p>5 rows × 76 columns</p>\n",
              "</div>\n",
              "    <div class=\"colab-df-buttons\">\n",
              "\n",
              "  <div class=\"colab-df-container\">\n",
              "    <button class=\"colab-df-convert\" onclick=\"convertToInteractive('df-00ddcb85-4fdb-4caa-85aa-769702078c31')\"\n",
              "            title=\"Convert this dataframe to an interactive table.\"\n",
              "            style=\"display:none;\">\n",
              "\n",
              "  <svg xmlns=\"http://www.w3.org/2000/svg\" height=\"24px\" viewBox=\"0 -960 960 960\">\n",
              "    <path d=\"M120-120v-720h720v720H120Zm60-500h600v-160H180v160Zm220 220h160v-160H400v160Zm0 220h160v-160H400v160ZM180-400h160v-160H180v160Zm440 0h160v-160H620v160ZM180-180h160v-160H180v160Zm440 0h160v-160H620v160Z\"/>\n",
              "  </svg>\n",
              "    </button>\n",
              "\n",
              "  <style>\n",
              "    .colab-df-container {\n",
              "      display:flex;\n",
              "      gap: 12px;\n",
              "    }\n",
              "\n",
              "    .colab-df-convert {\n",
              "      background-color: #E8F0FE;\n",
              "      border: none;\n",
              "      border-radius: 50%;\n",
              "      cursor: pointer;\n",
              "      display: none;\n",
              "      fill: #1967D2;\n",
              "      height: 32px;\n",
              "      padding: 0 0 0 0;\n",
              "      width: 32px;\n",
              "    }\n",
              "\n",
              "    .colab-df-convert:hover {\n",
              "      background-color: #E2EBFA;\n",
              "      box-shadow: 0px 1px 2px rgba(60, 64, 67, 0.3), 0px 1px 3px 1px rgba(60, 64, 67, 0.15);\n",
              "      fill: #174EA6;\n",
              "    }\n",
              "\n",
              "    .colab-df-buttons div {\n",
              "      margin-bottom: 4px;\n",
              "    }\n",
              "\n",
              "    [theme=dark] .colab-df-convert {\n",
              "      background-color: #3B4455;\n",
              "      fill: #D2E3FC;\n",
              "    }\n",
              "\n",
              "    [theme=dark] .colab-df-convert:hover {\n",
              "      background-color: #434B5C;\n",
              "      box-shadow: 0px 1px 3px 1px rgba(0, 0, 0, 0.15);\n",
              "      filter: drop-shadow(0px 1px 2px rgba(0, 0, 0, 0.3));\n",
              "      fill: #FFFFFF;\n",
              "    }\n",
              "  </style>\n",
              "\n",
              "    <script>\n",
              "      const buttonEl =\n",
              "        document.querySelector('#df-00ddcb85-4fdb-4caa-85aa-769702078c31 button.colab-df-convert');\n",
              "      buttonEl.style.display =\n",
              "        google.colab.kernel.accessAllowed ? 'block' : 'none';\n",
              "\n",
              "      async function convertToInteractive(key) {\n",
              "        const element = document.querySelector('#df-00ddcb85-4fdb-4caa-85aa-769702078c31');\n",
              "        const dataTable =\n",
              "          await google.colab.kernel.invokeFunction('convertToInteractive',\n",
              "                                                    [key], {});\n",
              "        if (!dataTable) return;\n",
              "\n",
              "        const docLinkHtml = 'Like what you see? Visit the ' +\n",
              "          '<a target=\"_blank\" href=https://colab.research.google.com/notebooks/data_table.ipynb>data table notebook</a>'\n",
              "          + ' to learn more about interactive tables.';\n",
              "        element.innerHTML = '';\n",
              "        dataTable['output_type'] = 'display_data';\n",
              "        await google.colab.output.renderOutput(dataTable, element);\n",
              "        const docLink = document.createElement('div');\n",
              "        docLink.innerHTML = docLinkHtml;\n",
              "        element.appendChild(docLink);\n",
              "      }\n",
              "    </script>\n",
              "  </div>\n",
              "\n",
              "\n",
              "<div id=\"df-1d05fbf9-06de-4626-8f1d-2af6c31e8efa\">\n",
              "  <button class=\"colab-df-quickchart\" onclick=\"quickchart('df-1d05fbf9-06de-4626-8f1d-2af6c31e8efa')\"\n",
              "            title=\"Suggest charts\"\n",
              "            style=\"display:none;\">\n",
              "\n",
              "<svg xmlns=\"http://www.w3.org/2000/svg\" height=\"24px\"viewBox=\"0 0 24 24\"\n",
              "     width=\"24px\">\n",
              "    <g>\n",
              "        <path d=\"M19 3H5c-1.1 0-2 .9-2 2v14c0 1.1.9 2 2 2h14c1.1 0 2-.9 2-2V5c0-1.1-.9-2-2-2zM9 17H7v-7h2v7zm4 0h-2V7h2v10zm4 0h-2v-4h2v4z\"/>\n",
              "    </g>\n",
              "</svg>\n",
              "  </button>\n",
              "\n",
              "<style>\n",
              "  .colab-df-quickchart {\n",
              "      --bg-color: #E8F0FE;\n",
              "      --fill-color: #1967D2;\n",
              "      --hover-bg-color: #E2EBFA;\n",
              "      --hover-fill-color: #174EA6;\n",
              "      --disabled-fill-color: #AAA;\n",
              "      --disabled-bg-color: #DDD;\n",
              "  }\n",
              "\n",
              "  [theme=dark] .colab-df-quickchart {\n",
              "      --bg-color: #3B4455;\n",
              "      --fill-color: #D2E3FC;\n",
              "      --hover-bg-color: #434B5C;\n",
              "      --hover-fill-color: #FFFFFF;\n",
              "      --disabled-bg-color: #3B4455;\n",
              "      --disabled-fill-color: #666;\n",
              "  }\n",
              "\n",
              "  .colab-df-quickchart {\n",
              "    background-color: var(--bg-color);\n",
              "    border: none;\n",
              "    border-radius: 50%;\n",
              "    cursor: pointer;\n",
              "    display: none;\n",
              "    fill: var(--fill-color);\n",
              "    height: 32px;\n",
              "    padding: 0;\n",
              "    width: 32px;\n",
              "  }\n",
              "\n",
              "  .colab-df-quickchart:hover {\n",
              "    background-color: var(--hover-bg-color);\n",
              "    box-shadow: 0 1px 2px rgba(60, 64, 67, 0.3), 0 1px 3px 1px rgba(60, 64, 67, 0.15);\n",
              "    fill: var(--button-hover-fill-color);\n",
              "  }\n",
              "\n",
              "  .colab-df-quickchart-complete:disabled,\n",
              "  .colab-df-quickchart-complete:disabled:hover {\n",
              "    background-color: var(--disabled-bg-color);\n",
              "    fill: var(--disabled-fill-color);\n",
              "    box-shadow: none;\n",
              "  }\n",
              "\n",
              "  .colab-df-spinner {\n",
              "    border: 2px solid var(--fill-color);\n",
              "    border-color: transparent;\n",
              "    border-bottom-color: var(--fill-color);\n",
              "    animation:\n",
              "      spin 1s steps(1) infinite;\n",
              "  }\n",
              "\n",
              "  @keyframes spin {\n",
              "    0% {\n",
              "      border-color: transparent;\n",
              "      border-bottom-color: var(--fill-color);\n",
              "      border-left-color: var(--fill-color);\n",
              "    }\n",
              "    20% {\n",
              "      border-color: transparent;\n",
              "      border-left-color: var(--fill-color);\n",
              "      border-top-color: var(--fill-color);\n",
              "    }\n",
              "    30% {\n",
              "      border-color: transparent;\n",
              "      border-left-color: var(--fill-color);\n",
              "      border-top-color: var(--fill-color);\n",
              "      border-right-color: var(--fill-color);\n",
              "    }\n",
              "    40% {\n",
              "      border-color: transparent;\n",
              "      border-right-color: var(--fill-color);\n",
              "      border-top-color: var(--fill-color);\n",
              "    }\n",
              "    60% {\n",
              "      border-color: transparent;\n",
              "      border-right-color: var(--fill-color);\n",
              "    }\n",
              "    80% {\n",
              "      border-color: transparent;\n",
              "      border-right-color: var(--fill-color);\n",
              "      border-bottom-color: var(--fill-color);\n",
              "    }\n",
              "    90% {\n",
              "      border-color: transparent;\n",
              "      border-bottom-color: var(--fill-color);\n",
              "    }\n",
              "  }\n",
              "</style>\n",
              "\n",
              "  <script>\n",
              "    async function quickchart(key) {\n",
              "      const quickchartButtonEl =\n",
              "        document.querySelector('#' + key + ' button');\n",
              "      quickchartButtonEl.disabled = true;  // To prevent multiple clicks.\n",
              "      quickchartButtonEl.classList.add('colab-df-spinner');\n",
              "      try {\n",
              "        const charts = await google.colab.kernel.invokeFunction(\n",
              "            'suggestCharts', [key], {});\n",
              "      } catch (error) {\n",
              "        console.error('Error during call to suggestCharts:', error);\n",
              "      }\n",
              "      quickchartButtonEl.classList.remove('colab-df-spinner');\n",
              "      quickchartButtonEl.classList.add('colab-df-quickchart-complete');\n",
              "    }\n",
              "    (() => {\n",
              "      let quickchartButtonEl =\n",
              "        document.querySelector('#df-1d05fbf9-06de-4626-8f1d-2af6c31e8efa button');\n",
              "      quickchartButtonEl.style.display =\n",
              "        google.colab.kernel.accessAllowed ? 'block' : 'none';\n",
              "    })();\n",
              "  </script>\n",
              "</div>\n",
              "    </div>\n",
              "  </div>\n"
            ]
          },
          "metadata": {},
          "execution_count": 29
        }
      ]
    },
    {
      "cell_type": "markdown",
      "source": [
        "Using the resulting dataset, train the classification model in the same way as was done for the baseline model. Compute <code>f1_score()</code> for the test dataset.\n",
        "\n"
      ],
      "metadata": {
        "id": "fAZYvRQo_p1K"
      }
    },
    {
      "cell_type": "code",
      "source": [
        "train1, test1 = train_test_split(data1, test_size=0.2, random_state=21, stratify=data1['label'])"
      ],
      "metadata": {
        "id": "WyHoR4nb_1T0"
      },
      "execution_count": 30,
      "outputs": []
    },
    {
      "cell_type": "code",
      "source": [
        "y_train1 = train1['label']\n",
        "y_test1 = test1['label']\n",
        "train1.drop(axis=1, columns=['label'], inplace=True)\n",
        "test1.drop(axis=1, columns=['label'], inplace=True)"
      ],
      "metadata": {
        "id": "NuN8OirCAXdS"
      },
      "execution_count": 31,
      "outputs": []
    },
    {
      "cell_type": "code",
      "source": [
        "scaler1 = MinMaxScaler().fit(train1)\n",
        "\n",
        "x_train1 = scaler1.transform(train1)\n",
        "x_test1 = scaler1.transform(test1)"
      ],
      "metadata": {
        "id": "zX5LjJj-6S-H"
      },
      "execution_count": 32,
      "outputs": []
    },
    {
      "cell_type": "code",
      "source": [
        "x_train1_for_plot = pd.DataFrame(x_train1, columns = train1.columns)\n",
        "x_test1_for_plot = pd.DataFrame(x_test1, columns = test1.columns)"
      ],
      "metadata": {
        "id": "GcBp3Ya16crR"
      },
      "execution_count": 33,
      "outputs": []
    },
    {
      "cell_type": "code",
      "source": [
        "neigh1 = KNeighborsClassifier()\n",
        "neigh1.fit(x_train1, y_train1)\n",
        "\n",
        "y_pred_1 = neigh1.predict(x_test1)\n",
        "round(f1_score(y_test1, y_pred_1), 3)"
      ],
      "metadata": {
        "colab": {
          "base_uri": "https://localhost:8080/"
        },
        "id": "PzOoVq4D62H0",
        "outputId": "5f3cc3a0-b192-4a0d-a248-c343907537bf"
      },
      "execution_count": 35,
      "outputs": [
        {
          "output_type": "execute_result",
          "data": {
            "text/plain": [
              "0.592"
            ]
          },
          "metadata": {},
          "execution_count": 35
        }
      ]
    },
    {
      "cell_type": "markdown",
      "source": [
        "The quality of the model increased compared to the model that used only numerical features."
      ],
      "metadata": {
        "id": "MX0elwTkmAXy"
      }
    },
    {
      "cell_type": "markdown",
      "source": [
        "### Filling missing values\n",
        "\n",
        "Perhaps the quality would be further improved by using rows with missing values. Using the original dataset (without columns <code>education</code> and <code>marital-status</code>), fill the missing values with the most frequent value within the column."
      ],
      "metadata": {
        "id": "ItY8QsIQmDFC"
      }
    },
    {
      "cell_type": "code",
      "source": [],
      "metadata": {
        "id": "spBkOnlWmE_R"
      },
      "execution_count": null,
      "outputs": []
    },
    {
      "cell_type": "markdown",
      "source": [
        "The next scenario is the familiar one: <code>one-hot</code>, <code>split</code>, <code>scaling</code>, training, and evaluation.\n",
        "\n",
        "Compute the <code>f1_score()</code> of the model."
      ],
      "metadata": {
        "id": "NDMehaDImGyp"
      }
    },
    {
      "cell_type": "code",
      "source": [],
      "metadata": {
        "id": "FNDymojMmJTR"
      },
      "execution_count": null,
      "outputs": []
    },
    {
      "cell_type": "markdown",
      "source": [
        "### Curse of dimensionality\n",
        "\n",
        "The last step yielded a dataset containing 76 features (by the way, try to explain why the number of features ended up being 75 when the rows were removed), which is enough to face the so-called curse of dimensionality.\n",
        "\n",
        "In order for the classifier to produce better results, it makes sense to work more carefully and thoughtfully with the features, taking into account the curse of dimensionality. For example, to bring the features <code>education-num</code> and <code>marital-status</code> back into consideration. And also to go deeper into the nature of the features themselves."
      ],
      "metadata": {
        "id": "e3oRgVrWmI7K"
      }
    },
    {
      "cell_type": "markdown",
      "source": [
        "## Task 3\n",
        "\n",
        "Table contains data about the classification of emails into SPAM and HAM and the total number of words included in these groups:\n",
        "\n",
        "![image.png](data:image/png;base64,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)\n",
        "\n",
        "Second table shows data about unique words and number of their occurrences in the aforementioned groups:\n",
        "\n",
        "![image.png](data:image/png;base64,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)\n",
        "\n",
        "Identify the most probable class of the email containing the following text:\n",
        "\n",
        "`Access Cash Remove Refund Million Investment Bonus`\n",
        "\n"
      ],
      "metadata": {
        "id": "Y3x-qlkgaLAj"
      }
    },
    {
      "cell_type": "markdown",
      "source": [
        "> Specify the probability that the email is SPAM based on the training set:\n"
      ],
      "metadata": {
        "id": "eVTuBGMqEVIP"
      }
    },
    {
      "cell_type": "code",
      "source": [
        "email_spam = 16\n",
        "email_no_spam = 13\n",
        "\n",
        "P_spam = email_spam/(email_spam + email_no_spam)\n",
        "round(P_spam, 3)"
      ],
      "metadata": {
        "id": "K0NBENn4y4-l",
        "colab": {
          "base_uri": "https://localhost:8080/"
        },
        "outputId": "02bb58af-48f6-41fb-ef83-1b5fd380bba9"
      },
      "execution_count": null,
      "outputs": [
        {
          "output_type": "execute_result",
          "data": {
            "text/plain": [
              "0.552"
            ]
          },
          "metadata": {},
          "execution_count": 44
        }
      ]
    },
    {
      "cell_type": "markdown",
      "source": [
        "> Calculate $F(spam)$:"
      ],
      "metadata": {
        "id": "81r98vNcEb-H"
      }
    },
    {
      "cell_type": "code",
      "source": [
        "from numpy import log, exp"
      ],
      "metadata": {
        "id": "i30lJ4wutVuR"
      },
      "execution_count": null,
      "outputs": []
    },
    {
      "cell_type": "code",
      "source": [
        "def probability(count, y):\n",
        "    words_spam = 101\n",
        "    words_no_spam = 44\n",
        "\n",
        "    if y == 1: # spam\n",
        "        return (1 + count)/(10 + 2 + words_spam)\n",
        "    elif y == 0: # no spam\n",
        "        return  (1 + count)/(10 + 2 + words_no_spam)\n",
        "\n",
        "F_spam = log(P_spam) + log(probability(9, 1)) + log(probability(4, 1)) + log(probability(4, 1)) + log(probability(29, 1)) + log(probability(11, 1))\n",
        "F_spam += 2*log(probability(0, 1))\n",
        "round(F_spam,3)"
      ],
      "metadata": {
        "id": "EuccxE_-EdlV",
        "colab": {
          "base_uri": "https://localhost:8080/"
        },
        "outputId": "70b84e77-fabb-48fd-8e85-cd58efa98b25"
      },
      "execution_count": null,
      "outputs": [
        {
          "output_type": "execute_result",
          "data": {
            "text/plain": [
              "-22.279"
            ]
          },
          "metadata": {},
          "execution_count": 45
        }
      ]
    },
    {
      "cell_type": "markdown",
      "source": [
        "> Calculate $F(ham)$:"
      ],
      "metadata": {
        "id": "MQ09e7_eEdsj"
      }
    },
    {
      "cell_type": "code",
      "source": [
        "P_ham = email_no_spam/(email_spam + email_no_spam)\n",
        "\n",
        "F_ham = log(P_ham) + log(probability(2, 0)) + log(probability(7, 0)) + log(probability(2, 0)) + log(probability(5, 0)) + log(probability(5, 0))\n",
        "F_ham += 2*log(probability(0, 0))\n",
        "round(F_ham, 3)"
      ],
      "metadata": {
        "id": "O_BpMJ3jEfI0",
        "colab": {
          "base_uri": "https://localhost:8080/"
        },
        "outputId": "e1ed1d31-7489-4797-df49-0999b4126dd5"
      },
      "execution_count": null,
      "outputs": [
        {
          "output_type": "execute_result",
          "data": {
            "text/plain": [
              "-21.12"
            ]
          },
          "metadata": {},
          "execution_count": 31
        }
      ]
    },
    {
      "cell_type": "markdown",
      "source": [
        "> Specify the probability $P(Class = Yes|Email)$ that the email **Access Cash Remove Refund Million Investment Bonus** is SPAM."
      ],
      "metadata": {
        "id": "0sguTGoHEfPQ"
      }
    },
    {
      "cell_type": "code",
      "source": [
        "P_email_spam = 1 / (1 + exp(-F_spam + F_ham))\n",
        "round(P_email_spam, 3)"
      ],
      "metadata": {
        "colab": {
          "base_uri": "https://localhost:8080/"
        },
        "id": "fGsJstlyPCUC",
        "outputId": "ffe26e26-269d-4653-84b9-48b4a0240c92"
      },
      "execution_count": null,
      "outputs": [
        {
          "output_type": "execute_result",
          "data": {
            "text/plain": [
              "0.268"
            ]
          },
          "metadata": {},
          "execution_count": 43
        }
      ]
    }
  ]
}
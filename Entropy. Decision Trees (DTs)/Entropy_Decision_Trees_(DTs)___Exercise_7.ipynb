{
  "cells": [
    {
      "cell_type": "markdown",
      "metadata": {
        "id": "view-in-github",
        "colab_type": "text"
      },
      "source": [
        "<a href=\"https://colab.research.google.com/github/tutsilianna/Introduction_to_ML_and_Advanced_ML_Python/blob/main/Entropy.%20Decision%20Trees%20(DTs)/Entropy_Decision_Trees_(DTs)_%7C_Exercise_7.ipynb\" target=\"_parent\"><img src=\"https://colab.research.google.com/assets/colab-badge.svg\" alt=\"Open In Colab\"/></a>"
      ]
    },
    {
      "cell_type": "markdown",
      "metadata": {
        "id": "WBsRp9afwB_k"
      },
      "source": [
        "# Classification using decision trees"
      ]
    },
    {
      "cell_type": "markdown",
      "metadata": {
        "id": "tAHDw8MfwMCs"
      },
      "source": [
        "# Dataset description"
      ]
    },
    {
      "cell_type": "markdown",
      "metadata": {
        "id": "xIaqzMrkMZq6"
      },
      "source": [
        "In this assignment, we will look at decision trees for the classification problem, and talk about how to deal with unbalanced datasets."
      ]
    },
    {
      "cell_type": "markdown",
      "metadata": {
        "id": "C_ayFAKDMjPs"
      },
      "source": [
        "The provided dataset contains information about accepted offers on loans in **Thera-Bank**. The main customers of the bank use the bank to deposit their money in it, i.e. they are depositors. At the same time, the big profit to the bank are the creditors - people who take a loan from the bank. Therefore, the bank wants to form favorable loan offers for its depositors. The bank's campaign for depositors last year showed that the conversion rate was more than 9,6%.\n",
        "\n",
        "This prompted the marketing department to develop campaigns with improved target marketing to increase the probability of success with, of course, a minimal budget. The department would like to develop a classifier to help them identify potential customers who are more likely to purchase a loan. This would increase the probability of success while reducing the cost of the campaign."
      ]
    },
    {
      "cell_type": "markdown",
      "metadata": {
        "id": "o7DY-rDVOGoE"
      },
      "source": [
        "The dataset contains both customer information and information about their response to the previous year's campaign:\n",
        "\n",
        "*   **ID**: client ID\n",
        "\n",
        "*   **Age**: Age\n",
        "\n",
        "*   **Experience**: Work experience\n",
        "\n",
        "*   **Income**: Annual income (in thousands)\n",
        "\n",
        "*   **ZIP Code**: Residence index\n",
        "\n",
        "*   **Family**: Family size\n",
        "\n",
        "*   **CCAvg**: Average credit card spending per month (in thousands)\n",
        "\n",
        "*   **Education**: Level of education (1: Bachelor's degree, 2: Master's degree, 3: something more)\n",
        "\n",
        "*   **Mortgage**: Value of mortgage, if any (in thousands)\n",
        "\n",
        "*   **Securities Account**: Existence of a securities account\n",
        "\n",
        "*   **CD Account**: Existence of a certificate of deposit\n",
        "\n",
        "*   **Online**: Whether the client uses internet banking\n",
        "\n",
        "*   **CreditCard**: Whether the client uses a credit card issued by this bank\n",
        "\n",
        "*   **Personal Loan**: Whether the client has accepted a personalized loan offer (target feature)"
      ]
    },
    {
      "cell_type": "markdown",
      "metadata": {
        "id": "npoTXkLETgmH"
      },
      "source": [
        "# Exploratory data analysis"
      ]
    },
    {
      "cell_type": "markdown",
      "metadata": {
        "id": "8JD_Js7sBDX9"
      },
      "source": [
        "Read the dataset into a dataframe"
      ]
    },
    {
      "cell_type": "code",
      "source": [
        "import pandas as pd\n",
        "import numpy as np\n",
        "import seaborn as sns\n",
        "\n",
        "import matplotlib.pyplot as plt\n",
        "plt.style.use('fivethirtyeight')\n",
        "\n",
        "import warnings\n",
        "warnings.filterwarnings('ignore')\n",
        "%matplotlib inline"
      ],
      "metadata": {
        "id": "2GO6CkmqLw32"
      },
      "execution_count": 1,
      "outputs": []
    },
    {
      "cell_type": "code",
      "execution_count": 2,
      "metadata": {
        "id": "N-EaF0UkMM--",
        "colab": {
          "base_uri": "https://localhost:8080/"
        },
        "outputId": "60b67b44-493c-4df4-d438-05405e6a292a"
      },
      "outputs": [
        {
          "output_type": "stream",
          "name": "stdout",
          "text": [
            "Mounted at /content/drive\n"
          ]
        }
      ],
      "source": [
        "from google.colab import drive\n",
        "drive.mount('/content/drive')"
      ]
    },
    {
      "cell_type": "code",
      "source": [
        "df = pd.read_csv('/content/drive/MyDrive/itmo|AI_cources/Bank_Personal_Loan_Modelling_train.csv')\n",
        "df.head()"
      ],
      "metadata": {
        "colab": {
          "base_uri": "https://localhost:8080/",
          "height": 206
        },
        "id": "ApRRcYJIJPan",
        "outputId": "65ecf874-a822-4970-9eb2-5cd71f304b2a"
      },
      "execution_count": 3,
      "outputs": [
        {
          "output_type": "execute_result",
          "data": {
            "text/plain": [
              "     ID  Age  Experience  Income  ZIP Code  Family  CCAvg  Education  \\\n",
              "0   409   60          36      89     91745       2    2.8          1   \n",
              "1  3738   44          19      30     91423       1    0.5          3   \n",
              "2  3890   26           0      19     93014       1    0.1          2   \n",
              "3   569   34           9      41     92101       2    0.1          1   \n",
              "4  1042   56          32      51     92780       4    1.5          1   \n",
              "\n",
              "   Mortgage  Personal Loan  Securities Account  CD Account  Online  CreditCard  \n",
              "0         0              0                   0           0       1           0  \n",
              "1         0              0                   0           0       1           0  \n",
              "2       121              0                   0           0       1           0  \n",
              "3       161              0                   0           0       1           1  \n",
              "4         0              0                   0           0       0           0  "
            ],
            "text/html": [
              "\n",
              "  <div id=\"df-3eb8dd1d-9861-4ec3-94ab-5002cf14d1ee\" class=\"colab-df-container\">\n",
              "    <div>\n",
              "<style scoped>\n",
              "    .dataframe tbody tr th:only-of-type {\n",
              "        vertical-align: middle;\n",
              "    }\n",
              "\n",
              "    .dataframe tbody tr th {\n",
              "        vertical-align: top;\n",
              "    }\n",
              "\n",
              "    .dataframe thead th {\n",
              "        text-align: right;\n",
              "    }\n",
              "</style>\n",
              "<table border=\"1\" class=\"dataframe\">\n",
              "  <thead>\n",
              "    <tr style=\"text-align: right;\">\n",
              "      <th></th>\n",
              "      <th>ID</th>\n",
              "      <th>Age</th>\n",
              "      <th>Experience</th>\n",
              "      <th>Income</th>\n",
              "      <th>ZIP Code</th>\n",
              "      <th>Family</th>\n",
              "      <th>CCAvg</th>\n",
              "      <th>Education</th>\n",
              "      <th>Mortgage</th>\n",
              "      <th>Personal Loan</th>\n",
              "      <th>Securities Account</th>\n",
              "      <th>CD Account</th>\n",
              "      <th>Online</th>\n",
              "      <th>CreditCard</th>\n",
              "    </tr>\n",
              "  </thead>\n",
              "  <tbody>\n",
              "    <tr>\n",
              "      <th>0</th>\n",
              "      <td>409</td>\n",
              "      <td>60</td>\n",
              "      <td>36</td>\n",
              "      <td>89</td>\n",
              "      <td>91745</td>\n",
              "      <td>2</td>\n",
              "      <td>2.8</td>\n",
              "      <td>1</td>\n",
              "      <td>0</td>\n",
              "      <td>0</td>\n",
              "      <td>0</td>\n",
              "      <td>0</td>\n",
              "      <td>1</td>\n",
              "      <td>0</td>\n",
              "    </tr>\n",
              "    <tr>\n",
              "      <th>1</th>\n",
              "      <td>3738</td>\n",
              "      <td>44</td>\n",
              "      <td>19</td>\n",
              "      <td>30</td>\n",
              "      <td>91423</td>\n",
              "      <td>1</td>\n",
              "      <td>0.5</td>\n",
              "      <td>3</td>\n",
              "      <td>0</td>\n",
              "      <td>0</td>\n",
              "      <td>0</td>\n",
              "      <td>0</td>\n",
              "      <td>1</td>\n",
              "      <td>0</td>\n",
              "    </tr>\n",
              "    <tr>\n",
              "      <th>2</th>\n",
              "      <td>3890</td>\n",
              "      <td>26</td>\n",
              "      <td>0</td>\n",
              "      <td>19</td>\n",
              "      <td>93014</td>\n",
              "      <td>1</td>\n",
              "      <td>0.1</td>\n",
              "      <td>2</td>\n",
              "      <td>121</td>\n",
              "      <td>0</td>\n",
              "      <td>0</td>\n",
              "      <td>0</td>\n",
              "      <td>1</td>\n",
              "      <td>0</td>\n",
              "    </tr>\n",
              "    <tr>\n",
              "      <th>3</th>\n",
              "      <td>569</td>\n",
              "      <td>34</td>\n",
              "      <td>9</td>\n",
              "      <td>41</td>\n",
              "      <td>92101</td>\n",
              "      <td>2</td>\n",
              "      <td>0.1</td>\n",
              "      <td>1</td>\n",
              "      <td>161</td>\n",
              "      <td>0</td>\n",
              "      <td>0</td>\n",
              "      <td>0</td>\n",
              "      <td>1</td>\n",
              "      <td>1</td>\n",
              "    </tr>\n",
              "    <tr>\n",
              "      <th>4</th>\n",
              "      <td>1042</td>\n",
              "      <td>56</td>\n",
              "      <td>32</td>\n",
              "      <td>51</td>\n",
              "      <td>92780</td>\n",
              "      <td>4</td>\n",
              "      <td>1.5</td>\n",
              "      <td>1</td>\n",
              "      <td>0</td>\n",
              "      <td>0</td>\n",
              "      <td>0</td>\n",
              "      <td>0</td>\n",
              "      <td>0</td>\n",
              "      <td>0</td>\n",
              "    </tr>\n",
              "  </tbody>\n",
              "</table>\n",
              "</div>\n",
              "    <div class=\"colab-df-buttons\">\n",
              "\n",
              "  <div class=\"colab-df-container\">\n",
              "    <button class=\"colab-df-convert\" onclick=\"convertToInteractive('df-3eb8dd1d-9861-4ec3-94ab-5002cf14d1ee')\"\n",
              "            title=\"Convert this dataframe to an interactive table.\"\n",
              "            style=\"display:none;\">\n",
              "\n",
              "  <svg xmlns=\"http://www.w3.org/2000/svg\" height=\"24px\" viewBox=\"0 -960 960 960\">\n",
              "    <path d=\"M120-120v-720h720v720H120Zm60-500h600v-160H180v160Zm220 220h160v-160H400v160Zm0 220h160v-160H400v160ZM180-400h160v-160H180v160Zm440 0h160v-160H620v160ZM180-180h160v-160H180v160Zm440 0h160v-160H620v160Z\"/>\n",
              "  </svg>\n",
              "    </button>\n",
              "\n",
              "  <style>\n",
              "    .colab-df-container {\n",
              "      display:flex;\n",
              "      gap: 12px;\n",
              "    }\n",
              "\n",
              "    .colab-df-convert {\n",
              "      background-color: #E8F0FE;\n",
              "      border: none;\n",
              "      border-radius: 50%;\n",
              "      cursor: pointer;\n",
              "      display: none;\n",
              "      fill: #1967D2;\n",
              "      height: 32px;\n",
              "      padding: 0 0 0 0;\n",
              "      width: 32px;\n",
              "    }\n",
              "\n",
              "    .colab-df-convert:hover {\n",
              "      background-color: #E2EBFA;\n",
              "      box-shadow: 0px 1px 2px rgba(60, 64, 67, 0.3), 0px 1px 3px 1px rgba(60, 64, 67, 0.15);\n",
              "      fill: #174EA6;\n",
              "    }\n",
              "\n",
              "    .colab-df-buttons div {\n",
              "      margin-bottom: 4px;\n",
              "    }\n",
              "\n",
              "    [theme=dark] .colab-df-convert {\n",
              "      background-color: #3B4455;\n",
              "      fill: #D2E3FC;\n",
              "    }\n",
              "\n",
              "    [theme=dark] .colab-df-convert:hover {\n",
              "      background-color: #434B5C;\n",
              "      box-shadow: 0px 1px 3px 1px rgba(0, 0, 0, 0.15);\n",
              "      filter: drop-shadow(0px 1px 2px rgba(0, 0, 0, 0.3));\n",
              "      fill: #FFFFFF;\n",
              "    }\n",
              "  </style>\n",
              "\n",
              "    <script>\n",
              "      const buttonEl =\n",
              "        document.querySelector('#df-3eb8dd1d-9861-4ec3-94ab-5002cf14d1ee button.colab-df-convert');\n",
              "      buttonEl.style.display =\n",
              "        google.colab.kernel.accessAllowed ? 'block' : 'none';\n",
              "\n",
              "      async function convertToInteractive(key) {\n",
              "        const element = document.querySelector('#df-3eb8dd1d-9861-4ec3-94ab-5002cf14d1ee');\n",
              "        const dataTable =\n",
              "          await google.colab.kernel.invokeFunction('convertToInteractive',\n",
              "                                                    [key], {});\n",
              "        if (!dataTable) return;\n",
              "\n",
              "        const docLinkHtml = 'Like what you see? Visit the ' +\n",
              "          '<a target=\"_blank\" href=https://colab.research.google.com/notebooks/data_table.ipynb>data table notebook</a>'\n",
              "          + ' to learn more about interactive tables.';\n",
              "        element.innerHTML = '';\n",
              "        dataTable['output_type'] = 'display_data';\n",
              "        await google.colab.output.renderOutput(dataTable, element);\n",
              "        const docLink = document.createElement('div');\n",
              "        docLink.innerHTML = docLinkHtml;\n",
              "        element.appendChild(docLink);\n",
              "      }\n",
              "    </script>\n",
              "  </div>\n",
              "\n",
              "\n",
              "<div id=\"df-616f4be3-a47a-4984-943e-394fdd3972dd\">\n",
              "  <button class=\"colab-df-quickchart\" onclick=\"quickchart('df-616f4be3-a47a-4984-943e-394fdd3972dd')\"\n",
              "            title=\"Suggest charts\"\n",
              "            style=\"display:none;\">\n",
              "\n",
              "<svg xmlns=\"http://www.w3.org/2000/svg\" height=\"24px\"viewBox=\"0 0 24 24\"\n",
              "     width=\"24px\">\n",
              "    <g>\n",
              "        <path d=\"M19 3H5c-1.1 0-2 .9-2 2v14c0 1.1.9 2 2 2h14c1.1 0 2-.9 2-2V5c0-1.1-.9-2-2-2zM9 17H7v-7h2v7zm4 0h-2V7h2v10zm4 0h-2v-4h2v4z\"/>\n",
              "    </g>\n",
              "</svg>\n",
              "  </button>\n",
              "\n",
              "<style>\n",
              "  .colab-df-quickchart {\n",
              "      --bg-color: #E8F0FE;\n",
              "      --fill-color: #1967D2;\n",
              "      --hover-bg-color: #E2EBFA;\n",
              "      --hover-fill-color: #174EA6;\n",
              "      --disabled-fill-color: #AAA;\n",
              "      --disabled-bg-color: #DDD;\n",
              "  }\n",
              "\n",
              "  [theme=dark] .colab-df-quickchart {\n",
              "      --bg-color: #3B4455;\n",
              "      --fill-color: #D2E3FC;\n",
              "      --hover-bg-color: #434B5C;\n",
              "      --hover-fill-color: #FFFFFF;\n",
              "      --disabled-bg-color: #3B4455;\n",
              "      --disabled-fill-color: #666;\n",
              "  }\n",
              "\n",
              "  .colab-df-quickchart {\n",
              "    background-color: var(--bg-color);\n",
              "    border: none;\n",
              "    border-radius: 50%;\n",
              "    cursor: pointer;\n",
              "    display: none;\n",
              "    fill: var(--fill-color);\n",
              "    height: 32px;\n",
              "    padding: 0;\n",
              "    width: 32px;\n",
              "  }\n",
              "\n",
              "  .colab-df-quickchart:hover {\n",
              "    background-color: var(--hover-bg-color);\n",
              "    box-shadow: 0 1px 2px rgba(60, 64, 67, 0.3), 0 1px 3px 1px rgba(60, 64, 67, 0.15);\n",
              "    fill: var(--button-hover-fill-color);\n",
              "  }\n",
              "\n",
              "  .colab-df-quickchart-complete:disabled,\n",
              "  .colab-df-quickchart-complete:disabled:hover {\n",
              "    background-color: var(--disabled-bg-color);\n",
              "    fill: var(--disabled-fill-color);\n",
              "    box-shadow: none;\n",
              "  }\n",
              "\n",
              "  .colab-df-spinner {\n",
              "    border: 2px solid var(--fill-color);\n",
              "    border-color: transparent;\n",
              "    border-bottom-color: var(--fill-color);\n",
              "    animation:\n",
              "      spin 1s steps(1) infinite;\n",
              "  }\n",
              "\n",
              "  @keyframes spin {\n",
              "    0% {\n",
              "      border-color: transparent;\n",
              "      border-bottom-color: var(--fill-color);\n",
              "      border-left-color: var(--fill-color);\n",
              "    }\n",
              "    20% {\n",
              "      border-color: transparent;\n",
              "      border-left-color: var(--fill-color);\n",
              "      border-top-color: var(--fill-color);\n",
              "    }\n",
              "    30% {\n",
              "      border-color: transparent;\n",
              "      border-left-color: var(--fill-color);\n",
              "      border-top-color: var(--fill-color);\n",
              "      border-right-color: var(--fill-color);\n",
              "    }\n",
              "    40% {\n",
              "      border-color: transparent;\n",
              "      border-right-color: var(--fill-color);\n",
              "      border-top-color: var(--fill-color);\n",
              "    }\n",
              "    60% {\n",
              "      border-color: transparent;\n",
              "      border-right-color: var(--fill-color);\n",
              "    }\n",
              "    80% {\n",
              "      border-color: transparent;\n",
              "      border-right-color: var(--fill-color);\n",
              "      border-bottom-color: var(--fill-color);\n",
              "    }\n",
              "    90% {\n",
              "      border-color: transparent;\n",
              "      border-bottom-color: var(--fill-color);\n",
              "    }\n",
              "  }\n",
              "</style>\n",
              "\n",
              "  <script>\n",
              "    async function quickchart(key) {\n",
              "      const quickchartButtonEl =\n",
              "        document.querySelector('#' + key + ' button');\n",
              "      quickchartButtonEl.disabled = true;  // To prevent multiple clicks.\n",
              "      quickchartButtonEl.classList.add('colab-df-spinner');\n",
              "      try {\n",
              "        const charts = await google.colab.kernel.invokeFunction(\n",
              "            'suggestCharts', [key], {});\n",
              "      } catch (error) {\n",
              "        console.error('Error during call to suggestCharts:', error);\n",
              "      }\n",
              "      quickchartButtonEl.classList.remove('colab-df-spinner');\n",
              "      quickchartButtonEl.classList.add('colab-df-quickchart-complete');\n",
              "    }\n",
              "    (() => {\n",
              "      let quickchartButtonEl =\n",
              "        document.querySelector('#df-616f4be3-a47a-4984-943e-394fdd3972dd button');\n",
              "      quickchartButtonEl.style.display =\n",
              "        google.colab.kernel.accessAllowed ? 'block' : 'none';\n",
              "    })();\n",
              "  </script>\n",
              "</div>\n",
              "    </div>\n",
              "  </div>\n"
            ]
          },
          "metadata": {},
          "execution_count": 3
        }
      ]
    },
    {
      "cell_type": "markdown",
      "metadata": {
        "id": "czPRb3i9OD3E"
      },
      "source": [
        "Use the <code>.describe()</code> method to explore the dataset \"from a bird's eye view\"."
      ]
    },
    {
      "cell_type": "code",
      "execution_count": 4,
      "metadata": {
        "id": "obERUrx2MS-_",
        "colab": {
          "base_uri": "https://localhost:8080/",
          "height": 337
        },
        "outputId": "bee69ec5-d6a2-4198-d4cc-0a84397942ed"
      },
      "outputs": [
        {
          "output_type": "execute_result",
          "data": {
            "text/plain": [
              "                ID          Age   Experience       Income      ZIP Code  \\\n",
              "count  4000.000000  4000.000000  4000.000000  4000.000000   4000.000000   \n",
              "mean   2497.682500    45.429500    20.196250    73.479750  93156.583750   \n",
              "std    1449.723807    11.489235    11.500143    46.321345   2197.762636   \n",
              "min       1.000000    23.000000    -3.000000     8.000000   9307.000000   \n",
              "25%    1245.750000    35.000000    10.000000    38.000000  91941.750000   \n",
              "50%    2492.500000    45.000000    20.000000    63.000000  93407.000000   \n",
              "75%    3767.250000    55.000000    30.000000    98.000000  94608.000000   \n",
              "max    5000.000000    67.000000    43.000000   224.000000  96651.000000   \n",
              "\n",
              "            Family        CCAvg    Education     Mortgage  Personal Loan  \\\n",
              "count  4000.000000  4000.000000  4000.000000  4000.000000    4000.000000   \n",
              "mean      2.381750     1.921805     1.881500    55.968250       0.096000   \n",
              "std       1.149716     1.738974     0.842102   101.054887       0.294628   \n",
              "min       1.000000     0.000000     1.000000     0.000000       0.000000   \n",
              "25%       1.000000     0.700000     1.000000     0.000000       0.000000   \n",
              "50%       2.000000     1.500000     2.000000     0.000000       0.000000   \n",
              "75%       3.000000     2.500000     3.000000   100.000000       0.000000   \n",
              "max       4.000000    10.000000     3.000000   635.000000       1.000000   \n",
              "\n",
              "       Securities Account   CD Account       Online  CreditCard  \n",
              "count         4000.000000  4000.000000  4000.000000  4000.00000  \n",
              "mean             0.104000     0.061500     0.599000     0.29050  \n",
              "std              0.305299     0.240275     0.490162     0.45405  \n",
              "min              0.000000     0.000000     0.000000     0.00000  \n",
              "25%              0.000000     0.000000     0.000000     0.00000  \n",
              "50%              0.000000     0.000000     1.000000     0.00000  \n",
              "75%              0.000000     0.000000     1.000000     1.00000  \n",
              "max              1.000000     1.000000     1.000000     1.00000  "
            ],
            "text/html": [
              "\n",
              "  <div id=\"df-82b3f562-0d4e-432d-b084-c0defb7beb2a\" class=\"colab-df-container\">\n",
              "    <div>\n",
              "<style scoped>\n",
              "    .dataframe tbody tr th:only-of-type {\n",
              "        vertical-align: middle;\n",
              "    }\n",
              "\n",
              "    .dataframe tbody tr th {\n",
              "        vertical-align: top;\n",
              "    }\n",
              "\n",
              "    .dataframe thead th {\n",
              "        text-align: right;\n",
              "    }\n",
              "</style>\n",
              "<table border=\"1\" class=\"dataframe\">\n",
              "  <thead>\n",
              "    <tr style=\"text-align: right;\">\n",
              "      <th></th>\n",
              "      <th>ID</th>\n",
              "      <th>Age</th>\n",
              "      <th>Experience</th>\n",
              "      <th>Income</th>\n",
              "      <th>ZIP Code</th>\n",
              "      <th>Family</th>\n",
              "      <th>CCAvg</th>\n",
              "      <th>Education</th>\n",
              "      <th>Mortgage</th>\n",
              "      <th>Personal Loan</th>\n",
              "      <th>Securities Account</th>\n",
              "      <th>CD Account</th>\n",
              "      <th>Online</th>\n",
              "      <th>CreditCard</th>\n",
              "    </tr>\n",
              "  </thead>\n",
              "  <tbody>\n",
              "    <tr>\n",
              "      <th>count</th>\n",
              "      <td>4000.000000</td>\n",
              "      <td>4000.000000</td>\n",
              "      <td>4000.000000</td>\n",
              "      <td>4000.000000</td>\n",
              "      <td>4000.000000</td>\n",
              "      <td>4000.000000</td>\n",
              "      <td>4000.000000</td>\n",
              "      <td>4000.000000</td>\n",
              "      <td>4000.000000</td>\n",
              "      <td>4000.000000</td>\n",
              "      <td>4000.000000</td>\n",
              "      <td>4000.000000</td>\n",
              "      <td>4000.000000</td>\n",
              "      <td>4000.00000</td>\n",
              "    </tr>\n",
              "    <tr>\n",
              "      <th>mean</th>\n",
              "      <td>2497.682500</td>\n",
              "      <td>45.429500</td>\n",
              "      <td>20.196250</td>\n",
              "      <td>73.479750</td>\n",
              "      <td>93156.583750</td>\n",
              "      <td>2.381750</td>\n",
              "      <td>1.921805</td>\n",
              "      <td>1.881500</td>\n",
              "      <td>55.968250</td>\n",
              "      <td>0.096000</td>\n",
              "      <td>0.104000</td>\n",
              "      <td>0.061500</td>\n",
              "      <td>0.599000</td>\n",
              "      <td>0.29050</td>\n",
              "    </tr>\n",
              "    <tr>\n",
              "      <th>std</th>\n",
              "      <td>1449.723807</td>\n",
              "      <td>11.489235</td>\n",
              "      <td>11.500143</td>\n",
              "      <td>46.321345</td>\n",
              "      <td>2197.762636</td>\n",
              "      <td>1.149716</td>\n",
              "      <td>1.738974</td>\n",
              "      <td>0.842102</td>\n",
              "      <td>101.054887</td>\n",
              "      <td>0.294628</td>\n",
              "      <td>0.305299</td>\n",
              "      <td>0.240275</td>\n",
              "      <td>0.490162</td>\n",
              "      <td>0.45405</td>\n",
              "    </tr>\n",
              "    <tr>\n",
              "      <th>min</th>\n",
              "      <td>1.000000</td>\n",
              "      <td>23.000000</td>\n",
              "      <td>-3.000000</td>\n",
              "      <td>8.000000</td>\n",
              "      <td>9307.000000</td>\n",
              "      <td>1.000000</td>\n",
              "      <td>0.000000</td>\n",
              "      <td>1.000000</td>\n",
              "      <td>0.000000</td>\n",
              "      <td>0.000000</td>\n",
              "      <td>0.000000</td>\n",
              "      <td>0.000000</td>\n",
              "      <td>0.000000</td>\n",
              "      <td>0.00000</td>\n",
              "    </tr>\n",
              "    <tr>\n",
              "      <th>25%</th>\n",
              "      <td>1245.750000</td>\n",
              "      <td>35.000000</td>\n",
              "      <td>10.000000</td>\n",
              "      <td>38.000000</td>\n",
              "      <td>91941.750000</td>\n",
              "      <td>1.000000</td>\n",
              "      <td>0.700000</td>\n",
              "      <td>1.000000</td>\n",
              "      <td>0.000000</td>\n",
              "      <td>0.000000</td>\n",
              "      <td>0.000000</td>\n",
              "      <td>0.000000</td>\n",
              "      <td>0.000000</td>\n",
              "      <td>0.00000</td>\n",
              "    </tr>\n",
              "    <tr>\n",
              "      <th>50%</th>\n",
              "      <td>2492.500000</td>\n",
              "      <td>45.000000</td>\n",
              "      <td>20.000000</td>\n",
              "      <td>63.000000</td>\n",
              "      <td>93407.000000</td>\n",
              "      <td>2.000000</td>\n",
              "      <td>1.500000</td>\n",
              "      <td>2.000000</td>\n",
              "      <td>0.000000</td>\n",
              "      <td>0.000000</td>\n",
              "      <td>0.000000</td>\n",
              "      <td>0.000000</td>\n",
              "      <td>1.000000</td>\n",
              "      <td>0.00000</td>\n",
              "    </tr>\n",
              "    <tr>\n",
              "      <th>75%</th>\n",
              "      <td>3767.250000</td>\n",
              "      <td>55.000000</td>\n",
              "      <td>30.000000</td>\n",
              "      <td>98.000000</td>\n",
              "      <td>94608.000000</td>\n",
              "      <td>3.000000</td>\n",
              "      <td>2.500000</td>\n",
              "      <td>3.000000</td>\n",
              "      <td>100.000000</td>\n",
              "      <td>0.000000</td>\n",
              "      <td>0.000000</td>\n",
              "      <td>0.000000</td>\n",
              "      <td>1.000000</td>\n",
              "      <td>1.00000</td>\n",
              "    </tr>\n",
              "    <tr>\n",
              "      <th>max</th>\n",
              "      <td>5000.000000</td>\n",
              "      <td>67.000000</td>\n",
              "      <td>43.000000</td>\n",
              "      <td>224.000000</td>\n",
              "      <td>96651.000000</td>\n",
              "      <td>4.000000</td>\n",
              "      <td>10.000000</td>\n",
              "      <td>3.000000</td>\n",
              "      <td>635.000000</td>\n",
              "      <td>1.000000</td>\n",
              "      <td>1.000000</td>\n",
              "      <td>1.000000</td>\n",
              "      <td>1.000000</td>\n",
              "      <td>1.00000</td>\n",
              "    </tr>\n",
              "  </tbody>\n",
              "</table>\n",
              "</div>\n",
              "    <div class=\"colab-df-buttons\">\n",
              "\n",
              "  <div class=\"colab-df-container\">\n",
              "    <button class=\"colab-df-convert\" onclick=\"convertToInteractive('df-82b3f562-0d4e-432d-b084-c0defb7beb2a')\"\n",
              "            title=\"Convert this dataframe to an interactive table.\"\n",
              "            style=\"display:none;\">\n",
              "\n",
              "  <svg xmlns=\"http://www.w3.org/2000/svg\" height=\"24px\" viewBox=\"0 -960 960 960\">\n",
              "    <path d=\"M120-120v-720h720v720H120Zm60-500h600v-160H180v160Zm220 220h160v-160H400v160Zm0 220h160v-160H400v160ZM180-400h160v-160H180v160Zm440 0h160v-160H620v160ZM180-180h160v-160H180v160Zm440 0h160v-160H620v160Z\"/>\n",
              "  </svg>\n",
              "    </button>\n",
              "\n",
              "  <style>\n",
              "    .colab-df-container {\n",
              "      display:flex;\n",
              "      gap: 12px;\n",
              "    }\n",
              "\n",
              "    .colab-df-convert {\n",
              "      background-color: #E8F0FE;\n",
              "      border: none;\n",
              "      border-radius: 50%;\n",
              "      cursor: pointer;\n",
              "      display: none;\n",
              "      fill: #1967D2;\n",
              "      height: 32px;\n",
              "      padding: 0 0 0 0;\n",
              "      width: 32px;\n",
              "    }\n",
              "\n",
              "    .colab-df-convert:hover {\n",
              "      background-color: #E2EBFA;\n",
              "      box-shadow: 0px 1px 2px rgba(60, 64, 67, 0.3), 0px 1px 3px 1px rgba(60, 64, 67, 0.15);\n",
              "      fill: #174EA6;\n",
              "    }\n",
              "\n",
              "    .colab-df-buttons div {\n",
              "      margin-bottom: 4px;\n",
              "    }\n",
              "\n",
              "    [theme=dark] .colab-df-convert {\n",
              "      background-color: #3B4455;\n",
              "      fill: #D2E3FC;\n",
              "    }\n",
              "\n",
              "    [theme=dark] .colab-df-convert:hover {\n",
              "      background-color: #434B5C;\n",
              "      box-shadow: 0px 1px 3px 1px rgba(0, 0, 0, 0.15);\n",
              "      filter: drop-shadow(0px 1px 2px rgba(0, 0, 0, 0.3));\n",
              "      fill: #FFFFFF;\n",
              "    }\n",
              "  </style>\n",
              "\n",
              "    <script>\n",
              "      const buttonEl =\n",
              "        document.querySelector('#df-82b3f562-0d4e-432d-b084-c0defb7beb2a button.colab-df-convert');\n",
              "      buttonEl.style.display =\n",
              "        google.colab.kernel.accessAllowed ? 'block' : 'none';\n",
              "\n",
              "      async function convertToInteractive(key) {\n",
              "        const element = document.querySelector('#df-82b3f562-0d4e-432d-b084-c0defb7beb2a');\n",
              "        const dataTable =\n",
              "          await google.colab.kernel.invokeFunction('convertToInteractive',\n",
              "                                                    [key], {});\n",
              "        if (!dataTable) return;\n",
              "\n",
              "        const docLinkHtml = 'Like what you see? Visit the ' +\n",
              "          '<a target=\"_blank\" href=https://colab.research.google.com/notebooks/data_table.ipynb>data table notebook</a>'\n",
              "          + ' to learn more about interactive tables.';\n",
              "        element.innerHTML = '';\n",
              "        dataTable['output_type'] = 'display_data';\n",
              "        await google.colab.output.renderOutput(dataTable, element);\n",
              "        const docLink = document.createElement('div');\n",
              "        docLink.innerHTML = docLinkHtml;\n",
              "        element.appendChild(docLink);\n",
              "      }\n",
              "    </script>\n",
              "  </div>\n",
              "\n",
              "\n",
              "<div id=\"df-8aed4b5d-d0aa-4502-a0fc-b1d9f999d3a0\">\n",
              "  <button class=\"colab-df-quickchart\" onclick=\"quickchart('df-8aed4b5d-d0aa-4502-a0fc-b1d9f999d3a0')\"\n",
              "            title=\"Suggest charts\"\n",
              "            style=\"display:none;\">\n",
              "\n",
              "<svg xmlns=\"http://www.w3.org/2000/svg\" height=\"24px\"viewBox=\"0 0 24 24\"\n",
              "     width=\"24px\">\n",
              "    <g>\n",
              "        <path d=\"M19 3H5c-1.1 0-2 .9-2 2v14c0 1.1.9 2 2 2h14c1.1 0 2-.9 2-2V5c0-1.1-.9-2-2-2zM9 17H7v-7h2v7zm4 0h-2V7h2v10zm4 0h-2v-4h2v4z\"/>\n",
              "    </g>\n",
              "</svg>\n",
              "  </button>\n",
              "\n",
              "<style>\n",
              "  .colab-df-quickchart {\n",
              "      --bg-color: #E8F0FE;\n",
              "      --fill-color: #1967D2;\n",
              "      --hover-bg-color: #E2EBFA;\n",
              "      --hover-fill-color: #174EA6;\n",
              "      --disabled-fill-color: #AAA;\n",
              "      --disabled-bg-color: #DDD;\n",
              "  }\n",
              "\n",
              "  [theme=dark] .colab-df-quickchart {\n",
              "      --bg-color: #3B4455;\n",
              "      --fill-color: #D2E3FC;\n",
              "      --hover-bg-color: #434B5C;\n",
              "      --hover-fill-color: #FFFFFF;\n",
              "      --disabled-bg-color: #3B4455;\n",
              "      --disabled-fill-color: #666;\n",
              "  }\n",
              "\n",
              "  .colab-df-quickchart {\n",
              "    background-color: var(--bg-color);\n",
              "    border: none;\n",
              "    border-radius: 50%;\n",
              "    cursor: pointer;\n",
              "    display: none;\n",
              "    fill: var(--fill-color);\n",
              "    height: 32px;\n",
              "    padding: 0;\n",
              "    width: 32px;\n",
              "  }\n",
              "\n",
              "  .colab-df-quickchart:hover {\n",
              "    background-color: var(--hover-bg-color);\n",
              "    box-shadow: 0 1px 2px rgba(60, 64, 67, 0.3), 0 1px 3px 1px rgba(60, 64, 67, 0.15);\n",
              "    fill: var(--button-hover-fill-color);\n",
              "  }\n",
              "\n",
              "  .colab-df-quickchart-complete:disabled,\n",
              "  .colab-df-quickchart-complete:disabled:hover {\n",
              "    background-color: var(--disabled-bg-color);\n",
              "    fill: var(--disabled-fill-color);\n",
              "    box-shadow: none;\n",
              "  }\n",
              "\n",
              "  .colab-df-spinner {\n",
              "    border: 2px solid var(--fill-color);\n",
              "    border-color: transparent;\n",
              "    border-bottom-color: var(--fill-color);\n",
              "    animation:\n",
              "      spin 1s steps(1) infinite;\n",
              "  }\n",
              "\n",
              "  @keyframes spin {\n",
              "    0% {\n",
              "      border-color: transparent;\n",
              "      border-bottom-color: var(--fill-color);\n",
              "      border-left-color: var(--fill-color);\n",
              "    }\n",
              "    20% {\n",
              "      border-color: transparent;\n",
              "      border-left-color: var(--fill-color);\n",
              "      border-top-color: var(--fill-color);\n",
              "    }\n",
              "    30% {\n",
              "      border-color: transparent;\n",
              "      border-left-color: var(--fill-color);\n",
              "      border-top-color: var(--fill-color);\n",
              "      border-right-color: var(--fill-color);\n",
              "    }\n",
              "    40% {\n",
              "      border-color: transparent;\n",
              "      border-right-color: var(--fill-color);\n",
              "      border-top-color: var(--fill-color);\n",
              "    }\n",
              "    60% {\n",
              "      border-color: transparent;\n",
              "      border-right-color: var(--fill-color);\n",
              "    }\n",
              "    80% {\n",
              "      border-color: transparent;\n",
              "      border-right-color: var(--fill-color);\n",
              "      border-bottom-color: var(--fill-color);\n",
              "    }\n",
              "    90% {\n",
              "      border-color: transparent;\n",
              "      border-bottom-color: var(--fill-color);\n",
              "    }\n",
              "  }\n",
              "</style>\n",
              "\n",
              "  <script>\n",
              "    async function quickchart(key) {\n",
              "      const quickchartButtonEl =\n",
              "        document.querySelector('#' + key + ' button');\n",
              "      quickchartButtonEl.disabled = true;  // To prevent multiple clicks.\n",
              "      quickchartButtonEl.classList.add('colab-df-spinner');\n",
              "      try {\n",
              "        const charts = await google.colab.kernel.invokeFunction(\n",
              "            'suggestCharts', [key], {});\n",
              "      } catch (error) {\n",
              "        console.error('Error during call to suggestCharts:', error);\n",
              "      }\n",
              "      quickchartButtonEl.classList.remove('colab-df-spinner');\n",
              "      quickchartButtonEl.classList.add('colab-df-quickchart-complete');\n",
              "    }\n",
              "    (() => {\n",
              "      let quickchartButtonEl =\n",
              "        document.querySelector('#df-8aed4b5d-d0aa-4502-a0fc-b1d9f999d3a0 button');\n",
              "      quickchartButtonEl.style.display =\n",
              "        google.colab.kernel.accessAllowed ? 'block' : 'none';\n",
              "    })();\n",
              "  </script>\n",
              "</div>\n",
              "    </div>\n",
              "  </div>\n"
            ]
          },
          "metadata": {},
          "execution_count": 4
        }
      ],
      "source": [
        "df.describe()"
      ]
    },
    {
      "cell_type": "markdown",
      "metadata": {
        "id": "57sZel7LPRzB"
      },
      "source": [
        "The dataset contains 14 features, 1 of which is the target feature.\n",
        "\n",
        "1 nominal feature: **ID**\n",
        "\n",
        "5 numeric features: **Age**, **Experience**, **Income**, **CCAvg**, **Mortgage**\n",
        "\n",
        "3 categorical features: **Family**, **Education**, **ZIP Code**\n",
        "\n",
        "5 boolean features: **Personal Loan**, **Securities Account**, **CD Account**, **Online**, **CreditCard**\n",
        "\n",
        "There are no missing values.\n",
        "\n",
        "Experience contains some negative values."
      ]
    },
    {
      "cell_type": "markdown",
      "metadata": {
        "id": "4Wl4T4lDyKAK"
      },
      "source": [
        "Remove the ID column, we won't need it."
      ]
    },
    {
      "cell_type": "code",
      "execution_count": 5,
      "metadata": {
        "id": "B3Wj00WZQiID",
        "colab": {
          "base_uri": "https://localhost:8080/",
          "height": 206
        },
        "outputId": "2be1ea2e-1f6f-46a9-fa0b-335d854e9035"
      },
      "outputs": [
        {
          "output_type": "execute_result",
          "data": {
            "text/plain": [
              "   Age  Experience  Income  ZIP Code  Family  CCAvg  Education  Mortgage  \\\n",
              "0   60          36      89     91745       2    2.8          1         0   \n",
              "1   44          19      30     91423       1    0.5          3         0   \n",
              "2   26           0      19     93014       1    0.1          2       121   \n",
              "3   34           9      41     92101       2    0.1          1       161   \n",
              "4   56          32      51     92780       4    1.5          1         0   \n",
              "\n",
              "   Personal Loan  Securities Account  CD Account  Online  CreditCard  \n",
              "0              0                   0           0       1           0  \n",
              "1              0                   0           0       1           0  \n",
              "2              0                   0           0       1           0  \n",
              "3              0                   0           0       1           1  \n",
              "4              0                   0           0       0           0  "
            ],
            "text/html": [
              "\n",
              "  <div id=\"df-02951b40-00ba-4769-9b15-8cad98ed6183\" class=\"colab-df-container\">\n",
              "    <div>\n",
              "<style scoped>\n",
              "    .dataframe tbody tr th:only-of-type {\n",
              "        vertical-align: middle;\n",
              "    }\n",
              "\n",
              "    .dataframe tbody tr th {\n",
              "        vertical-align: top;\n",
              "    }\n",
              "\n",
              "    .dataframe thead th {\n",
              "        text-align: right;\n",
              "    }\n",
              "</style>\n",
              "<table border=\"1\" class=\"dataframe\">\n",
              "  <thead>\n",
              "    <tr style=\"text-align: right;\">\n",
              "      <th></th>\n",
              "      <th>Age</th>\n",
              "      <th>Experience</th>\n",
              "      <th>Income</th>\n",
              "      <th>ZIP Code</th>\n",
              "      <th>Family</th>\n",
              "      <th>CCAvg</th>\n",
              "      <th>Education</th>\n",
              "      <th>Mortgage</th>\n",
              "      <th>Personal Loan</th>\n",
              "      <th>Securities Account</th>\n",
              "      <th>CD Account</th>\n",
              "      <th>Online</th>\n",
              "      <th>CreditCard</th>\n",
              "    </tr>\n",
              "  </thead>\n",
              "  <tbody>\n",
              "    <tr>\n",
              "      <th>0</th>\n",
              "      <td>60</td>\n",
              "      <td>36</td>\n",
              "      <td>89</td>\n",
              "      <td>91745</td>\n",
              "      <td>2</td>\n",
              "      <td>2.8</td>\n",
              "      <td>1</td>\n",
              "      <td>0</td>\n",
              "      <td>0</td>\n",
              "      <td>0</td>\n",
              "      <td>0</td>\n",
              "      <td>1</td>\n",
              "      <td>0</td>\n",
              "    </tr>\n",
              "    <tr>\n",
              "      <th>1</th>\n",
              "      <td>44</td>\n",
              "      <td>19</td>\n",
              "      <td>30</td>\n",
              "      <td>91423</td>\n",
              "      <td>1</td>\n",
              "      <td>0.5</td>\n",
              "      <td>3</td>\n",
              "      <td>0</td>\n",
              "      <td>0</td>\n",
              "      <td>0</td>\n",
              "      <td>0</td>\n",
              "      <td>1</td>\n",
              "      <td>0</td>\n",
              "    </tr>\n",
              "    <tr>\n",
              "      <th>2</th>\n",
              "      <td>26</td>\n",
              "      <td>0</td>\n",
              "      <td>19</td>\n",
              "      <td>93014</td>\n",
              "      <td>1</td>\n",
              "      <td>0.1</td>\n",
              "      <td>2</td>\n",
              "      <td>121</td>\n",
              "      <td>0</td>\n",
              "      <td>0</td>\n",
              "      <td>0</td>\n",
              "      <td>1</td>\n",
              "      <td>0</td>\n",
              "    </tr>\n",
              "    <tr>\n",
              "      <th>3</th>\n",
              "      <td>34</td>\n",
              "      <td>9</td>\n",
              "      <td>41</td>\n",
              "      <td>92101</td>\n",
              "      <td>2</td>\n",
              "      <td>0.1</td>\n",
              "      <td>1</td>\n",
              "      <td>161</td>\n",
              "      <td>0</td>\n",
              "      <td>0</td>\n",
              "      <td>0</td>\n",
              "      <td>1</td>\n",
              "      <td>1</td>\n",
              "    </tr>\n",
              "    <tr>\n",
              "      <th>4</th>\n",
              "      <td>56</td>\n",
              "      <td>32</td>\n",
              "      <td>51</td>\n",
              "      <td>92780</td>\n",
              "      <td>4</td>\n",
              "      <td>1.5</td>\n",
              "      <td>1</td>\n",
              "      <td>0</td>\n",
              "      <td>0</td>\n",
              "      <td>0</td>\n",
              "      <td>0</td>\n",
              "      <td>0</td>\n",
              "      <td>0</td>\n",
              "    </tr>\n",
              "  </tbody>\n",
              "</table>\n",
              "</div>\n",
              "    <div class=\"colab-df-buttons\">\n",
              "\n",
              "  <div class=\"colab-df-container\">\n",
              "    <button class=\"colab-df-convert\" onclick=\"convertToInteractive('df-02951b40-00ba-4769-9b15-8cad98ed6183')\"\n",
              "            title=\"Convert this dataframe to an interactive table.\"\n",
              "            style=\"display:none;\">\n",
              "\n",
              "  <svg xmlns=\"http://www.w3.org/2000/svg\" height=\"24px\" viewBox=\"0 -960 960 960\">\n",
              "    <path d=\"M120-120v-720h720v720H120Zm60-500h600v-160H180v160Zm220 220h160v-160H400v160Zm0 220h160v-160H400v160ZM180-400h160v-160H180v160Zm440 0h160v-160H620v160ZM180-180h160v-160H180v160Zm440 0h160v-160H620v160Z\"/>\n",
              "  </svg>\n",
              "    </button>\n",
              "\n",
              "  <style>\n",
              "    .colab-df-container {\n",
              "      display:flex;\n",
              "      gap: 12px;\n",
              "    }\n",
              "\n",
              "    .colab-df-convert {\n",
              "      background-color: #E8F0FE;\n",
              "      border: none;\n",
              "      border-radius: 50%;\n",
              "      cursor: pointer;\n",
              "      display: none;\n",
              "      fill: #1967D2;\n",
              "      height: 32px;\n",
              "      padding: 0 0 0 0;\n",
              "      width: 32px;\n",
              "    }\n",
              "\n",
              "    .colab-df-convert:hover {\n",
              "      background-color: #E2EBFA;\n",
              "      box-shadow: 0px 1px 2px rgba(60, 64, 67, 0.3), 0px 1px 3px 1px rgba(60, 64, 67, 0.15);\n",
              "      fill: #174EA6;\n",
              "    }\n",
              "\n",
              "    .colab-df-buttons div {\n",
              "      margin-bottom: 4px;\n",
              "    }\n",
              "\n",
              "    [theme=dark] .colab-df-convert {\n",
              "      background-color: #3B4455;\n",
              "      fill: #D2E3FC;\n",
              "    }\n",
              "\n",
              "    [theme=dark] .colab-df-convert:hover {\n",
              "      background-color: #434B5C;\n",
              "      box-shadow: 0px 1px 3px 1px rgba(0, 0, 0, 0.15);\n",
              "      filter: drop-shadow(0px 1px 2px rgba(0, 0, 0, 0.3));\n",
              "      fill: #FFFFFF;\n",
              "    }\n",
              "  </style>\n",
              "\n",
              "    <script>\n",
              "      const buttonEl =\n",
              "        document.querySelector('#df-02951b40-00ba-4769-9b15-8cad98ed6183 button.colab-df-convert');\n",
              "      buttonEl.style.display =\n",
              "        google.colab.kernel.accessAllowed ? 'block' : 'none';\n",
              "\n",
              "      async function convertToInteractive(key) {\n",
              "        const element = document.querySelector('#df-02951b40-00ba-4769-9b15-8cad98ed6183');\n",
              "        const dataTable =\n",
              "          await google.colab.kernel.invokeFunction('convertToInteractive',\n",
              "                                                    [key], {});\n",
              "        if (!dataTable) return;\n",
              "\n",
              "        const docLinkHtml = 'Like what you see? Visit the ' +\n",
              "          '<a target=\"_blank\" href=https://colab.research.google.com/notebooks/data_table.ipynb>data table notebook</a>'\n",
              "          + ' to learn more about interactive tables.';\n",
              "        element.innerHTML = '';\n",
              "        dataTable['output_type'] = 'display_data';\n",
              "        await google.colab.output.renderOutput(dataTable, element);\n",
              "        const docLink = document.createElement('div');\n",
              "        docLink.innerHTML = docLinkHtml;\n",
              "        element.appendChild(docLink);\n",
              "      }\n",
              "    </script>\n",
              "  </div>\n",
              "\n",
              "\n",
              "<div id=\"df-73a49be0-24f7-4af4-b6fb-5d4ac701e30d\">\n",
              "  <button class=\"colab-df-quickchart\" onclick=\"quickchart('df-73a49be0-24f7-4af4-b6fb-5d4ac701e30d')\"\n",
              "            title=\"Suggest charts\"\n",
              "            style=\"display:none;\">\n",
              "\n",
              "<svg xmlns=\"http://www.w3.org/2000/svg\" height=\"24px\"viewBox=\"0 0 24 24\"\n",
              "     width=\"24px\">\n",
              "    <g>\n",
              "        <path d=\"M19 3H5c-1.1 0-2 .9-2 2v14c0 1.1.9 2 2 2h14c1.1 0 2-.9 2-2V5c0-1.1-.9-2-2-2zM9 17H7v-7h2v7zm4 0h-2V7h2v10zm4 0h-2v-4h2v4z\"/>\n",
              "    </g>\n",
              "</svg>\n",
              "  </button>\n",
              "\n",
              "<style>\n",
              "  .colab-df-quickchart {\n",
              "      --bg-color: #E8F0FE;\n",
              "      --fill-color: #1967D2;\n",
              "      --hover-bg-color: #E2EBFA;\n",
              "      --hover-fill-color: #174EA6;\n",
              "      --disabled-fill-color: #AAA;\n",
              "      --disabled-bg-color: #DDD;\n",
              "  }\n",
              "\n",
              "  [theme=dark] .colab-df-quickchart {\n",
              "      --bg-color: #3B4455;\n",
              "      --fill-color: #D2E3FC;\n",
              "      --hover-bg-color: #434B5C;\n",
              "      --hover-fill-color: #FFFFFF;\n",
              "      --disabled-bg-color: #3B4455;\n",
              "      --disabled-fill-color: #666;\n",
              "  }\n",
              "\n",
              "  .colab-df-quickchart {\n",
              "    background-color: var(--bg-color);\n",
              "    border: none;\n",
              "    border-radius: 50%;\n",
              "    cursor: pointer;\n",
              "    display: none;\n",
              "    fill: var(--fill-color);\n",
              "    height: 32px;\n",
              "    padding: 0;\n",
              "    width: 32px;\n",
              "  }\n",
              "\n",
              "  .colab-df-quickchart:hover {\n",
              "    background-color: var(--hover-bg-color);\n",
              "    box-shadow: 0 1px 2px rgba(60, 64, 67, 0.3), 0 1px 3px 1px rgba(60, 64, 67, 0.15);\n",
              "    fill: var(--button-hover-fill-color);\n",
              "  }\n",
              "\n",
              "  .colab-df-quickchart-complete:disabled,\n",
              "  .colab-df-quickchart-complete:disabled:hover {\n",
              "    background-color: var(--disabled-bg-color);\n",
              "    fill: var(--disabled-fill-color);\n",
              "    box-shadow: none;\n",
              "  }\n",
              "\n",
              "  .colab-df-spinner {\n",
              "    border: 2px solid var(--fill-color);\n",
              "    border-color: transparent;\n",
              "    border-bottom-color: var(--fill-color);\n",
              "    animation:\n",
              "      spin 1s steps(1) infinite;\n",
              "  }\n",
              "\n",
              "  @keyframes spin {\n",
              "    0% {\n",
              "      border-color: transparent;\n",
              "      border-bottom-color: var(--fill-color);\n",
              "      border-left-color: var(--fill-color);\n",
              "    }\n",
              "    20% {\n",
              "      border-color: transparent;\n",
              "      border-left-color: var(--fill-color);\n",
              "      border-top-color: var(--fill-color);\n",
              "    }\n",
              "    30% {\n",
              "      border-color: transparent;\n",
              "      border-left-color: var(--fill-color);\n",
              "      border-top-color: var(--fill-color);\n",
              "      border-right-color: var(--fill-color);\n",
              "    }\n",
              "    40% {\n",
              "      border-color: transparent;\n",
              "      border-right-color: var(--fill-color);\n",
              "      border-top-color: var(--fill-color);\n",
              "    }\n",
              "    60% {\n",
              "      border-color: transparent;\n",
              "      border-right-color: var(--fill-color);\n",
              "    }\n",
              "    80% {\n",
              "      border-color: transparent;\n",
              "      border-right-color: var(--fill-color);\n",
              "      border-bottom-color: var(--fill-color);\n",
              "    }\n",
              "    90% {\n",
              "      border-color: transparent;\n",
              "      border-bottom-color: var(--fill-color);\n",
              "    }\n",
              "  }\n",
              "</style>\n",
              "\n",
              "  <script>\n",
              "    async function quickchart(key) {\n",
              "      const quickchartButtonEl =\n",
              "        document.querySelector('#' + key + ' button');\n",
              "      quickchartButtonEl.disabled = true;  // To prevent multiple clicks.\n",
              "      quickchartButtonEl.classList.add('colab-df-spinner');\n",
              "      try {\n",
              "        const charts = await google.colab.kernel.invokeFunction(\n",
              "            'suggestCharts', [key], {});\n",
              "      } catch (error) {\n",
              "        console.error('Error during call to suggestCharts:', error);\n",
              "      }\n",
              "      quickchartButtonEl.classList.remove('colab-df-spinner');\n",
              "      quickchartButtonEl.classList.add('colab-df-quickchart-complete');\n",
              "    }\n",
              "    (() => {\n",
              "      let quickchartButtonEl =\n",
              "        document.querySelector('#df-73a49be0-24f7-4af4-b6fb-5d4ac701e30d button');\n",
              "      quickchartButtonEl.style.display =\n",
              "        google.colab.kernel.accessAllowed ? 'block' : 'none';\n",
              "    })();\n",
              "  </script>\n",
              "</div>\n",
              "    </div>\n",
              "  </div>\n"
            ]
          },
          "metadata": {},
          "execution_count": 5
        }
      ],
      "source": [
        "df.drop(axis=1, columns=['ID'], inplace=True)\n",
        "df.head()"
      ]
    },
    {
      "cell_type": "markdown",
      "metadata": {
        "id": "8_S0yiCEQvbC"
      },
      "source": [
        "It makes sense to try to catch any correlations or lack thereof.\n",
        "\n",
        "Build a correlation matrix."
      ]
    },
    {
      "cell_type": "code",
      "execution_count": 6,
      "metadata": {
        "id": "JGrHybCnQ0q1",
        "colab": {
          "base_uri": "https://localhost:8080/",
          "height": 1000
        },
        "outputId": "a6187c90-946b-4d19-842d-14a4772c5248"
      },
      "outputs": [
        {
          "output_type": "display_data",
          "data": {
            "text/plain": [
              "<Figure size 1500x1500 with 2 Axes>"
            ],
            "image/png": "[encoded data removed]"
          },
          "metadata": {}
        }
      ],
      "source": [
        "sns.heatmap(df.corr(), annot=True, cmap='Reds', linewidths=0.1)\n",
        "fig=plt.gcf()\n",
        "fig.set_size_inches(15,15)\n",
        "plt.show()"
      ]
    },
    {
      "cell_type": "markdown",
      "metadata": {
        "id": "33KxJRptS_wP"
      },
      "source": [
        "Identify the two most correlated features."
      ]
    },
    {
      "cell_type": "code",
      "execution_count": 7,
      "metadata": {
        "id": "Xo1LgkW5ysoc",
        "colab": {
          "base_uri": "https://localhost:8080/"
        },
        "outputId": "580048c5-baf1-4f63-edc2-daa12ef3a44d"
      },
      "outputs": [
        {
          "output_type": "stream",
          "name": "stdout",
          "text": [
            "Age            Experience            0.994134\n",
            "Income         CCAvg                 0.641660\n",
            "               Personal Loan         0.497333\n",
            "CCAvg          Personal Loan         0.365553\n",
            "Personal Loan  CD Account            0.336931\n",
            "                                       ...   \n",
            "Experience     Education             0.001394\n",
            "Age            Securities Account    0.000950\n",
            "Experience     Mortgage              0.000700\n",
            "ZIP Code       Securities Account    0.000667\n",
            "Experience     Securities Account    0.000239\n",
            "Length: 78, dtype: float64\n"
          ]
        }
      ],
      "source": [
        "corr_matrix = df.corr().abs()\n",
        "\n",
        "sol = (corr_matrix.where(np.triu(np.ones(corr_matrix.shape), k=1).astype(bool))\n",
        "                  .stack()\n",
        "                  .sort_values(ascending=False))\n",
        "\n",
        "print(sol)"
      ]
    },
    {
      "cell_type": "markdown",
      "metadata": {
        "id": "MIAngsDe2ppM"
      },
      "source": [
        "Identify the feature that is least correlated (almost uncorrelated) with the other features (including target). Remove this feature from consideration.\n",
        "\n",
        "Enter the name of the removed feature."
      ]
    },
    {
      "cell_type": "code",
      "execution_count": 8,
      "metadata": {
        "id": "bqOQ1cVk27fb",
        "colab": {
          "base_uri": "https://localhost:8080/"
        },
        "outputId": "6d9645b0-cb20-4d70-a14d-8923bc995765"
      },
      "outputs": [
        {
          "output_type": "stream",
          "name": "stdout",
          "text": [
            "Age 1.2400000000000002\n",
            "Experience 1.2300000000000002\n",
            "Income 2.01\n",
            "ZIP Code 0.14\n",
            "Family 0.54\n",
            "CCAvg 1.6000000000000003\n",
            "Education 0.6600000000000001\n",
            "Mortgage 0.5900000000000001\n",
            "Personal Loan 1.6400000000000001\n",
            "Securities Account 0.45000000000000007\n",
            "CD Account 1.62\n",
            "Online 0.3400000000000001\n",
            "CreditCard 0.40000000000000013\n"
          ]
        }
      ],
      "source": [
        "columns = list(df.columns)\n",
        "\n",
        "corr = {column: [] for column in columns}\n",
        "\n",
        "for column in columns:\n",
        "    for index, value in sol.items():\n",
        "        if column in index:\n",
        "            corr[column].append(value)\n",
        "\n",
        "for column in columns:\n",
        "    print(column, sum([round(x,2) for x in corr[column]]))"
      ]
    },
    {
      "cell_type": "markdown",
      "source": [
        "ZIP Code"
      ],
      "metadata": {
        "id": "miRp_5XsQg9h"
      }
    },
    {
      "cell_type": "code",
      "source": [
        "df.drop(axis=1, columns=['ZIP Code'], inplace=True)"
      ],
      "metadata": {
        "id": "tGcXb_2oUezr"
      },
      "execution_count": 9,
      "outputs": []
    },
    {
      "cell_type": "markdown",
      "metadata": {
        "id": "1T2nmzIqTleQ"
      },
      "source": [
        "# Preliminary data preparation"
      ]
    },
    {
      "cell_type": "markdown",
      "metadata": {
        "id": "owfKqPFi3JRb"
      },
      "source": [
        "## Feature modification"
      ]
    },
    {
      "cell_type": "markdown",
      "metadata": {
        "id": "mKAYY8dmX2v1"
      },
      "source": [
        "It is worth dealing with the <code>Experience</code> feature. You can see that experience correlates with age. However, there are negative values in the <code>Experience</code> column. It makes sense to \"shift\" the values in this column. Add the same number to all values in the <code>Experience</code> column so that the minimum value is equal to $0$.\n",
        "\n",
        "Calculate the sample mean of the <code>Experience</code> column after transformation."
      ]
    },
    {
      "cell_type": "code",
      "execution_count": 10,
      "metadata": {
        "id": "HacXjLu6X_FU"
      },
      "outputs": [],
      "source": [
        "df['Experience'] = abs(df['Experience'].min()) + df['Experience']"
      ]
    },
    {
      "cell_type": "code",
      "source": [
        "round(df['Experience'].mean(), 3)"
      ],
      "metadata": {
        "colab": {
          "base_uri": "https://localhost:8080/"
        },
        "id": "mIZG_ewcVHUN",
        "outputId": "7fd025b3-c8ca-4fb0-9244-596b18e382f8"
      },
      "execution_count": 11,
      "outputs": [
        {
          "output_type": "execute_result",
          "data": {
            "text/plain": [
              "23.196"
            ]
          },
          "metadata": {},
          "execution_count": 11
        }
      ]
    },
    {
      "cell_type": "markdown",
      "metadata": {
        "id": "0CPdKkpIb9Ko"
      },
      "source": [
        "Similarly, it makes sense to modify the <code>CCAvg</code> feature. Since the annual income is considered, the value of spending should be considered for the whole year.\n",
        "\n",
        "Calculate the sample mean of the <code>CCAvg</code> column after transformation."
      ]
    },
    {
      "cell_type": "code",
      "execution_count": 12,
      "metadata": {
        "id": "cE_wPGDeb7_J"
      },
      "outputs": [],
      "source": [
        "df['CCAvg'] =  df['CCAvg']*12"
      ]
    },
    {
      "cell_type": "code",
      "source": [
        "round(df['CCAvg'].mean(), 3)"
      ],
      "metadata": {
        "colab": {
          "base_uri": "https://localhost:8080/"
        },
        "id": "sr05Y2qvV6Ua",
        "outputId": "60d3ca14-a7fc-4400-8cfd-64008dbcd814"
      },
      "execution_count": 13,
      "outputs": [
        {
          "output_type": "execute_result",
          "data": {
            "text/plain": [
              "23.062"
            ]
          },
          "metadata": {},
          "execution_count": 13
        }
      ]
    },
    {
      "cell_type": "markdown",
      "metadata": {
        "id": "sck74wTfdwXF"
      },
      "source": [
        "## Determining outliers"
      ]
    },
    {
      "cell_type": "markdown",
      "metadata": {
        "id": "_3rpqkJp3xY_"
      },
      "source": [
        "Construct boxplots for all predictors. We recommend using the <code>sns.boxplot()</code>. Identify the feature from the boxplot image in your individual assignment."
      ]
    },
    {
      "cell_type": "markdown",
      "source": [
        "![image.png](data:image/png;base64,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)"
      ],
      "metadata": {
        "id": "ytOlxPGmWicr"
      }
    },
    {
      "cell_type": "code",
      "execution_count": 14,
      "metadata": {
        "id": "dqDNlzX3oKbT",
        "colab": {
          "base_uri": "https://localhost:8080/",
          "height": 474
        },
        "outputId": "b05abe7f-d11c-490e-dea9-c562ac4519de"
      },
      "outputs": [
        {
          "output_type": "display_data",
          "data": {
            "text/plain": [
              "<Figure size 640x480 with 12 Axes>"
            ],
            "image/png": "[encoded data removed]"
          },
          "metadata": {}
        }
      ],
      "source": [
        "names = list(df.columns)\n",
        "f, axes = plt.subplots(round(len(names)/3), 3)\n",
        "y = 0;\n",
        "for name in names:\n",
        "    i, j = divmod(y,3)\n",
        "    sns.boxplot(x=df[name], ax=axes[i, j])\n",
        "    y = y + 1\n",
        "\n",
        "plt.tight_layout()\n",
        "plt.show()"
      ]
    },
    {
      "cell_type": "markdown",
      "source": [
        "CCAvg"
      ],
      "metadata": {
        "id": "vWC5f8yqXPvR"
      }
    },
    {
      "cell_type": "markdown",
      "metadata": {
        "id": "fv2fr5pLRU54"
      },
      "source": [
        "Identify the feature containing the largest number of outliers. Enter the name of the feature."
      ]
    },
    {
      "cell_type": "markdown",
      "source": [
        "Mortgage"
      ],
      "metadata": {
        "id": "SuKmuHT5XCT2"
      }
    },
    {
      "cell_type": "markdown",
      "metadata": {
        "id": "3YYxjhcmzfFB"
      },
      "source": [
        "It makes sense to work with this feature. For this purpose, the following statistical considerations can be used. If you subtract the sample mean from the data, and then divided by the standard deviation, then, using the $68-95-99.7$ rule under the assumption of normality of distribution, we can discard the tails that are too far from zero.\n",
        "Construct a histogram of the distribution of values within this feature."
      ]
    },
    {
      "cell_type": "code",
      "execution_count": 15,
      "metadata": {
        "id": "5dHRr6YD0U5U",
        "colab": {
          "base_uri": "https://localhost:8080/",
          "height": 478
        },
        "outputId": "b445b7d9-d98a-4d19-da62-be0d90e676d3"
      },
      "outputs": [
        {
          "output_type": "display_data",
          "data": {
            "text/plain": [
              "<Figure size 640x480 with 1 Axes>"
            ],
            "image/png": "[encoded data removed]"
          },
          "metadata": {}
        }
      ],
      "source": [
        "sns.histplot(data=df, x='Mortgage');"
      ]
    },
    {
      "cell_type": "markdown",
      "metadata": {
        "id": "A1PjJGciS0JL"
      },
      "source": [
        "Obviously, among the values of this feature there are a small number of values that lie \"far away from the trend\". We can use <a href=\"https://docs.scipy.org/doc/scipy/reference/generated/scipy.stats.zscore.html\"><code>z-score</code></a> function from the <code>scipy</code> library.\n",
        "\n",
        "Recalling the course of probability theory, it becomes clear that about $99.7\\%$ of the normal distribution will be contained in the interval $[-3\\sigma, 3\\sigma]$. Determine the number of elements whose modulus of <code>z-score</code> is greater than $3$."
      ]
    },
    {
      "cell_type": "code",
      "execution_count": 16,
      "metadata": {
        "id": "IAqVmGrDRq7J",
        "colab": {
          "base_uri": "https://localhost:8080/"
        },
        "outputId": "ef3f9173-a133-40d0-e873-b2456895ba76"
      },
      "outputs": [
        {
          "output_type": "execute_result",
          "data": {
            "text/plain": [
              "0    3917\n",
              "1      83\n",
              "Name: zscore, dtype: int64"
            ]
          },
          "metadata": {},
          "execution_count": 16
        }
      ],
      "source": [
        "from scipy import stats\n",
        "\n",
        "df['zscore'] = stats.zscore(list(df['Mortgage']))\n",
        "\n",
        "df['zscore'] = np.where(df[\"zscore\"].abs() > 3, 1, 0) # 1 - z-score is greater than  3 .\n",
        "\n",
        "df['zscore'].value_counts()"
      ]
    },
    {
      "cell_type": "markdown",
      "metadata": {
        "id": "tUhbuuVkmG44"
      },
      "source": [
        "So, there are not very many outliers, so they can simply be discarded from the provided dataset. Enter the remaining number of rows in the dataset."
      ]
    },
    {
      "cell_type": "code",
      "execution_count": 17,
      "metadata": {
        "id": "BWLLchbGmKyx",
        "colab": {
          "base_uri": "https://localhost:8080/",
          "height": 423
        },
        "outputId": "530c77d6-b90c-4dec-9df8-90f09f0e1b79"
      },
      "outputs": [
        {
          "output_type": "execute_result",
          "data": {
            "text/plain": [
              "      Age  Experience  Income  Family  CCAvg  Education  Mortgage  \\\n",
              "0      60          39      89       2   33.6          1         0   \n",
              "1      44          22      30       1    6.0          3         0   \n",
              "2      26           3      19       1    1.2          2       121   \n",
              "3      34          12      41       2    1.2          1       161   \n",
              "4      56          35      51       4   18.0          1         0   \n",
              "...   ...         ...     ...     ...    ...        ...       ...   \n",
              "3995   37          14      59       4    2.4          3         0   \n",
              "3996   36          13      91       1   18.0          3       289   \n",
              "3997   57          34     131       2   32.4          1         0   \n",
              "3998   40          18      83       1   12.0          3         0   \n",
              "3999   30           8      23       2   10.8          3         0   \n",
              "\n",
              "      Personal Loan  Securities Account  CD Account  Online  CreditCard  \n",
              "0                 0                   0           0       1           0  \n",
              "1                 0                   0           0       1           0  \n",
              "2                 0                   0           0       1           0  \n",
              "3                 0                   0           0       1           1  \n",
              "4                 0                   0           0       0           0  \n",
              "...             ...                 ...         ...     ...         ...  \n",
              "3995              0                   0           0       0           0  \n",
              "3996              0                   0           0       1           0  \n",
              "3997              0                   0           0       0           0  \n",
              "3998              0                   0           0       0           0  \n",
              "3999              0                   1           0       1           0  \n",
              "\n",
              "[3917 rows x 12 columns]"
            ],
            "text/html": [
              "\n",
              "  <div id=\"df-795b7810-bcbf-4ee4-a2af-1ef6b455d6ee\" class=\"colab-df-container\">\n",
              "    <div>\n",
              "<style scoped>\n",
              "    .dataframe tbody tr th:only-of-type {\n",
              "        vertical-align: middle;\n",
              "    }\n",
              "\n",
              "    .dataframe tbody tr th {\n",
              "        vertical-align: top;\n",
              "    }\n",
              "\n",
              "    .dataframe thead th {\n",
              "        text-align: right;\n",
              "    }\n",
              "</style>\n",
              "<table border=\"1\" class=\"dataframe\">\n",
              "  <thead>\n",
              "    <tr style=\"text-align: right;\">\n",
              "      <th></th>\n",
              "      <th>Age</th>\n",
              "      <th>Experience</th>\n",
              "      <th>Income</th>\n",
              "      <th>Family</th>\n",
              "      <th>CCAvg</th>\n",
              "      <th>Education</th>\n",
              "      <th>Mortgage</th>\n",
              "      <th>Personal Loan</th>\n",
              "      <th>Securities Account</th>\n",
              "      <th>CD Account</th>\n",
              "      <th>Online</th>\n",
              "      <th>CreditCard</th>\n",
              "    </tr>\n",
              "  </thead>\n",
              "  <tbody>\n",
              "    <tr>\n",
              "      <th>0</th>\n",
              "      <td>60</td>\n",
              "      <td>39</td>\n",
              "      <td>89</td>\n",
              "      <td>2</td>\n",
              "      <td>33.6</td>\n",
              "      <td>1</td>\n",
              "      <td>0</td>\n",
              "      <td>0</td>\n",
              "      <td>0</td>\n",
              "      <td>0</td>\n",
              "      <td>1</td>\n",
              "      <td>0</td>\n",
              "    </tr>\n",
              "    <tr>\n",
              "      <th>1</th>\n",
              "      <td>44</td>\n",
              "      <td>22</td>\n",
              "      <td>30</td>\n",
              "      <td>1</td>\n",
              "      <td>6.0</td>\n",
              "      <td>3</td>\n",
              "      <td>0</td>\n",
              "      <td>0</td>\n",
              "      <td>0</td>\n",
              "      <td>0</td>\n",
              "      <td>1</td>\n",
              "      <td>0</td>\n",
              "    </tr>\n",
              "    <tr>\n",
              "      <th>2</th>\n",
              "      <td>26</td>\n",
              "      <td>3</td>\n",
              "      <td>19</td>\n",
              "      <td>1</td>\n",
              "      <td>1.2</td>\n",
              "      <td>2</td>\n",
              "      <td>121</td>\n",
              "      <td>0</td>\n",
              "      <td>0</td>\n",
              "      <td>0</td>\n",
              "      <td>1</td>\n",
              "      <td>0</td>\n",
              "    </tr>\n",
              "    <tr>\n",
              "      <th>3</th>\n",
              "      <td>34</td>\n",
              "      <td>12</td>\n",
              "      <td>41</td>\n",
              "      <td>2</td>\n",
              "      <td>1.2</td>\n",
              "      <td>1</td>\n",
              "      <td>161</td>\n",
              "      <td>0</td>\n",
              "      <td>0</td>\n",
              "      <td>0</td>\n",
              "      <td>1</td>\n",
              "      <td>1</td>\n",
              "    </tr>\n",
              "    <tr>\n",
              "      <th>4</th>\n",
              "      <td>56</td>\n",
              "      <td>35</td>\n",
              "      <td>51</td>\n",
              "      <td>4</td>\n",
              "      <td>18.0</td>\n",
              "      <td>1</td>\n",
              "      <td>0</td>\n",
              "      <td>0</td>\n",
              "      <td>0</td>\n",
              "      <td>0</td>\n",
              "      <td>0</td>\n",
              "      <td>0</td>\n",
              "    </tr>\n",
              "    <tr>\n",
              "      <th>...</th>\n",
              "      <td>...</td>\n",
              "      <td>...</td>\n",
              "      <td>...</td>\n",
              "      <td>...</td>\n",
              "      <td>...</td>\n",
              "      <td>...</td>\n",
              "      <td>...</td>\n",
              "      <td>...</td>\n",
              "      <td>...</td>\n",
              "      <td>...</td>\n",
              "      <td>...</td>\n",
              "      <td>...</td>\n",
              "    </tr>\n",
              "    <tr>\n",
              "      <th>3995</th>\n",
              "      <td>37</td>\n",
              "      <td>14</td>\n",
              "      <td>59</td>\n",
              "      <td>4</td>\n",
              "      <td>2.4</td>\n",
              "      <td>3</td>\n",
              "      <td>0</td>\n",
              "      <td>0</td>\n",
              "      <td>0</td>\n",
              "      <td>0</td>\n",
              "      <td>0</td>\n",
              "      <td>0</td>\n",
              "    </tr>\n",
              "    <tr>\n",
              "      <th>3996</th>\n",
              "      <td>36</td>\n",
              "      <td>13</td>\n",
              "      <td>91</td>\n",
              "      <td>1</td>\n",
              "      <td>18.0</td>\n",
              "      <td>3</td>\n",
              "      <td>289</td>\n",
              "      <td>0</td>\n",
              "      <td>0</td>\n",
              "      <td>0</td>\n",
              "      <td>1</td>\n",
              "      <td>0</td>\n",
              "    </tr>\n",
              "    <tr>\n",
              "      <th>3997</th>\n",
              "      <td>57</td>\n",
              "      <td>34</td>\n",
              "      <td>131</td>\n",
              "      <td>2</td>\n",
              "      <td>32.4</td>\n",
              "      <td>1</td>\n",
              "      <td>0</td>\n",
              "      <td>0</td>\n",
              "      <td>0</td>\n",
              "      <td>0</td>\n",
              "      <td>0</td>\n",
              "      <td>0</td>\n",
              "    </tr>\n",
              "    <tr>\n",
              "      <th>3998</th>\n",
              "      <td>40</td>\n",
              "      <td>18</td>\n",
              "      <td>83</td>\n",
              "      <td>1</td>\n",
              "      <td>12.0</td>\n",
              "      <td>3</td>\n",
              "      <td>0</td>\n",
              "      <td>0</td>\n",
              "      <td>0</td>\n",
              "      <td>0</td>\n",
              "      <td>0</td>\n",
              "      <td>0</td>\n",
              "    </tr>\n",
              "    <tr>\n",
              "      <th>3999</th>\n",
              "      <td>30</td>\n",
              "      <td>8</td>\n",
              "      <td>23</td>\n",
              "      <td>2</td>\n",
              "      <td>10.8</td>\n",
              "      <td>3</td>\n",
              "      <td>0</td>\n",
              "      <td>0</td>\n",
              "      <td>1</td>\n",
              "      <td>0</td>\n",
              "      <td>1</td>\n",
              "      <td>0</td>\n",
              "    </tr>\n",
              "  </tbody>\n",
              "</table>\n",
              "<p>3917 rows × 12 columns</p>\n",
              "</div>\n",
              "    <div class=\"colab-df-buttons\">\n",
              "\n",
              "  <div class=\"colab-df-container\">\n",
              "    <button class=\"colab-df-convert\" onclick=\"convertToInteractive('df-795b7810-bcbf-4ee4-a2af-1ef6b455d6ee')\"\n",
              "            title=\"Convert this dataframe to an interactive table.\"\n",
              "            style=\"display:none;\">\n",
              "\n",
              "  <svg xmlns=\"http://www.w3.org/2000/svg\" height=\"24px\" viewBox=\"0 -960 960 960\">\n",
              "    <path d=\"M120-120v-720h720v720H120Zm60-500h600v-160H180v160Zm220 220h160v-160H400v160Zm0 220h160v-160H400v160ZM180-400h160v-160H180v160Zm440 0h160v-160H620v160ZM180-180h160v-160H180v160Zm440 0h160v-160H620v160Z\"/>\n",
              "  </svg>\n",
              "    </button>\n",
              "\n",
              "  <style>\n",
              "    .colab-df-container {\n",
              "      display:flex;\n",
              "      gap: 12px;\n",
              "    }\n",
              "\n",
              "    .colab-df-convert {\n",
              "      background-color: #E8F0FE;\n",
              "      border: none;\n",
              "      border-radius: 50%;\n",
              "      cursor: pointer;\n",
              "      display: none;\n",
              "      fill: #1967D2;\n",
              "      height: 32px;\n",
              "      padding: 0 0 0 0;\n",
              "      width: 32px;\n",
              "    }\n",
              "\n",
              "    .colab-df-convert:hover {\n",
              "      background-color: #E2EBFA;\n",
              "      box-shadow: 0px 1px 2px rgba(60, 64, 67, 0.3), 0px 1px 3px 1px rgba(60, 64, 67, 0.15);\n",
              "      fill: #174EA6;\n",
              "    }\n",
              "\n",
              "    .colab-df-buttons div {\n",
              "      margin-bottom: 4px;\n",
              "    }\n",
              "\n",
              "    [theme=dark] .colab-df-convert {\n",
              "      background-color: #3B4455;\n",
              "      fill: #D2E3FC;\n",
              "    }\n",
              "\n",
              "    [theme=dark] .colab-df-convert:hover {\n",
              "      background-color: #434B5C;\n",
              "      box-shadow: 0px 1px 3px 1px rgba(0, 0, 0, 0.15);\n",
              "      filter: drop-shadow(0px 1px 2px rgba(0, 0, 0, 0.3));\n",
              "      fill: #FFFFFF;\n",
              "    }\n",
              "  </style>\n",
              "\n",
              "    <script>\n",
              "      const buttonEl =\n",
              "        document.querySelector('#df-795b7810-bcbf-4ee4-a2af-1ef6b455d6ee button.colab-df-convert');\n",
              "      buttonEl.style.display =\n",
              "        google.colab.kernel.accessAllowed ? 'block' : 'none';\n",
              "\n",
              "      async function convertToInteractive(key) {\n",
              "        const element = document.querySelector('#df-795b7810-bcbf-4ee4-a2af-1ef6b455d6ee');\n",
              "        const dataTable =\n",
              "          await google.colab.kernel.invokeFunction('convertToInteractive',\n",
              "                                                    [key], {});\n",
              "        if (!dataTable) return;\n",
              "\n",
              "        const docLinkHtml = 'Like what you see? Visit the ' +\n",
              "          '<a target=\"_blank\" href=https://colab.research.google.com/notebooks/data_table.ipynb>data table notebook</a>'\n",
              "          + ' to learn more about interactive tables.';\n",
              "        element.innerHTML = '';\n",
              "        dataTable['output_type'] = 'display_data';\n",
              "        await google.colab.output.renderOutput(dataTable, element);\n",
              "        const docLink = document.createElement('div');\n",
              "        docLink.innerHTML = docLinkHtml;\n",
              "        element.appendChild(docLink);\n",
              "      }\n",
              "    </script>\n",
              "  </div>\n",
              "\n",
              "\n",
              "<div id=\"df-e20062fa-29cb-4a26-b7d4-eae896be8b5f\">\n",
              "  <button class=\"colab-df-quickchart\" onclick=\"quickchart('df-e20062fa-29cb-4a26-b7d4-eae896be8b5f')\"\n",
              "            title=\"Suggest charts\"\n",
              "            style=\"display:none;\">\n",
              "\n",
              "<svg xmlns=\"http://www.w3.org/2000/svg\" height=\"24px\"viewBox=\"0 0 24 24\"\n",
              "     width=\"24px\">\n",
              "    <g>\n",
              "        <path d=\"M19 3H5c-1.1 0-2 .9-2 2v14c0 1.1.9 2 2 2h14c1.1 0 2-.9 2-2V5c0-1.1-.9-2-2-2zM9 17H7v-7h2v7zm4 0h-2V7h2v10zm4 0h-2v-4h2v4z\"/>\n",
              "    </g>\n",
              "</svg>\n",
              "  </button>\n",
              "\n",
              "<style>\n",
              "  .colab-df-quickchart {\n",
              "      --bg-color: #E8F0FE;\n",
              "      --fill-color: #1967D2;\n",
              "      --hover-bg-color: #E2EBFA;\n",
              "      --hover-fill-color: #174EA6;\n",
              "      --disabled-fill-color: #AAA;\n",
              "      --disabled-bg-color: #DDD;\n",
              "  }\n",
              "\n",
              "  [theme=dark] .colab-df-quickchart {\n",
              "      --bg-color: #3B4455;\n",
              "      --fill-color: #D2E3FC;\n",
              "      --hover-bg-color: #434B5C;\n",
              "      --hover-fill-color: #FFFFFF;\n",
              "      --disabled-bg-color: #3B4455;\n",
              "      --disabled-fill-color: #666;\n",
              "  }\n",
              "\n",
              "  .colab-df-quickchart {\n",
              "    background-color: var(--bg-color);\n",
              "    border: none;\n",
              "    border-radius: 50%;\n",
              "    cursor: pointer;\n",
              "    display: none;\n",
              "    fill: var(--fill-color);\n",
              "    height: 32px;\n",
              "    padding: 0;\n",
              "    width: 32px;\n",
              "  }\n",
              "\n",
              "  .colab-df-quickchart:hover {\n",
              "    background-color: var(--hover-bg-color);\n",
              "    box-shadow: 0 1px 2px rgba(60, 64, 67, 0.3), 0 1px 3px 1px rgba(60, 64, 67, 0.15);\n",
              "    fill: var(--button-hover-fill-color);\n",
              "  }\n",
              "\n",
              "  .colab-df-quickchart-complete:disabled,\n",
              "  .colab-df-quickchart-complete:disabled:hover {\n",
              "    background-color: var(--disabled-bg-color);\n",
              "    fill: var(--disabled-fill-color);\n",
              "    box-shadow: none;\n",
              "  }\n",
              "\n",
              "  .colab-df-spinner {\n",
              "    border: 2px solid var(--fill-color);\n",
              "    border-color: transparent;\n",
              "    border-bottom-color: var(--fill-color);\n",
              "    animation:\n",
              "      spin 1s steps(1) infinite;\n",
              "  }\n",
              "\n",
              "  @keyframes spin {\n",
              "    0% {\n",
              "      border-color: transparent;\n",
              "      border-bottom-color: var(--fill-color);\n",
              "      border-left-color: var(--fill-color);\n",
              "    }\n",
              "    20% {\n",
              "      border-color: transparent;\n",
              "      border-left-color: var(--fill-color);\n",
              "      border-top-color: var(--fill-color);\n",
              "    }\n",
              "    30% {\n",
              "      border-color: transparent;\n",
              "      border-left-color: var(--fill-color);\n",
              "      border-top-color: var(--fill-color);\n",
              "      border-right-color: var(--fill-color);\n",
              "    }\n",
              "    40% {\n",
              "      border-color: transparent;\n",
              "      border-right-color: var(--fill-color);\n",
              "      border-top-color: var(--fill-color);\n",
              "    }\n",
              "    60% {\n",
              "      border-color: transparent;\n",
              "      border-right-color: var(--fill-color);\n",
              "    }\n",
              "    80% {\n",
              "      border-color: transparent;\n",
              "      border-right-color: var(--fill-color);\n",
              "      border-bottom-color: var(--fill-color);\n",
              "    }\n",
              "    90% {\n",
              "      border-color: transparent;\n",
              "      border-bottom-color: var(--fill-color);\n",
              "    }\n",
              "  }\n",
              "</style>\n",
              "\n",
              "  <script>\n",
              "    async function quickchart(key) {\n",
              "      const quickchartButtonEl =\n",
              "        document.querySelector('#' + key + ' button');\n",
              "      quickchartButtonEl.disabled = true;  // To prevent multiple clicks.\n",
              "      quickchartButtonEl.classList.add('colab-df-spinner');\n",
              "      try {\n",
              "        const charts = await google.colab.kernel.invokeFunction(\n",
              "            'suggestCharts', [key], {});\n",
              "      } catch (error) {\n",
              "        console.error('Error during call to suggestCharts:', error);\n",
              "      }\n",
              "      quickchartButtonEl.classList.remove('colab-df-spinner');\n",
              "      quickchartButtonEl.classList.add('colab-df-quickchart-complete');\n",
              "    }\n",
              "    (() => {\n",
              "      let quickchartButtonEl =\n",
              "        document.querySelector('#df-e20062fa-29cb-4a26-b7d4-eae896be8b5f button');\n",
              "      quickchartButtonEl.style.display =\n",
              "        google.colab.kernel.accessAllowed ? 'block' : 'none';\n",
              "    })();\n",
              "  </script>\n",
              "</div>\n",
              "    </div>\n",
              "  </div>\n"
            ]
          },
          "metadata": {},
          "execution_count": 17
        }
      ],
      "source": [
        "df = df.loc[df['zscore'] == 0]\n",
        "df.drop(axis=1, columns=['zscore'], inplace=True)\n",
        "df"
      ]
    },
    {
      "cell_type": "markdown",
      "metadata": {
        "id": "hMJ3LQA62_z7"
      },
      "source": [
        "# Model building"
      ]
    },
    {
      "cell_type": "markdown",
      "metadata": {
        "id": "YraRCGS33aCP"
      },
      "source": [
        "# Basic algorithm"
      ]
    },
    {
      "cell_type": "markdown",
      "metadata": {
        "id": "-tN2AKL6myfS"
      },
      "source": [
        "Use <code>train_test_split</code> to split the dataset into training and test samples with the parameters `test_size=0.2, random_state=27`. Use stratification by column `Personal Loan`."
      ]
    },
    {
      "cell_type": "code",
      "execution_count": 18,
      "metadata": {
        "id": "y1YG3JZ9oDMI"
      },
      "outputs": [],
      "source": [
        "from sklearn.model_selection import train_test_split\n",
        "\n",
        "train, test = train_test_split(df, test_size=0.2, random_state=27, stratify=df['Personal Loan'])"
      ]
    },
    {
      "cell_type": "code",
      "source": [
        "y_train = train['Personal Loan']\n",
        "y_test = test['Personal Loan']\n",
        "\n",
        "X_train = train.drop(axis=1, columns=['Personal Loan'])\n",
        "X_test = test.drop(axis=1, columns=['Personal Loan'])"
      ],
      "metadata": {
        "id": "4d68sbnby61J"
      },
      "execution_count": 19,
      "outputs": []
    },
    {
      "cell_type": "markdown",
      "metadata": {
        "id": "0NyWOkh13iNC"
      },
      "source": [
        "Train the `DecisionTreeClassifier()` model on the training dataset with the following parameters: `random_state=27, criterion='gini'`. Evaluate the model on test dataset. Compute <code>f1_score</code> of the model on test dataset."
      ]
    },
    {
      "cell_type": "code",
      "execution_count": 20,
      "metadata": {
        "id": "BJNg02bbaJj2"
      },
      "outputs": [],
      "source": [
        "from sklearn.tree import DecisionTreeClassifier\n",
        "\n",
        "dtc1 = DecisionTreeClassifier(random_state=27, criterion='gini').fit(X_train, y_train)"
      ]
    },
    {
      "cell_type": "code",
      "source": [
        "from sklearn.metrics import f1_score\n",
        "\n",
        "y_pred1 = dtc1.predict(X_test)\n",
        "round(f1_score(y_test, y_pred1), 3)"
      ],
      "metadata": {
        "colab": {
          "base_uri": "https://localhost:8080/"
        },
        "id": "knuxik9uzJgk",
        "outputId": "ff140ab5-e1ab-46d2-eb4c-07dd3153dab8"
      },
      "execution_count": 21,
      "outputs": [
        {
          "output_type": "execute_result",
          "data": {
            "text/plain": [
              "0.867"
            ]
          },
          "metadata": {},
          "execution_count": 21
        }
      ]
    },
    {
      "cell_type": "markdown",
      "source": [
        "Train the `DecisionTreeClassifier()` model on the training dataset with the following parameters: `random_state=27, criterion='entropy'`. Evaluate the model on test dataset. Compute `f1_score() `of the model on test dataset."
      ],
      "metadata": {
        "id": "MRPLpWj4zYnh"
      }
    },
    {
      "cell_type": "code",
      "source": [
        "dtc2 = DecisionTreeClassifier(random_state=27, criterion='entropy').fit(X_train, y_train)\n",
        "\n",
        "y_pred2 = dtc2.predict(X_test)\n",
        "round(f1_score(y_test, y_pred2), 3)"
      ],
      "metadata": {
        "colab": {
          "base_uri": "https://localhost:8080/"
        },
        "id": "rc6NpDPKzdsg",
        "outputId": "78f76709-b2d8-4038-8d1e-c197b108f77a"
      },
      "execution_count": 22,
      "outputs": [
        {
          "output_type": "execute_result",
          "data": {
            "text/plain": [
              "0.853"
            ]
          },
          "metadata": {},
          "execution_count": 22
        }
      ]
    },
    {
      "cell_type": "markdown",
      "metadata": {
        "id": "nz9iFfBK4KhL"
      },
      "source": [
        "## Consideration of class ratio imbalance"
      ]
    },
    {
      "cell_type": "markdown",
      "metadata": {
        "id": "3x7OGwQwa8V6"
      },
      "source": [
        "And now, if we remember that the dataset is unbalanced, we can specify an additional parameter <code>class_weight</code>. Train the <code>DecisionTreeClassifier</code> model on the training dataset with the parameters from your individual assignment. Compute <code>f1_score</code> of the model on test dataset."
      ]
    },
    {
      "cell_type": "code",
      "execution_count": 23,
      "metadata": {
        "id": "gug5fOXAbMC6",
        "colab": {
          "base_uri": "https://localhost:8080/"
        },
        "outputId": "aabb79b0-5322-47c6-d6b0-9b322041efa3"
      },
      "outputs": [
        {
          "output_type": "execute_result",
          "data": {
            "text/plain": [
              "0.881"
            ]
          },
          "metadata": {},
          "execution_count": 23
        }
      ],
      "source": [
        "dtc3 = DecisionTreeClassifier(random_state=27, criterion='gini', class_weight='balanced').fit(X_train, y_train)\n",
        "\n",
        "y_pred3 = dtc3.predict(X_test)\n",
        "round(f1_score(y_test, y_pred3), 3)"
      ]
    },
    {
      "cell_type": "code",
      "source": [
        "dtc4 = DecisionTreeClassifier(random_state=27, criterion='entropy', class_weight='balanced').fit(X_train, y_train)\n",
        "\n",
        "y_pred4 = dtc4.predict(X_test)\n",
        "round(f1_score(y_test, y_pred4), 3)"
      ],
      "metadata": {
        "colab": {
          "base_uri": "https://localhost:8080/"
        },
        "id": "UrkxgzED0WKf",
        "outputId": "d0760a40-f0e3-4a48-c717-9df810558049"
      },
      "execution_count": 24,
      "outputs": [
        {
          "output_type": "execute_result",
          "data": {
            "text/plain": [
              "0.881"
            ]
          },
          "metadata": {},
          "execution_count": 24
        }
      ]
    },
    {
      "cell_type": "markdown",
      "metadata": {
        "id": "8UgBmYo44pDE"
      },
      "source": [
        "## Upsampling of training dataset"
      ]
    },
    {
      "cell_type": "markdown",
      "metadata": {
        "id": "r5SQS_D0baaQ"
      },
      "source": [
        "In addition to the obvious assignment of weights to unbalanced classes, we can use the algorithm <code>SMOTE</code>. It receives instances of all classes with their labels as input, and in turn tries to extrapolate the data distribution of that class itself based on them. It then samples new class objects until the number of objects of each class is the same.\n",
        "\n",
        "It turns out that in this case a balanced sample will be obtained, and there will be no need to fiddle with weights and so on.\n",
        "\n",
        "Determine the proportion of elements of class $0$ of the training dataset."
      ]
    },
    {
      "cell_type": "code",
      "execution_count": 25,
      "metadata": {
        "id": "nOv98H3_ei8Z",
        "colab": {
          "base_uri": "https://localhost:8080/"
        },
        "outputId": "8c902723-c94d-4ee9-8599-fa46180d9994"
      },
      "outputs": [
        {
          "output_type": "execute_result",
          "data": {
            "text/plain": [
              "0.911"
            ]
          },
          "metadata": {},
          "execution_count": 25
        }
      ],
      "source": [
        "round(df['Personal Loan'].value_counts()[0] / df.shape[0], 3)"
      ]
    },
    {
      "cell_type": "markdown",
      "metadata": {
        "id": "DUrm8j5R6-dq"
      },
      "source": [
        "Using the <a href=\"https://imbalanced-learn.org/stable/references/generated/imblearn.over_sampling.SMOTE.html\"><code>SMOTE</code></a> class from the <code>imblearn.over_sampling</code> module, balance the training dataset with the parameters `random_state=27`."
      ]
    },
    {
      "cell_type": "code",
      "execution_count": 27,
      "metadata": {
        "id": "YWr1Mll1eYcd"
      },
      "outputs": [],
      "source": [
        "from imblearn.over_sampling import SMOTE\n",
        "\n",
        "sm = SMOTE(random_state=27)"
      ]
    },
    {
      "cell_type": "code",
      "source": [
        "#X = df.copy(deep=True)\n",
        "#X.drop(axis=1, columns=['Personal Loan'], inplace=True)\n",
        "\n",
        "#y = df['Personal Loan']\n",
        "\n",
        "X_res, y_res = sm.fit_resample(X_train, y_train)"
      ],
      "metadata": {
        "id": "h_w6xgi012Ah"
      },
      "execution_count": 28,
      "outputs": []
    },
    {
      "cell_type": "code",
      "source": [
        "y_res.value_counts()"
      ],
      "metadata": {
        "colab": {
          "base_uri": "https://localhost:8080/"
        },
        "id": "h2clkBMJ3kpf",
        "outputId": "fea96413-ab4c-4a19-b140-392710ef5628"
      },
      "execution_count": 30,
      "outputs": [
        {
          "output_type": "execute_result",
          "data": {
            "text/plain": [
              "0    2855\n",
              "1    2855\n",
              "Name: Personal Loan, dtype: int64"
            ]
          },
          "metadata": {},
          "execution_count": 30
        }
      ]
    },
    {
      "cell_type": "markdown",
      "metadata": {
        "id": "4xd6pDvt9Yxj"
      },
      "source": [
        "Make sure that the dataset now contains the same number of representatives of both classes.\n",
        "\n",
        "Enter the number of objects of class $1$ of the training dataset after the upsampling."
      ]
    },
    {
      "cell_type": "code",
      "execution_count": 34,
      "metadata": {
        "id": "lASmMyIee9FB",
        "colab": {
          "base_uri": "https://localhost:8080/"
        },
        "outputId": "13d03e0e-299c-4daa-c6ce-3c9de2bde438"
      },
      "outputs": [
        {
          "output_type": "execute_result",
          "data": {
            "text/plain": [
              "2855"
            ]
          },
          "metadata": {},
          "execution_count": 34
        }
      ],
      "source": [
        "y_res.value_counts()[1]"
      ]
    },
    {
      "cell_type": "markdown",
      "metadata": {
        "id": "-7M3ua0zfCl5"
      },
      "source": [
        "Train the `DecisionTreeClassifier()` model on the training dataset after upsampling with the following parameters: `random_state=27, criterion='gini'`. Evaluate the model on test dataset. Compute `f1_score()` of the model on test dataset."
      ]
    },
    {
      "cell_type": "code",
      "source": [
        "dtc5 = DecisionTreeClassifier(random_state=27, criterion='gini').fit(X_res, y_res)\n",
        "\n",
        "y_pred5 = dtc5.predict(X_test)\n",
        "round(f1_score(y_test, y_pred5), 3)"
      ],
      "metadata": {
        "colab": {
          "base_uri": "https://localhost:8080/"
        },
        "id": "3Kcg7pTN4jjX",
        "outputId": "f6798328-d53e-4301-9421-1cf0c4c240bd"
      },
      "execution_count": 37,
      "outputs": [
        {
          "output_type": "execute_result",
          "data": {
            "text/plain": [
              "0.842"
            ]
          },
          "metadata": {},
          "execution_count": 37
        }
      ]
    },
    {
      "cell_type": "markdown",
      "source": [
        "Train the `DecisionTreeClassifier()` model on the training dataset after upsampling with the following parameters: `random_state=27, criterion='entropy'`. Evaluate the model on test dataset.\n",
        "\n",
        "Compute `f1_score()` of the model on test dataset."
      ],
      "metadata": {
        "id": "F2bnjZTw4fkB"
      }
    },
    {
      "cell_type": "code",
      "execution_count": 35,
      "metadata": {
        "id": "3J1YZg6ufFxo",
        "colab": {
          "base_uri": "https://localhost:8080/"
        },
        "outputId": "3f59ff87-19ea-4cc1-d7e6-3d0db7f58d2c"
      },
      "outputs": [
        {
          "output_type": "execute_result",
          "data": {
            "text/plain": [
              "0.829"
            ]
          },
          "metadata": {},
          "execution_count": 35
        }
      ],
      "source": [
        "dtc6 = DecisionTreeClassifier(random_state=27, criterion='entropy').fit(X_res, y_res)\n",
        "\n",
        "y_pred6 = dtc6.predict(X_test)\n",
        "round(f1_score(y_test, y_pred6), 3)"
      ]
    }
  ],
  "metadata": {
    "colab": {
      "provenance": [],
      "include_colab_link": true
    },
    "kernelspec": {
      "display_name": "Python 3 (ipykernel)",
      "language": "python",
      "name": "python3"
    },
    "language_info": {
      "codemirror_mode": {
        "name": "ipython",
        "version": 3
      },
      "file_extension": ".py",
      "mimetype": "text/x-python",
      "name": "python",
      "nbconvert_exporter": "python",
      "pygments_lexer": "ipython3",
      "version": "3.8.10"
    }
  },
  "nbformat": 4,
  "nbformat_minor": 0
}